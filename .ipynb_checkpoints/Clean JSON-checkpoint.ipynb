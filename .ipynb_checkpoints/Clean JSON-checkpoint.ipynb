{
 "cells": [
  {
   "cell_type": "code",
   "execution_count": 177,
   "metadata": {},
   "outputs": [],
   "source": [
    "import pandas as pd"
   ]
  },
  {
   "cell_type": "code",
   "execution_count": 371,
   "metadata": {},
   "outputs": [],
   "source": [
    "teses_Subject_petroleo = pd.read_json('BDTD/New_Subject_petroleo.json', orient = 'index')\n",
    "teses_petrobras_BDTD = pd.read_json('Petrobras/New_teses_petrobras_BDTD.json', orient = 'index')\n",
    "link = 'http://bdtd.ibict.br/vufind/Record/FGV_2d24e27f62b578882ff97a9ce822a896'"
   ]
  },
  {
   "cell_type": "code",
   "execution_count": 372,
   "metadata": {},
   "outputs": [
    {
     "ename": "KeyError",
     "evalue": "'the label [http://bdtd.ibict.br/vufind/Record/UFC-7_35576227cbcc358c44e8c977efd32d92] is not in the [index]'",
     "output_type": "error",
     "traceback": [
      "\u001b[1;31m---------------------------------------------------------------------------\u001b[0m",
      "\u001b[1;31mKeyError\u001b[0m                                  Traceback (most recent call last)",
      "\u001b[1;32mC:\\ProgramData\\Anaconda3\\lib\\site-packages\\pandas\\core\\indexing.py\u001b[0m in \u001b[0;36m_validate_key\u001b[1;34m(self, key, axis)\u001b[0m\n\u001b[0;32m   1789\u001b[0m                 \u001b[1;32mif\u001b[0m \u001b[1;32mnot\u001b[0m \u001b[0max\u001b[0m\u001b[1;33m.\u001b[0m\u001b[0mcontains\u001b[0m\u001b[1;33m(\u001b[0m\u001b[0mkey\u001b[0m\u001b[1;33m)\u001b[0m\u001b[1;33m:\u001b[0m\u001b[1;33m\u001b[0m\u001b[1;33m\u001b[0m\u001b[0m\n\u001b[1;32m-> 1790\u001b[1;33m                     \u001b[0merror\u001b[0m\u001b[1;33m(\u001b[0m\u001b[1;33m)\u001b[0m\u001b[1;33m\u001b[0m\u001b[1;33m\u001b[0m\u001b[0m\n\u001b[0m\u001b[0;32m   1791\u001b[0m             \u001b[1;32mexcept\u001b[0m \u001b[0mTypeError\u001b[0m \u001b[1;32mas\u001b[0m \u001b[0me\u001b[0m\u001b[1;33m:\u001b[0m\u001b[1;33m\u001b[0m\u001b[1;33m\u001b[0m\u001b[0m\n",
      "\u001b[1;32mC:\\ProgramData\\Anaconda3\\lib\\site-packages\\pandas\\core\\indexing.py\u001b[0m in \u001b[0;36merror\u001b[1;34m()\u001b[0m\n\u001b[0;32m   1784\u001b[0m                                .format(key=key,\n\u001b[1;32m-> 1785\u001b[1;33m                                        axis=self.obj._get_axis_name(axis)))\n\u001b[0m\u001b[0;32m   1786\u001b[0m \u001b[1;33m\u001b[0m\u001b[0m\n",
      "\u001b[1;31mKeyError\u001b[0m: 'the label [http://bdtd.ibict.br/vufind/Record/UFC-7_35576227cbcc358c44e8c977efd32d92] is not in the [index]'",
      "\nDuring handling of the above exception, another exception occurred:\n",
      "\u001b[1;31mKeyError\u001b[0m                                  Traceback (most recent call last)",
      "\u001b[1;32m<ipython-input-372-025f7d8e08a7>\u001b[0m in \u001b[0;36m<module>\u001b[1;34m\u001b[0m\n\u001b[1;32m----> 1\u001b[1;33m \u001b[0mteses_Subject_petroleo\u001b[0m\u001b[1;33m.\u001b[0m\u001b[0mloc\u001b[0m\u001b[1;33m[\u001b[0m\u001b[0mlink\u001b[0m\u001b[1;33m]\u001b[0m\u001b[1;33m[\u001b[0m\u001b[1;34m'Resumo Português:'\u001b[0m\u001b[1;33m]\u001b[0m\u001b[1;33m\u001b[0m\u001b[1;33m\u001b[0m\u001b[0m\n\u001b[0m",
      "\u001b[1;32mC:\\ProgramData\\Anaconda3\\lib\\site-packages\\pandas\\core\\indexing.py\u001b[0m in \u001b[0;36m__getitem__\u001b[1;34m(self, key)\u001b[0m\n\u001b[0;32m   1476\u001b[0m \u001b[1;33m\u001b[0m\u001b[0m\n\u001b[0;32m   1477\u001b[0m             \u001b[0mmaybe_callable\u001b[0m \u001b[1;33m=\u001b[0m \u001b[0mcom\u001b[0m\u001b[1;33m.\u001b[0m\u001b[0m_apply_if_callable\u001b[0m\u001b[1;33m(\u001b[0m\u001b[0mkey\u001b[0m\u001b[1;33m,\u001b[0m \u001b[0mself\u001b[0m\u001b[1;33m.\u001b[0m\u001b[0mobj\u001b[0m\u001b[1;33m)\u001b[0m\u001b[1;33m\u001b[0m\u001b[1;33m\u001b[0m\u001b[0m\n\u001b[1;32m-> 1478\u001b[1;33m             \u001b[1;32mreturn\u001b[0m \u001b[0mself\u001b[0m\u001b[1;33m.\u001b[0m\u001b[0m_getitem_axis\u001b[0m\u001b[1;33m(\u001b[0m\u001b[0mmaybe_callable\u001b[0m\u001b[1;33m,\u001b[0m \u001b[0maxis\u001b[0m\u001b[1;33m=\u001b[0m\u001b[0maxis\u001b[0m\u001b[1;33m)\u001b[0m\u001b[1;33m\u001b[0m\u001b[1;33m\u001b[0m\u001b[0m\n\u001b[0m\u001b[0;32m   1479\u001b[0m \u001b[1;33m\u001b[0m\u001b[0m\n\u001b[0;32m   1480\u001b[0m     \u001b[1;32mdef\u001b[0m \u001b[0m_is_scalar_access\u001b[0m\u001b[1;33m(\u001b[0m\u001b[0mself\u001b[0m\u001b[1;33m,\u001b[0m \u001b[0mkey\u001b[0m\u001b[1;33m)\u001b[0m\u001b[1;33m:\u001b[0m\u001b[1;33m\u001b[0m\u001b[1;33m\u001b[0m\u001b[0m\n",
      "\u001b[1;32mC:\\ProgramData\\Anaconda3\\lib\\site-packages\\pandas\\core\\indexing.py\u001b[0m in \u001b[0;36m_getitem_axis\u001b[1;34m(self, key, axis)\u001b[0m\n\u001b[0;32m   1909\u001b[0m \u001b[1;33m\u001b[0m\u001b[0m\n\u001b[0;32m   1910\u001b[0m         \u001b[1;31m# fall thru to straight lookup\u001b[0m\u001b[1;33m\u001b[0m\u001b[1;33m\u001b[0m\u001b[1;33m\u001b[0m\u001b[0m\n\u001b[1;32m-> 1911\u001b[1;33m         \u001b[0mself\u001b[0m\u001b[1;33m.\u001b[0m\u001b[0m_validate_key\u001b[0m\u001b[1;33m(\u001b[0m\u001b[0mkey\u001b[0m\u001b[1;33m,\u001b[0m \u001b[0maxis\u001b[0m\u001b[1;33m)\u001b[0m\u001b[1;33m\u001b[0m\u001b[1;33m\u001b[0m\u001b[0m\n\u001b[0m\u001b[0;32m   1912\u001b[0m         \u001b[1;32mreturn\u001b[0m \u001b[0mself\u001b[0m\u001b[1;33m.\u001b[0m\u001b[0m_get_label\u001b[0m\u001b[1;33m(\u001b[0m\u001b[0mkey\u001b[0m\u001b[1;33m,\u001b[0m \u001b[0maxis\u001b[0m\u001b[1;33m=\u001b[0m\u001b[0maxis\u001b[0m\u001b[1;33m)\u001b[0m\u001b[1;33m\u001b[0m\u001b[1;33m\u001b[0m\u001b[0m\n\u001b[0;32m   1913\u001b[0m \u001b[1;33m\u001b[0m\u001b[0m\n",
      "\u001b[1;32mC:\\ProgramData\\Anaconda3\\lib\\site-packages\\pandas\\core\\indexing.py\u001b[0m in \u001b[0;36m_validate_key\u001b[1;34m(self, key, axis)\u001b[0m\n\u001b[0;32m   1796\u001b[0m                 \u001b[1;32mraise\u001b[0m\u001b[1;33m\u001b[0m\u001b[1;33m\u001b[0m\u001b[0m\n\u001b[0;32m   1797\u001b[0m             \u001b[1;32mexcept\u001b[0m\u001b[1;33m:\u001b[0m\u001b[1;33m\u001b[0m\u001b[1;33m\u001b[0m\u001b[0m\n\u001b[1;32m-> 1798\u001b[1;33m                 \u001b[0merror\u001b[0m\u001b[1;33m(\u001b[0m\u001b[1;33m)\u001b[0m\u001b[1;33m\u001b[0m\u001b[1;33m\u001b[0m\u001b[0m\n\u001b[0m\u001b[0;32m   1799\u001b[0m \u001b[1;33m\u001b[0m\u001b[0m\n\u001b[0;32m   1800\u001b[0m     \u001b[1;32mdef\u001b[0m \u001b[0m_is_scalar_access\u001b[0m\u001b[1;33m(\u001b[0m\u001b[0mself\u001b[0m\u001b[1;33m,\u001b[0m \u001b[0mkey\u001b[0m\u001b[1;33m)\u001b[0m\u001b[1;33m:\u001b[0m\u001b[1;33m\u001b[0m\u001b[1;33m\u001b[0m\u001b[0m\n",
      "\u001b[1;32mC:\\ProgramData\\Anaconda3\\lib\\site-packages\\pandas\\core\\indexing.py\u001b[0m in \u001b[0;36merror\u001b[1;34m()\u001b[0m\n\u001b[0;32m   1783\u001b[0m                 raise KeyError(u\"the label [{key}] is not in the [{axis}]\"\n\u001b[0;32m   1784\u001b[0m                                .format(key=key,\n\u001b[1;32m-> 1785\u001b[1;33m                                        axis=self.obj._get_axis_name(axis)))\n\u001b[0m\u001b[0;32m   1786\u001b[0m \u001b[1;33m\u001b[0m\u001b[0m\n\u001b[0;32m   1787\u001b[0m             \u001b[1;32mtry\u001b[0m\u001b[1;33m:\u001b[0m\u001b[1;33m\u001b[0m\u001b[1;33m\u001b[0m\u001b[0m\n",
      "\u001b[1;31mKeyError\u001b[0m: 'the label [http://bdtd.ibict.br/vufind/Record/UFC-7_35576227cbcc358c44e8c977efd32d92] is not in the [index]'"
     ]
    }
   ],
   "source": [
    "teses_Subject_petroleo.loc[link]['Resumo Português:']"
   ]
  },
  {
   "cell_type": "code",
   "execution_count": 337,
   "metadata": {},
   "outputs": [],
   "source": [
    "new_abstract_portugues = None\n",
    "new_abstract_ingles = \"This study presents experimental data analyses of charge and discharge cycles in a prototype vessel of adsorbed natural gas (ANG) storage in a bed of activated carbon, compared with simulations obtained with a mathematical model proposed to foresee the behavior of pressure, average temperature and stored mass and delivery of natural gas in a given reservoir. To validate the model, each input parameter was independently calculated through analyses of the used carbon sample’s textural characteristics and the acquirement of adsorption equilibrium isotherms of methane in the same carbon sample. It was also obtained the adsorption isotherms of ethane, propane and butane, constituent of the natural gas (NG) in smaller proportions, for evaluation of the composition influence in the storage process efficiency. The textural characteristics analyses were run in a volumetric apparatus through the obtaining of nitrogen isotherms at 77 K. The adsorption equilibrium data of the NG components were acquired with the support of a magnetic suspension balance. In an initial stage, it was used experiments with natural gas and simulations with pure methane. The results showed discrepancies in the model prediction, leading to the conclusion that it is inadequate to assume that the natural gas presents behavior similar to the one of its larger proportion component, methane, for this case. Consequently, in another stage, simulations were compared with experiments using pure methane and a good agreement was observed in the results comparisons. Histories of pressure and stored mass were satisfactorily well predicted and, despite heat effects, not precisely taken into account in the model, there was a reasonably good agreement between simulation and experiment for the average temperature inside the vessel. Conclusively, the model was suitable for the prediction of the phenomena involved in an ANG storage process.\""
   ]
  },
  {
   "cell_type": "code",
   "execution_count": 338,
   "metadata": {},
   "outputs": [],
   "source": [
    "teses_Subject_petroleo.at[link, 'Resumo Português:'] = new_abstract_portugues\n",
    "teses_Subject_petroleo.at[link, 'Resumo inglês:'] = new_abstract_ingles"
   ]
  },
  {
   "cell_type": "code",
   "execution_count": 343,
   "metadata": {},
   "outputs": [],
   "source": [
    "teses_Subject_petroleo = teses_Subject_petroleo.drop([link])"
   ]
  },
  {
   "cell_type": "code",
   "execution_count": 339,
   "metadata": {},
   "outputs": [],
   "source": [
    "teses_Subject_petroleo.loc[link]['Resumo Português:']"
   ]
  },
  {
   "cell_type": "code",
   "execution_count": 344,
   "metadata": {},
   "outputs": [],
   "source": [
    "teses_Subject_petroleo.to_json('BDTD/New_Subject_petroleo.json', orient='index')\n",
    "teses_petrobras_BDTD.to_json('Petrobras/New_teses_petrobras_BDTD.json', orient='index')"
   ]
  },
  {
   "cell_type": "code",
   "execution_count": null,
   "metadata": {},
   "outputs": [],
   "source": []
  },
  {
   "cell_type": "code",
   "execution_count": null,
   "metadata": {},
   "outputs": [],
   "source": []
  },
  {
   "cell_type": "code",
   "execution_count": null,
   "metadata": {},
   "outputs": [],
   "source": []
  },
  {
   "cell_type": "code",
   "execution_count": 812,
   "metadata": {},
   "outputs": [],
   "source": [
    "teses_Subject_petroleo = pd.read_json('BDTD/New_Subject_petroleo.json', orient = 'index')\n",
    "teses_petrobras_BDTD = pd.read_json('Petrobras/New_teses_petrobras_BDTD.json', orient = 'index')\n",
    "link = 'http://bdtd.ibict.br/vufind/Record/CAMP_81f9ca1d1ea3542f73bf5fb0c87a3134'"
   ]
  },
  {
   "cell_type": "code",
   "execution_count": 789,
   "metadata": {},
   "outputs": [
    {
     "data": {
      "text/plain": [
       "'Apesar das grandes vantagens decorrentes da interpreta??o conjunta de dados geof?sicos, a aplica??o da invers?o simult?nea destes dados tem sido pouco estudada, principalmente a n?vel de simula??o. Este trabalho foi desenvolvido com intuito de cobrir parte desta defici?ncia. Neste trabalho, foi utilizado o m?todo dos m?nimos quadrados para comparar os resultados obtidos a partir de: a) invers?o dos grupos de dados gravim?tricos, magn?ticos e resistivos tomados separadamente; b) invers?o simult?nea destes grupos de dados combinados dois a dois; c) invers?o simult?nea dos tr?s grupos de dados. O trabalho ? desenvolvido a partir de dados te?ricos onde s?o simuladas diversas situa??es geol?gicas. A compara??o dos resultados ? efetuada a partir das estimativas dos par?metros obtidos por cada invers?o, pelos desvios padr?es de cada par?metro (invers?o gravimetria-magnetometria para o ru?do Gaussiano) e pela redu??o da ambiguidade, manifestada pela depend?ncia das estimativas em rela??o a aproxima??o inicial dos par?metros. Na maioria dos casos estudados as invers?es conjuntas dos dados combinados dois a dois apresentam resultados bem superiores ?queles obtidos usando-se apenas um dos grupos de dados isoladamente, seja nas estimativas dos par?metros, seja na redu??o da ambiguidade. Por sua vez, a invers?o conjunta dos tr?s grupos de dados apresentam resultados semelhantes ?s invers?es dos grupos de dados combinados dois a dois, contudo em alguns casos a invers?o conjunta dos tr?s grupos de dados ? a ?nica totalmente independente da aproxima??o inicial. Dados gravim?tricos e magn?ticos de duas anomalias reais foram invertidos, produzindo sempre curvas estimadas bem ajustadas aos valores observados.Despite its advantages, the application of joint inversion to real data is not a current practice. One of the difficulties involving joint interpretation of geophysical data is the lack of systematic studies designed to assess its performance in a variety of simulated geological settings. This thesis is a contribution to this kind of study. This thesis compares the inversion of three sets of geophysical data: gravity, magnetic, and resistivity. The standard inversions of each set are compared with the 3 possible joint inversions of two sets of data, and also with the joint inversion involving the three sets. The comparison is performed using sinthetic data produced by a two-dimensional rectangular prism with finite thickness, and the least squares method is employed in the solution of the standard nonlinear problem of determining the prism parameters. The criteria adopted for the comparison were the parameter estimates themselves, the parameter standard deviations (for gravity and magnetic inversion of noise corrupted data), and also the reduction of ambiguity detected by the dependence of the parameter estimates on the initial guess. We found that, in general, the joint inversion using two sets of data produces better results than the inversion of each individual set. On the other hand, the results of the joint inversion employing all three sets are similar to the results of the joint inversions using two sets of data. In some cases, however, the joint inversion using all three sets is the only one virtually independent of the initial guess. Applications to real anomalies are presented.'"
      ]
     },
     "execution_count": 789,
     "metadata": {},
     "output_type": "execute_result"
    }
   ],
   "source": [
    "teses_petrobras_BDTD.loc[link]['Resumo Português:']"
   ]
  },
  {
   "cell_type": "code",
   "execution_count": 790,
   "metadata": {},
   "outputs": [],
   "source": [
    "new_abstract_portugues = 'Apesar das grandes vantagens decorrentes da interpreta??o conjunta de dados geof?sicos, a aplica??o da invers?o simult?nea destes dados tem sido pouco estudada, principalmente a n?vel de simula??o. Este trabalho foi desenvolvido com intuito de cobrir parte desta defici?ncia. Neste trabalho, foi utilizado o m?todo dos m?nimos quadrados para comparar os resultados obtidos a partir de: a) invers?o dos grupos de dados gravim?tricos, magn?ticos e resistivos tomados separadamente; b) invers?o simult?nea destes grupos de dados combinados dois a dois; c) invers?o simult?nea dos tr?s grupos de dados. O trabalho ? desenvolvido a partir de dados te?ricos onde s?o simuladas diversas situa??es geol?gicas. A compara??o dos resultados ? efetuada a partir das estimativas dos par?metros obtidos por cada invers?o, pelos desvios padr?es de cada par?metro (invers?o gravimetria-magnetometria para o ru?do Gaussiano) e pela redu??o da ambiguidade, manifestada pela depend?ncia das estimativas em rela??o a aproxima??o inicial dos par?metros. Na maioria dos casos estudados as invers?es conjuntas dos dados combinados dois a dois apresentam resultados bem superiores ?queles obtidos usando-se apenas um dos grupos de dados isoladamente, seja nas estimativas dos par?metros, seja na redu??o da ambiguidade. Por sua vez, a invers?o conjunta dos tr?s grupos de dados apresentam resultados semelhantes ?s invers?es dos grupos de dados combinados dois a dois, contudo em alguns casos a invers?o conjunta dos tr?s grupos de dados ? a ?nica totalmente independente da aproxima??o inicial. Dados gravim?tricos e magn?ticos de duas anomalias reais foram invertidos, produzindo sempre curvas estimadas bem ajustadas aos valores observados.'\n",
    "new_abstract_ingles = \"Despite its advantages, the application of joint inversion to real data is not a current practice. One of the difficulties involving joint interpretation of geophysical data is the lack of systematic studies designed to assess its performance in a variety of simulated geological settings. This thesis is a contribution to this kind of study. This thesis compares the inversion of three sets of geophysical data: gravity, magnetic, and resistivity. The standard inversions of each set are compared with the 3 possible joint inversions of two sets of data, and also with the joint inversion involving the three sets. The comparison is performed using sinthetic data produced by a two-dimensional rectangular prism with finite thickness, and the least squares method is employed in the solution of the standard nonlinear problem of determining the prism parameters. The criteria adopted for the comparison were the parameter estimates themselves, the parameter standard deviations (for gravity and magnetic inversion of noise corrupted data), and also the reduction of ambiguity detected by the dependence of the parameter estimates on the initial guess. We found that, in general, the joint inversion using two sets of data produces better results than the inversion of each individual set. On the other hand, the results of the joint inversion employing all three sets are similar to the results of the joint inversions using two sets of data. In some cases, however, the joint inversion using all three sets is the only one virtually independent of the initial guess. Applications to real anomalies are presented.\""
   ]
  },
  {
   "cell_type": "code",
   "execution_count": 791,
   "metadata": {},
   "outputs": [],
   "source": [
    "teses_petrobras_BDTD.at[link, 'Resumo Português:'] = new_abstract_portugues\n",
    "teses_petrobras_BDTD.at[link, 'Resumo inglês:'] = new_abstract_ingles"
   ]
  },
  {
   "cell_type": "code",
   "execution_count": 813,
   "metadata": {},
   "outputs": [],
   "source": [
    "teses_petrobras_BDTD = teses_petrobras_BDTD.drop([link])"
   ]
  },
  {
   "cell_type": "code",
   "execution_count": 792,
   "metadata": {},
   "outputs": [
    {
     "data": {
      "text/plain": [
       "'Apesar das grandes vantagens decorrentes da interpreta??o conjunta de dados geof?sicos, a aplica??o da invers?o simult?nea destes dados tem sido pouco estudada, principalmente a n?vel de simula??o. Este trabalho foi desenvolvido com intuito de cobrir parte desta defici?ncia. Neste trabalho, foi utilizado o m?todo dos m?nimos quadrados para comparar os resultados obtidos a partir de: a) invers?o dos grupos de dados gravim?tricos, magn?ticos e resistivos tomados separadamente; b) invers?o simult?nea destes grupos de dados combinados dois a dois; c) invers?o simult?nea dos tr?s grupos de dados. O trabalho ? desenvolvido a partir de dados te?ricos onde s?o simuladas diversas situa??es geol?gicas. A compara??o dos resultados ? efetuada a partir das estimativas dos par?metros obtidos por cada invers?o, pelos desvios padr?es de cada par?metro (invers?o gravimetria-magnetometria para o ru?do Gaussiano) e pela redu??o da ambiguidade, manifestada pela depend?ncia das estimativas em rela??o a aproxima??o inicial dos par?metros. Na maioria dos casos estudados as invers?es conjuntas dos dados combinados dois a dois apresentam resultados bem superiores ?queles obtidos usando-se apenas um dos grupos de dados isoladamente, seja nas estimativas dos par?metros, seja na redu??o da ambiguidade. Por sua vez, a invers?o conjunta dos tr?s grupos de dados apresentam resultados semelhantes ?s invers?es dos grupos de dados combinados dois a dois, contudo em alguns casos a invers?o conjunta dos tr?s grupos de dados ? a ?nica totalmente independente da aproxima??o inicial. Dados gravim?tricos e magn?ticos de duas anomalias reais foram invertidos, produzindo sempre curvas estimadas bem ajustadas aos valores observados.'"
      ]
     },
     "execution_count": 792,
     "metadata": {},
     "output_type": "execute_result"
    }
   ],
   "source": [
    "teses_petrobras_BDTD.loc[link]['Resumo Português:']"
   ]
  },
  {
   "cell_type": "code",
   "execution_count": 814,
   "metadata": {},
   "outputs": [],
   "source": [
    "teses_Subject_petroleo.to_json('BDTD/New_Subject_petroleo.json', orient='index')\n",
    "teses_petrobras_BDTD.to_json('Petrobras/New_teses_petrobras_BDTD.json', orient='index')"
   ]
  },
  {
   "cell_type": "code",
   "execution_count": null,
   "metadata": {},
   "outputs": [],
   "source": []
  }
 ],
 "metadata": {
  "kernelspec": {
   "display_name": "Python 3",
   "language": "python",
   "name": "python3"
  },
  "language_info": {
   "codemirror_mode": {
    "name": "ipython",
    "version": 3
   },
   "file_extension": ".py",
   "mimetype": "text/x-python",
   "name": "python",
   "nbconvert_exporter": "python",
   "pygments_lexer": "ipython3",
   "version": "3.6.9"
  }
 },
 "nbformat": 4,
 "nbformat_minor": 2
}
