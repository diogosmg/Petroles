{
 "cells": [
  {
   "cell_type": "markdown",
   "metadata": {},
   "source": [
    "Text Classification"
   ]
  },
  {
   "cell_type": "code",
   "execution_count": 35,
   "metadata": {},
   "outputs": [],
   "source": [
    "# Importando bibliotecas\n",
    "from sklearn import model_selection, preprocessing, linear_model, naive_bayes, metrics, svm\n",
    "from sklearn.feature_extraction.text import TfidfVectorizer, CountVectorizer\n",
    "from sklearn import decomposition, ensemble\n",
    "from random import shuffle\n",
    "import pandas as pd\n",
    "import numpy as np\n",
    "import xgboost, textblob, string\n",
    "from keras.preprocessing import text, sequence\n",
    "import tensorflow as tf\n",
    "from keras.models import Sequential\n",
    "from keras.utils import to_categorical\n",
    "from keras import layers, models, optimizers\n",
    "from keras.callbacks import EarlyStopping\n",
    "from keras.layers import Concatenate\n",
    "from keras.layers import Layer\n",
    "from keras.layers import Flatten\n",
    "import tensorflow as tf\n",
    "#from keras.layers import Attention\n",
    "from keras.initializers import get\n",
    "from bs4 import BeautifulSoup as bs\n",
    "import nltk\n",
    "from  nltk.corpus import stopwords\n",
    "from nltk.tokenize import word_tokenize\n",
    "import matplotlib.pyplot as plt\n",
    "import gensim\n",
    "from gensim.models import Word2Vec"
   ]
  },
  {
   "cell_type": "markdown",
   "metadata": {},
   "source": [
    "Preparando os dados"
   ]
  },
  {
   "cell_type": "code",
   "execution_count": 36,
   "metadata": {},
   "outputs": [],
   "source": [
    "teses_mesmas_areas_Large = pd.read_json('BDTD/teses_mesmas_areas.json', orient = 'index')\n",
    "tese_area_oposta_Large = pd.read_json('BDTD/teses_areas_opostas.json', orient = 'index')"
   ]
  },
  {
   "cell_type": "code",
   "execution_count": 37,
   "metadata": {},
   "outputs": [],
   "source": [
    "# Acrescentando a classe nos dois DataFrame\n",
    "teses_mesmas_areas_Large['classe'] = 'Mesma Area'\n",
    "tese_area_oposta_Large ['classe'] = 'Area Oposta'"
   ]
  },
  {
   "cell_type": "code",
   "execution_count": 38,
   "metadata": {},
   "outputs": [],
   "source": [
    "# Excluindo teses sem resumo em portugues\n",
    "teses_mesmas_areas_Large = teses_mesmas_areas_Large[(teses_mesmas_areas_Large['Resumo Português:'].notnull())]\n",
    "tese_area_oposta_Large = tese_area_oposta_Large[(tese_area_oposta_Large['Resumo Português:'].notnull())]"
   ]
  },
  {
   "cell_type": "code",
   "execution_count": 39,
   "metadata": {},
   "outputs": [],
   "source": [
    "# Preprocessando o texto\n",
    "teses_mesmas_areas_Large['Resumo Português:'] = (teses_mesmas_areas_Large['Resumo Português:'].apply(gensim.utils.simple_preprocess)\n",
    "                                                 .str.join(\" \"))\n",
    "tese_area_oposta_Large['Resumo Português:'] = (tese_area_oposta_Large['Resumo Português:'].apply(gensim.utils.simple_preprocess)\n",
    "                                               .str.join(\" \"))"
   ]
  },
  {
   "cell_type": "markdown",
   "metadata": {},
   "source": [
    "Dividindo o conjunto de treino, validação e de teste\n",
    "\n",
    "Vamos dividir os dados em 80% treino e 20% teste\n"
   ]
  },
  {
   "cell_type": "code",
   "execution_count": 40,
   "metadata": {},
   "outputs": [],
   "source": [
    "#Função que pega um dataframe com as teses e retorna três dataframes com dados de treino, validação e teste.\n",
    "#'train' é a fração dos dados para treino, 'valid' é a fração dos dados para validação, o restante é para teste\n",
    "def train_test(teses, train):\n",
    "    corte_train = int(round((len(teses)*train),0))\n",
    "    teses = teses.sample(frac=1)\n",
    "    teses_train = teses[:corte_train]\n",
    "    teses_test = teses[corte_train:]\n",
    "    return(teses_train, teses_test)"
   ]
  },
  {
   "cell_type": "code",
   "execution_count": 41,
   "metadata": {},
   "outputs": [],
   "source": [
    "mesmas_areas_train, mesmas_areas_test = train_test(teses_mesmas_areas_Large, 0.8)\n",
    "area_oposta_train, area_oposta_test = train_test(tese_area_oposta_Large, 0.8)"
   ]
  },
  {
   "cell_type": "code",
   "execution_count": 42,
   "metadata": {},
   "outputs": [
    {
     "name": "stderr",
     "output_type": "stream",
     "text": [
      "C:\\ProgramData\\Anaconda3\\lib\\site-packages\\pandas\\core\\frame.py:6211: FutureWarning: Sorting because non-concatenation axis is not aligned. A future version\n",
      "of pandas will change to not sort by default.\n",
      "\n",
      "To accept the future behavior, pass 'sort=False'.\n",
      "\n",
      "To retain the current behavior and silence the warning, pass 'sort=True'.\n",
      "\n",
      "  sort=sort)\n"
     ]
    }
   ],
   "source": [
    "# Train\n",
    "tese_train = mesmas_areas_train\n",
    "tese_train = tese_train.append(area_oposta_train)\n",
    "tese_train = tese_train.sample(frac=1).reset_index(drop=True)\n",
    "\n",
    "#Test\n",
    "tese_test = mesmas_areas_test\n",
    "tese_test = tese_test.append(area_oposta_test)\n",
    "tese_test = tese_test.sample(frac=1).reset_index(drop=True)"
   ]
  },
  {
   "cell_type": "code",
   "execution_count": 43,
   "metadata": {},
   "outputs": [],
   "source": [
    "# Separando texto e classe\n",
    "train_x = tese_train['Resumo Português:']\n",
    "train_y = tese_train['classe']\n",
    "\n",
    "test_x = tese_test['Resumo Português:']\n",
    "test_y = tese_test['classe']"
   ]
  },
  {
   "cell_type": "code",
   "execution_count": 44,
   "metadata": {},
   "outputs": [],
   "source": [
    "# label encode the target variable \n",
    "encoder = preprocessing.LabelEncoder()\n",
    "train_y = encoder.fit_transform(train_y)\n",
    "test_y  = encoder.transform(test_y)"
   ]
  },
  {
   "cell_type": "code",
   "execution_count": 45,
   "metadata": {},
   "outputs": [
    {
     "name": "stdout",
     "output_type": "stream",
     "text": [
      "Petrobras =  1\n",
      "Outro =  0\n"
     ]
    }
   ],
   "source": [
    "print ('Petrobras = ', encoder.transform(['Mesma Area'])[0])\n",
    "print ('Outro = ', encoder.transform(['Area Oposta'])[0])"
   ]
  },
  {
   "cell_type": "markdown",
   "metadata": {},
   "source": [
    "Gerando modelo de Embeddings a partir dos documentos da BDTD"
   ]
  },
  {
   "cell_type": "code",
   "execution_count": 46,
   "metadata": {},
   "outputs": [],
   "source": [
    "corpus = teses_mesmas_areas_Large['Resumo Português:']\n",
    "corpus = corpus.append(tese_area_oposta_Large['Resumo Português:'])\n",
    "corpus = corpus.str.cat(sep=' ')"
   ]
  },
  {
   "cell_type": "code",
   "execution_count": 47,
   "metadata": {},
   "outputs": [],
   "source": [
    "corpus = nltk.sent_tokenize(corpus) # this gives us a list of sentences\n",
    "shuffle(corpus)"
   ]
  },
  {
   "cell_type": "code",
   "execution_count": 48,
   "metadata": {},
   "outputs": [],
   "source": [
    "corpus_processado = []\n",
    "for sentence in corpus:\n",
    "    corpus_processado.append(word_tokenize(sentence))"
   ]
  },
  {
   "cell_type": "code",
   "execution_count": 49,
   "metadata": {},
   "outputs": [],
   "source": [
    "BDTD_word2vec_50 = Word2Vec(corpus_processado, size=50, window=10, min_count=1, workers=4, iter=50)"
   ]
  },
  {
   "cell_type": "code",
   "execution_count": 50,
   "metadata": {},
   "outputs": [
    {
     "data": {
      "text/plain": [
       "array([-0.128125  ,  0.27794737,  0.09348656,  0.2057832 , -0.166545  ,\n",
       "       -0.0547487 ,  0.17945245,  0.3792348 ,  0.06911934, -0.42344284,\n",
       "        0.08511329, -0.22463374, -0.21949996, -0.13083561,  0.12019698,\n",
       "       -0.12362721,  0.0212089 ,  0.04290789,  0.26312575,  0.16480999,\n",
       "       -0.23385291,  0.10226989,  0.06833579,  0.10360255, -0.23643033,\n",
       "        0.09313285,  0.04394902,  0.23568226,  0.09153353, -0.10416356,\n",
       "       -0.03433038, -0.05348637, -0.1196274 , -0.01388302, -0.10065921,\n",
       "       -0.45944387, -0.01477725,  0.02220318,  0.15545802,  0.01387624,\n",
       "       -0.01831145,  0.10986777,  0.01435492, -0.40509185,  0.03552613,\n",
       "        0.54393786, -0.341668  ,  0.04512925,  0.03555783,  0.3661125 ],\n",
       "      dtype=float32)"
      ]
     },
     "execution_count": 50,
     "metadata": {},
     "output_type": "execute_result"
    }
   ],
   "source": [
    "BDTD_word2vec_50.wv['água']"
   ]
  },
  {
   "cell_type": "code",
   "execution_count": 51,
   "metadata": {},
   "outputs": [
    {
     "data": {
      "text/plain": [
       "[('eficiência', 0.9984634518623352),\n",
       " ('umidade', 0.9944514036178589),\n",
       " ('agrícolas', 0.9880308508872986),\n",
       " ('irrigação', 0.9879574179649353),\n",
       " ('camadas', 0.9869022369384766),\n",
       " ('esmiuçou', 0.9811531901359558),\n",
       " ('diferiram', 0.978830099105835),\n",
       " ('auxílio', 0.9774894714355469),\n",
       " ('máximas', 0.9763681292533875),\n",
       " ('aplicadas', 0.9751459360122681)]"
      ]
     },
     "execution_count": 51,
     "metadata": {},
     "output_type": "execute_result"
    }
   ],
   "source": [
    "BDTD_word2vec_50.wv.similar_by_word('água')"
   ]
  },
  {
   "cell_type": "code",
   "execution_count": 52,
   "metadata": {},
   "outputs": [],
   "source": [
    "word2index = {}\n",
    "for index, word in enumerate(BDTD_word2vec_50.wv.index2word):\n",
    "    word2index[word] = index"
   ]
  },
  {
   "cell_type": "code",
   "execution_count": 53,
   "metadata": {},
   "outputs": [],
   "source": [
    "def index_pad_text(text, maxlen, word2index):\n",
    "    maxlen = 400\n",
    "    new_text = [] \n",
    "    for sent in text:\n",
    "        temp_sent = []\n",
    "        for word in word_tokenize(sent):\n",
    "            try:\n",
    "                temp_sent.append(word2index[word])\n",
    "            except:\n",
    "                pass\n",
    "        # Add the padding for each sentence. Here I am padding with 0\n",
    "        if len(temp_sent) > maxlen:\n",
    "            temp_sent = temp_sent[:400]\n",
    "        else:\n",
    "            temp_sent += [0] * (maxlen - len(temp_sent))\n",
    "        new_text.append(temp_sent)\n",
    "\n",
    "    return np.array(new_text)\n",
    "\n",
    "maxlen = 400\n",
    "train_seq_x = index_pad_text(train_x, maxlen, word2index)\n",
    "test_seq_x = index_pad_text(test_x, maxlen, word2index)"
   ]
  },
  {
   "cell_type": "markdown",
   "metadata": {},
   "source": [
    "**3. Model Building**  \n",
    "The final step in the text classification framework is to train a classifier using the features created in the previous step. There are many different choices of machine learning models which can be used to train a final model. We will implement following different classifiers for this purpose:  \n",
    " \n",
    "* Naive Bayes Classifier\n",
    "* Linear Classifier\n",
    "* Support Vector Machine\n",
    "* Bagging Models\n",
    "* Boosting Models\n",
    "* Shallow Neural Networks\n",
    "* Deep Neural Networks\n",
    "* Convolutional Neural Network (CNN)\n",
    "* Long Short Term Modelr (LSTM)\n",
    "* Gated Recurrent Unit (GRU)\n",
    "* Bidirectional RNN\n",
    "* Recurrent Convolutional Neural Network (RCNN)\n",
    "* Other Variants of Deep Neural Networks  \n",
    "\n",
    "Lets implement these models and understand their details. The following function is a utility function which can be used to train a model. It accepts the classifier, feature_vector of training data, labels of training data and feature vectors of valid data as inputs. Using these inputs, the model is trained and accuracy score is computed."
   ]
  },
  {
   "cell_type": "code",
   "execution_count": 54,
   "metadata": {},
   "outputs": [],
   "source": [
    "def train_model(classifier, feature_vector_train, label, feature_vector_test, is_neural_net=False):\n",
    "    # fit the training dataset on the classifier\n",
    "    \n",
    "    if is_neural_net:\n",
    "        callbacks = EarlyStopping(monitor='val_acc', mode='max', patience=3, restore_best_weights=True)\n",
    "        history = classifier.fit(feature_vector_train,\n",
    "                                 label, #to_categorical(label),\n",
    "                                 epochs=1000,\n",
    "                                 validation_split=0.25,\n",
    "                                 callbacks=[callbacks])\n",
    "        \n",
    "    # plot the loss\n",
    "        # list all data in history\n",
    "        print(history.history.keys())\n",
    "        # summarize history for loss\n",
    "        plt.plot(history.history['acc'])\n",
    "        plt.plot(history.history['val_acc'])\n",
    "        plt.title('model acc')\n",
    "        plt.ylabel('acc')\n",
    "        plt.xlabel('epoch')\n",
    "        plt.legend(['acc', 'val_acc'], loc='upper left')\n",
    "        plt.show()\n",
    "        \n",
    "    else:\n",
    "        classifier.fit(feature_vector_train, label)\n",
    "    \n",
    "    # predict the labels on validation dataset\n",
    "    predictions = classifier.predict(feature_vector_test)\n",
    "    predictions = np.rint(predictions)\n",
    "    \n",
    "    num_classes = 2\n",
    "    return (metrics.accuracy_score(predictions, test_y),\n",
    "            tf.confusion_matrix(predictions, test_y, num_classes))"
   ]
  },
  {
   "cell_type": "markdown",
   "metadata": {},
   "source": [
    "**3.7 Deep Neural Networks**  \n",
    "Deep Neural Networks are more complex neural networks in which the hidden layers performs much more complex operations than simple sigmoid or relu activations. Different types of deep learning models can be applied in text classification problems.\n",
    "![image.png](attachment:image.png)"
   ]
  },
  {
   "cell_type": "markdown",
   "metadata": {},
   "source": [
    "3.7.1 Convolutional Neural Network\n",
    "In Convolutional neural networks, convolutions over the input layer are used to compute the output. This results in local connections, where each region of the input is connected to a neuron in the output. Each layer applies different filters and combines their results.\n",
    "image.png\n"
   ]
  },
  {
   "cell_type": "code",
   "execution_count": 55,
   "metadata": {},
   "outputs": [
    {
     "name": "stdout",
     "output_type": "stream",
     "text": [
      "_________________________________________________________________\n",
      "Layer (type)                 Output Shape              Param #   \n",
      "=================================================================\n",
      "input_3 (InputLayer)         (None, 400)               0         \n",
      "_________________________________________________________________\n",
      "embedding_3 (Embedding)      (None, 400, 50)           1871950   \n",
      "_________________________________________________________________\n",
      "spatial_dropout1d_3 (Spatial (None, 400, 50)           0         \n",
      "_________________________________________________________________\n",
      "conv1d_7 (Conv1D)            (None, 396, 128)          32128     \n",
      "_________________________________________________________________\n",
      "max_pooling1d_5 (MaxPooling1 (None, 198, 128)          0         \n",
      "_________________________________________________________________\n",
      "dropout_9 (Dropout)          (None, 198, 128)          0         \n",
      "_________________________________________________________________\n",
      "conv1d_8 (Conv1D)            (None, 194, 128)          82048     \n",
      "_________________________________________________________________\n",
      "max_pooling1d_6 (MaxPooling1 (None, 97, 128)           0         \n",
      "_________________________________________________________________\n",
      "dropout_10 (Dropout)         (None, 97, 128)           0         \n",
      "_________________________________________________________________\n",
      "conv1d_9 (Conv1D)            (None, 93, 128)           82048     \n",
      "_________________________________________________________________\n",
      "global_max_pooling1d_3 (Glob (None, 128)               0         \n",
      "_________________________________________________________________\n",
      "dropout_11 (Dropout)         (None, 128)               0         \n",
      "_________________________________________________________________\n",
      "dense_5 (Dense)              (None, 512)               66048     \n",
      "_________________________________________________________________\n",
      "dropout_12 (Dropout)         (None, 512)               0         \n",
      "_________________________________________________________________\n",
      "dense_6 (Dense)              (None, 1)                 513       \n",
      "=================================================================\n",
      "Total params: 2,134,735\n",
      "Trainable params: 2,134,735\n",
      "Non-trainable params: 0\n",
      "_________________________________________________________________\n",
      "None\n",
      "Train on 897 samples, validate on 300 samples\n",
      "Epoch 1/1000\n",
      "897/897 [==============================] - 6s 6ms/step - loss: 7.7447 - acc: 0.2497 - val_loss: 3.3356 - val_acc: 0.4600\n",
      "Epoch 2/1000\n",
      "897/897 [==============================] - 4s 5ms/step - loss: 7.7813 - acc: 0.4348 - val_loss: 8.5426 - val_acc: 0.4700\n",
      "Epoch 3/1000\n",
      "897/897 [==============================] - 4s 5ms/step - loss: 7.9596 - acc: 0.5061 - val_loss: 8.5426 - val_acc: 0.4700\n",
      "Epoch 4/1000\n",
      "897/897 [==============================] - 4s 5ms/step - loss: 7.8881 - acc: 0.5084 - val_loss: 8.5426 - val_acc: 0.4700\n",
      "Epoch 5/1000\n",
      "897/897 [==============================] - 4s 5ms/step - loss: 7.9061 - acc: 0.5084 - val_loss: 8.5426 - val_acc: 0.4700\n",
      "dict_keys(['val_loss', 'val_acc', 'loss', 'acc'])\n"
     ]
    },
    {
     "data": {
      "image/png": "[encoded data removed]",
      "text/plain": [
       "<Figure size 432x288 with 1 Axes>"
      ]
     },
     "metadata": {
      "needs_background": "light"
     },
     "output_type": "display_data"
    },
    {
     "name": "stdout",
     "output_type": "stream",
     "text": [
      "CNN, Word Embeddings 0.5\n",
      "[[150 150]\n",
      " [  0   0]]\n"
     ]
    }
   ],
   "source": [
    "def create_cnn():\n",
    "    # Add an Input Layer\n",
    "    input_layer = layers.Input((maxlen, ))\n",
    "\n",
    "    # Add the word embedding Layer\n",
    "    embedding_layer = BDTD_word2vec_50.wv.get_keras_embedding(train_embeddings=True)(input_layer)\n",
    "    \n",
    "    embedding_layer = layers.SpatialDropout1D(0.3)(embedding_layer)\n",
    "\n",
    "    # Add the convolutional Layer e pooling layer\n",
    "    conv_layer_1 = layers.Convolution1D(128, 5, activation=\"relu\")(embedding_layer)\n",
    "    pooling_layer_1 = layers.MaxPooling1D(2)(conv_layer_1)\n",
    "    pooling_layer_1 = layers.Dropout(0.25)(pooling_layer_1)\n",
    "    \n",
    "    conv_layer_2 = layers.Convolution1D(128, 5, activation=\"relu\")(pooling_layer_1)\n",
    "    pooling_layer_2 = layers.MaxPooling1D(2)(conv_layer_2)\n",
    "    pooling_layer_2 = layers.Dropout(0.25)(pooling_layer_2)\n",
    "    \n",
    "    conv_layer_3 = layers.Convolution1D(128, 5, activation=\"relu\")(pooling_layer_2)\n",
    "    pooling_layer_3 = layers.GlobalMaxPooling1D()(conv_layer_3)\n",
    "    pooling_layer_3 = layers.Dropout(0.25)(pooling_layer_3)\n",
    "    \n",
    "    # Add the output Layers\n",
    "    output_layer1 = layers.Dense(512, activation=\"relu\")(pooling_layer_3)\n",
    "    output_layer1 = layers.Dropout(0.5)(output_layer1)\n",
    "    output_layer2 = layers.Dense(1, activation=\"relu\")(output_layer1)\n",
    "\n",
    "    # Compile the model\n",
    "    model = models.Model(inputs=input_layer, outputs=output_layer2)\n",
    "    model.compile(optimizer=optimizers.Adam(), loss='binary_crossentropy', metrics=['acc'])\n",
    "    print(model.summary())\n",
    "    return model\n",
    "\n",
    "classifier = create_cnn()\n",
    "accuracy, confusion = train_model(classifier, train_seq_x, train_y, test_seq_x, is_neural_net=True)\n",
    "print (\"CNN, Word Embeddings\",  accuracy)\n",
    "with tf.Session() as sess:\n",
    "    print(confusion.eval())"
   ]
  },
  {
   "cell_type": "code",
   "execution_count": null,
   "metadata": {},
   "outputs": [],
   "source": []
  },
  {
   "cell_type": "code",
   "execution_count": null,
   "metadata": {},
   "outputs": [],
   "source": []
  }
 ],
 "metadata": {
  "kernelspec": {
   "display_name": "Python 3",
   "language": "python",
   "name": "python3"
  }
 },
 "nbformat": 4,
 "nbformat_minor": 2
}
