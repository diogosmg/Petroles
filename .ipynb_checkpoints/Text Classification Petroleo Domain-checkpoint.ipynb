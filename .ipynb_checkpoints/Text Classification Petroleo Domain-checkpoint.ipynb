{
 "cells": [
  {
   "cell_type": "markdown",
   "metadata": {},
   "source": [
    "# Text Classification  \n",
    "  \n",
    "O objetivo deste notebook é fazer um estudo sobre a classificação de textos. Serão usadas diversas técnicas para criar um modelo que classifique resumos de teses de doutorado e dissertação de mestrado. Serão usados documentos elaborados por técnicos da Petrobras e outros pertencentes a domínios opostos ao que se é pesquisado na companhia. Esperamos que os modelos classifiquem corretamente os documentos nos seus respectivos domínios.\n",
    "  \n",
    "Baseado no post de Shivam Bansa, consultado em 14/08/2019 em:  \n",
    "Bansal, S., 2018. A Comprehensive Guide to Understand and Implement Text Classification in Python. Analytics Vidhya. URL https://www.analyticsvidhya.com/blog/2018/04/a-comprehensive-guide-to-understand-and-implement-text-classification-in-python/ (accessed 8.14.19)."
   ]
  },
  {
   "cell_type": "code",
   "execution_count": 1,
   "metadata": {},
   "outputs": [
    {
     "name": "stderr",
     "output_type": "stream",
     "text": [
      "Using TensorFlow backend.\n"
     ]
    }
   ],
   "source": [
    "# Importando bibliotecas\n",
    "import warnings\n",
    "warnings.filterwarnings(\"ignore\")\n",
    "from sklearn import model_selection, preprocessing, linear_model, naive_bayes, metrics, svm\n",
    "from sklearn.feature_extraction.text import TfidfVectorizer, CountVectorizer\n",
    "from sklearn import decomposition, ensemble\n",
    "from random import shuffle\n",
    "import pandas as pd\n",
    "import numpy as np\n",
    "import xgboost, textblob, string\n",
    "from keras.preprocessing import text, sequence\n",
    "import tensorflow as tf\n",
    "from keras.models import Sequential\n",
    "from keras.utils import to_categorical\n",
    "from keras import layers, models, optimizers\n",
    "from keras.callbacks import EarlyStopping\n",
    "from keras.layers import Concatenate\n",
    "from keras.layers import Layer\n",
    "from keras.layers import Flatten\n",
    "import tensorflow as tf\n",
    "from keras.initializers import get\n",
    "from bs4 import BeautifulSoup as bs\n",
    "import nltk\n",
    "from  nltk.corpus import stopwords\n",
    "from nltk.tokenize import word_tokenize\n",
    "import matplotlib.pyplot as plt\n",
    "import gensim\n",
    "from gensim.models import Word2Vec\n",
    "from langdetect import detect\n",
    "from langdetect import detect_langs"
   ]
  },
  {
   "cell_type": "markdown",
   "metadata": {},
   "source": [
    "# Preparando os dados"
   ]
  },
  {
   "cell_type": "markdown",
   "metadata": {},
   "source": [
    "Lendo arquivos JSON com os dados das teses Petrobras no BDTD, das teses no BDTD com assunto \"Petroleo\" e teses de assunto opostos ao de interesse Petrobras (\"Linguas, Letras e Artes\", \"Arqueologia\", \"Demografia\", ...)"
   ]
  },
  {
   "cell_type": "code",
   "execution_count": 2,
   "metadata": {},
   "outputs": [],
   "source": [
    "teses_Subject_petroleo = pd.read_json('BDTD/New_Subject_petroleo.json', orient = 'index')\n",
    "teses_petrobras_BDTD = pd.read_json('Petrobras/New_teses_petrobras_BDTD.json', orient = 'index')\n",
    "tese_mesma_area_Large = pd.read_json('BDTD/teses_mesmas_areas_Large.json', orient = 'index')\n",
    "teses_areas_opostas_Large = pd.read_json('BDTD/teses_areas_opostas_Large.json', orient = 'index')"
   ]
  },
  {
   "cell_type": "code",
   "execution_count": 3,
   "metadata": {},
   "outputs": [
    {
     "data": {
      "text/plain": [
       "11532"
      ]
     },
     "execution_count": 3,
     "metadata": {},
     "output_type": "execute_result"
    }
   ],
   "source": [
    "# Número total de documentos\n",
    "len(tese_mesma_area_Large) + len(teses_areas_opostas_Large)"
   ]
  },
  {
   "cell_type": "code",
   "execution_count": 4,
   "metadata": {},
   "outputs": [],
   "source": [
    "# Unindo as teses de Petróleo \n",
    "teses_petroleo = teses_Subject_petroleo\n",
    "teses_petroleo = teses_petroleo.append(teses_petrobras_BDTD)\n",
    "# Excluindo teses duplicadas\n",
    "teses_petroleo = teses_petroleo[~teses_petroleo.index.duplicated(keep='first')]"
   ]
  },
  {
   "cell_type": "code",
   "execution_count": 5,
   "metadata": {},
   "outputs": [],
   "source": [
    "# Unindo as teses de todas as áreas \n",
    "teses_areas = tese_mesma_area_Large\n",
    "teses_areas = teses_areas.append(teses_areas_opostas_Large)\n",
    "# Excluindo teses duplicadas\n",
    "teses_areas = teses_areas[~teses_areas.index.duplicated(keep='first')]"
   ]
  },
  {
   "cell_type": "markdown",
   "metadata": {},
   "source": [
    "Acrescentando a classe nos dois DataFrame"
   ]
  },
  {
   "cell_type": "code",
   "execution_count": 6,
   "metadata": {},
   "outputs": [],
   "source": [
    "teses_petroleo['classe'] = 'Petroleo'\n",
    "teses_areas ['classe'] = 'Todas Areas'"
   ]
  },
  {
   "cell_type": "markdown",
   "metadata": {},
   "source": [
    "Verificando a existência de teses duplicadas nas duas classes"
   ]
  },
  {
   "cell_type": "code",
   "execution_count": 7,
   "metadata": {},
   "outputs": [
    {
     "data": {
      "text/plain": [
       "13885"
      ]
     },
     "execution_count": 7,
     "metadata": {},
     "output_type": "execute_result"
    }
   ],
   "source": [
    "# Unindo as duas classes de documentos\n",
    "todos = teses_petroleo\n",
    "todos = todos.append(teses_areas)\n",
    "len(todos)"
   ]
  },
  {
   "cell_type": "code",
   "execution_count": 16,
   "metadata": {},
   "outputs": [
    {
     "data": {
      "text/plain": [
       "13845"
      ]
     },
     "execution_count": 16,
     "metadata": {},
     "output_type": "execute_result"
    }
   ],
   "source": [
    "# Verificando a existência de documentos doplicados\n",
    "todos = todos[~todos.index.duplicated(keep='first')]\n",
    "len(todos)"
   ]
  },
  {
   "cell_type": "code",
   "execution_count": 8,
   "metadata": {},
   "outputs": [],
   "source": [
    "#SEparando novamente\n",
    "teses_petroleo = todos[todos['classe'] == 'Petroleo']\n",
    "teses_areas = todos[todos['classe'] == 'Todas Areas']"
   ]
  },
  {
   "cell_type": "markdown",
   "metadata": {},
   "source": [
    "Verificando balanceamento das duas classes"
   ]
  },
  {
   "cell_type": "code",
   "execution_count": 9,
   "metadata": {},
   "outputs": [
    {
     "name": "stdout",
     "output_type": "stream",
     "text": [
      "teses_petroleo:  2366\n",
      "teses_areas:  11519\n"
     ]
    }
   ],
   "source": [
    "print ('teses_petroleo: ', len(teses_petroleo))\n",
    "print ('teses_areas: ', len(teses_areas))"
   ]
  },
  {
   "cell_type": "markdown",
   "metadata": {},
   "source": [
    "Verificando os campos de resumo"
   ]
  },
  {
   "cell_type": "code",
   "execution_count": 10,
   "metadata": {},
   "outputs": [],
   "source": [
    "# Excluindo documentos sem resumo em português\n",
    "teses_petroleo = teses_petroleo[(teses_petroleo['Resumo Português:'].notnull())]\n",
    "teses_areas = teses_areas[(teses_areas['Resumo Português:'].notnull())]"
   ]
  },
  {
   "cell_type": "code",
   "execution_count": 11,
   "metadata": {},
   "outputs": [],
   "source": [
    "# Função que recebe um texto e separa a parte português da parte em inglês\n",
    "def separacao_port_engl(abstract):\n",
    "    \n",
    "    # Tokeniza os resumos em sentenças \n",
    "    mix_sent = nltk.sent_tokenize(abstract)\n",
    "    \n",
    "    # Algumas sentenças vem unidas sem espaço. \n",
    "    # Portanto é necessário encontra o ponto final para quebrar a sentença em duas.\n",
    "    new_mix = []\n",
    "    for sent in mix_sent:\n",
    "        position = sent.find('.')\n",
    "        if position != len(sent)-1:\n",
    "            sent_1 = sent[:position+1]\n",
    "            sent_2 = sent[position+1:]\n",
    "            new_mix.append(sent_1)\n",
    "            new_mix.append(sent_2)\n",
    "        else:\n",
    "            new_mix.append(sent)\n",
    "\n",
    "    mix_sent = new_mix\n",
    "    \n",
    "    # Para cada sentença, identificar se ela está em português ou inglês\n",
    "    port = []\n",
    "    engl = []\n",
    "\n",
    "    for sent in mix_sent:\n",
    "        try:\n",
    "            if detect (sent) == 'pt':\n",
    "                port.append(sent)\n",
    "            else:\n",
    "                engl.append (sent)\n",
    "        except:\n",
    "            pass\n",
    "    \n",
    "    # As sentenças são unidas novamente\n",
    "    port = \" \".join(port)\n",
    "    engl = \" \".join(engl)\n",
    "\n",
    "    # A função retorna os resumos em cada idioma\n",
    "    return(port, engl)"
   ]
  },
  {
   "cell_type": "code",
   "execution_count": 12,
   "metadata": {},
   "outputs": [],
   "source": [
    "# Separando português e inglês para teses petróleo\n",
    "columns_pt = teses_petroleo['Resumo Português:'].apply(lambda x: separacao_port_engl(x)[0])\n",
    "columns_en = teses_petroleo['Resumo Português:'].apply(lambda x: separacao_port_engl(x)[1])\n",
    "teses_petroleo['Resumo Português:'] = columns_pt\n",
    "teses_petroleo['Resumo inglês 2:'] = columns_en\n",
    "\n",
    "# Separando português e inglês para teses das demais áreas\n",
    "columns_pt = teses_areas['Resumo Português:'].apply(lambda x: separacao_port_engl(x)[0])\n",
    "columns_en = teses_areas['Resumo Português:'].apply(lambda x: separacao_port_engl(x)[1])\n",
    "teses_areas['Resumo Português:'] = columns_pt\n",
    "teses_areas['Resumo inglês 2:'] = columns_en"
   ]
  },
  {
   "cell_type": "markdown",
   "metadata": {},
   "source": [
    "Excluindo novamente as teses sem resumo em portugues"
   ]
  },
  {
   "cell_type": "code",
   "execution_count": 13,
   "metadata": {},
   "outputs": [],
   "source": [
    "teses_petroleo = teses_petroleo[(teses_petroleo['Resumo Português:'].notnull())]\n",
    "teses_areas = teses_areas[(teses_areas['Resumo Português:'].notnull())]"
   ]
  },
  {
   "cell_type": "markdown",
   "metadata": {},
   "source": [
    "Preprocessando o texto e retirando stopwords"
   ]
  },
  {
   "cell_type": "code",
   "execution_count": 14,
   "metadata": {},
   "outputs": [],
   "source": [
    "# Letras em minúsculas\n",
    "teses_petroleo['Resumo Português:'] = teses_petroleo['Resumo Português:'].str.lower()\n",
    "teses_areas['Resumo Português:'] = teses_areas['Resumo Português:'].str.lower()"
   ]
  },
  {
   "cell_type": "code",
   "execution_count": 16,
   "metadata": {},
   "outputs": [],
   "source": [
    "# Preprocessando os textos\n",
    "teses_petroleo['Resumo Português:'] = (teses_petroleo['Resumo Português:']\n",
    "                                       .apply(gensim.utils.simple_preprocess)\n",
    "                                       .str.join(\" \"))\n",
    "teses_areas['Resumo Português:'] = (teses_areas['Resumo Português:']\n",
    "                                    .apply(gensim.utils.simple_preprocess)\n",
    "                                    .str.join(\" \"))"
   ]
  },
  {
   "cell_type": "code",
   "execution_count": 17,
   "metadata": {},
   "outputs": [
    {
     "name": "stderr",
     "output_type": "stream",
     "text": [
      "[nltk_data] Error loading stopwords: <urlopen error [WinError 10053]\n",
      "[nltk_data]     Uma conexão estabelecida foi anulada pelo software no\n",
      "[nltk_data]     computador host>\n"
     ]
    }
   ],
   "source": [
    "# Importando as bibliotecas de stopwords\n",
    "nltk.download('stopwords')\n",
    "\n",
    "# Mapeando stopwords com NLTK\n",
    "stopwordsIngles = stopwords.words(\"portuguese\")\n",
    "\n",
    "def remove_stopwords(abstract):\n",
    "    without_stopwords = []\n",
    "    for word in abstract:\n",
    "        if word not in stopwordsIngles:\n",
    "            without_stopwords.append(word)\n",
    "    return(without_stopwords)\n",
    "    \n",
    "# Excluindo stopwords\n",
    "teses_petroleo['Resumo Português:'] = teses_petroleo['Resumo Português:'].apply(remove_stopwords)\n",
    "teses_areas['Resumo Português:'] = teses_areas['Resumo Português:'].apply(remove_stopwords)\n",
    "\n",
    "# Unindo novamente o texto em uma única string\n",
    "teses_petroleo['Resumo Português:'] = teses_petroleo['Resumo Português:'].str.join(\" \")\n",
    "teses_areas['Resumo Português:'] = teses_areas['Resumo Português:'].str.join(\" \")"
   ]
  },
  {
   "cell_type": "code",
   "execution_count": 2,
   "metadata": {},
   "outputs": [],
   "source": [
    "# Gravando textos preprocessados em um arquivo JSON\n",
    "#teses_petroleo.to_json('BDTD/tese_petroleo_processada.json', orient = 'index')\n",
    "#teses_areas.to_json('BDTD/tese_areas_processada.json', orient = 'index')\n",
    "# lendo textos preprocessados de arquivos JSON\n",
    "teses_petroleo = pd.read_json('BDTD/tese_petroleo_processada.json', orient = 'index')\n",
    "teses_areas = pd.read_json('BDTD/tese_areas_processada.json', orient = 'index')"
   ]
  },
  {
   "cell_type": "markdown",
   "metadata": {},
   "source": [
    "## Dividindo o conjunto de treino, validação e de teste  \n",
    "  \n",
    "Vamos dividir os dados em 80% treino e 20% teste"
   ]
  },
  {
   "cell_type": "code",
   "execution_count": 3,
   "metadata": {},
   "outputs": [],
   "source": [
    "#Função que recebe um dataframe com as teses e retorna dois dataframes com dados de treino e teste.\n",
    "#'train' é a fração dos dados para treino, o restante é para teste\n",
    "def train_test(teses, train):\n",
    "    corte_train = int(round((len(teses)*train),0))\n",
    "    teses = teses.sample(frac=1)\n",
    "    teses_train = teses[:corte_train]\n",
    "    teses_test = teses[corte_train:]\n",
    "    return(teses_train, teses_test)"
   ]
  },
  {
   "cell_type": "code",
   "execution_count": 4,
   "metadata": {},
   "outputs": [],
   "source": [
    "# Os documentos são balanceados para ficarem com a mesma quantidades\n",
    "teses_areas = teses_areas.sample(len(teses_petroleo))"
   ]
  },
  {
   "cell_type": "code",
   "execution_count": 5,
   "metadata": {},
   "outputs": [
    {
     "name": "stdout",
     "output_type": "stream",
     "text": [
      "2121\n",
      "2121\n"
     ]
    }
   ],
   "source": [
    "print(len(teses_areas))\n",
    "print(len(teses_petroleo))"
   ]
  },
  {
   "cell_type": "code",
   "execution_count": 6,
   "metadata": {},
   "outputs": [],
   "source": [
    "# São separadas as frações para treino e teste\n",
    "teses_petroleo_train, teses_petroleo_test = train_test(teses_petroleo, 0.8)\n",
    "teses_areas_train, teses_areas_test = train_test(teses_areas, 0.8)"
   ]
  },
  {
   "cell_type": "code",
   "execution_count": 7,
   "metadata": {},
   "outputs": [],
   "source": [
    "# Os dados de treino e teste são unindos e embaralhados\n",
    "# Train\n",
    "tese_train = teses_petroleo_train\n",
    "tese_train = tese_train.append(teses_areas_train)\n",
    "tese_train = tese_train.sample(frac=1).reset_index(drop=True)\n",
    "\n",
    "#Test\n",
    "tese_test = teses_petroleo_test\n",
    "tese_test = tese_test.append(teses_areas_test)\n",
    "tese_test = tese_test.sample(frac=1).reset_index(drop=True)"
   ]
  },
  {
   "cell_type": "code",
   "execution_count": 8,
   "metadata": {},
   "outputs": [],
   "source": [
    "# Separando apenas os texto e classes para treinar os classificadores\n",
    "train_x = tese_train['Resumo Português:']\n",
    "train_y = tese_train['classe']\n",
    "\n",
    "test_x = tese_test['Resumo Português:']\n",
    "test_y = tese_test['classe']"
   ]
  },
  {
   "cell_type": "code",
   "execution_count": 9,
   "metadata": {},
   "outputs": [],
   "source": [
    "# Codigficando as classes para as variáveis 0 e 1 \n",
    "encoder = preprocessing.LabelEncoder()\n",
    "train_y = encoder.fit_transform(train_y)\n",
    "test_y  = encoder.transform(test_y)"
   ]
  },
  {
   "cell_type": "code",
   "execution_count": 10,
   "metadata": {},
   "outputs": [
    {
     "name": "stdout",
     "output_type": "stream",
     "text": [
      "Petrobras =  0\n",
      "Outro =  1\n"
     ]
    }
   ],
   "source": [
    "print ('Petrobras = ', encoder.transform(['Petroleo'])[0])\n",
    "print ('Outro = ', encoder.transform(['Todas Areas'])[0])"
   ]
  },
  {
   "cell_type": "markdown",
   "metadata": {},
   "source": [
    "# Feature Engineering"
   ]
  },
  {
   "cell_type": "markdown",
   "metadata": {},
   "source": [
    "O próximo passo é criar os atributos dos textos. Nesta etapa o texto bruto será transformado em vetores e novos atributos serão criados a partir dos dados atuais."
   ]
  },
  {
   "cell_type": "markdown",
   "metadata": {},
   "source": [
    "**Count Vectors**  \n",
    "Count Vector é uma notação de matriz, onde cada linha representa um documento, cada coluna representa um termo do corpus, e cada celula representa a frequência de um determinado termo em um documento em particular."
   ]
  },
  {
   "cell_type": "code",
   "execution_count": 11,
   "metadata": {},
   "outputs": [],
   "source": [
    "# Criando um objeto Count Vector \n",
    "count_vect = CountVectorizer(analyzer='word', token_pattern=r'\\w{1,}')\n",
    "count_vect.fit(tese_train['Resumo Português:'])\n",
    "\n",
    "# Trasnsforma os dados de treino e teste usando o objeto Count Vector\n",
    "xtrain_count =  count_vect.transform(train_x)\n",
    "xtest_count =  count_vect.transform(test_x)"
   ]
  },
  {
   "cell_type": "markdown",
   "metadata": {},
   "source": [
    "**TF-IDF Vectors**  \n",
    "  \n",
    "TF-IDF score representa a importância relativa dos termos em um documento e no corpus inteiro. TF-IDF score é composto por:  \n",
    "  \n",
    "TF(t) = (Número de vezes que o termo t aparece em um documento) / (Número total de termos em um documento)\n",
    "IDF(t) = log_e(Número total de documentos / Número de documentos que contém o termo t)\n",
    "  \n",
    "Os vetores TF-IDF podem ser gerados com diferentes níveis de tokens (palavrass, ccaracteres, n-grams)"
   ]
  },
  {
   "cell_type": "code",
   "execution_count": 12,
   "metadata": {},
   "outputs": [],
   "source": [
    "# word level tf-idf\n",
    "tfidf_vect = TfidfVectorizer(analyzer='word', token_pattern=r'\\w{1,}', max_features=5000)\n",
    "tfidf_vect.fit(tese_train['Resumo Português:'])\n",
    "xtrain_tfidf =  tfidf_vect.transform(train_x)\n",
    "xtest_tfidf =  tfidf_vect.transform(test_x)\n",
    "\n",
    "# ngram level tf-idf \n",
    "tfidf_vect_ngram = TfidfVectorizer(analyzer='word', token_pattern=r'\\w{1,}', ngram_range=(2,3), max_features=5000)\n",
    "tfidf_vect_ngram.fit(tese_train['Resumo Português:'])\n",
    "xtrain_tfidf_ngram =  tfidf_vect_ngram.transform(train_x)\n",
    "xtest_tfidf_ngram =  tfidf_vect_ngram.transform(test_x)\n",
    "\n",
    "# characters level tf-idf\n",
    "tfidf_vect_ngram_chars = TfidfVectorizer(analyzer='char', token_pattern=r'\\w{1,}', ngram_range=(2,3), max_features=5000)\n",
    "tfidf_vect_ngram_chars.fit(tese_train['Resumo Português:'])\n",
    "xtrain_tfidf_ngram_chars =  tfidf_vect_ngram_chars.transform(train_x) \n",
    "xtest_tfidf_ngram_chars =  tfidf_vect_ngram_chars.transform(test_x) "
   ]
  },
  {
   "cell_type": "markdown",
   "metadata": {},
   "source": [
    "**Word Embeddings**  \n",
    "  \n",
    "Word embeddings é uma forma de representação de palavras e documentos usando uma vetores. A posição das palavras em um espaço vetorial é aprendido do texto e é baseados nas palavras que o rodeiam. Word embeddings podem ser treinados usando como input o próprio corpus ou pode ser gerado usando modelos pré treinados como Glove, FastText ou Word2Vec."
   ]
  },
  {
   "cell_type": "markdown",
   "metadata": {},
   "source": [
    "**implementando word2vec**"
   ]
  },
  {
   "cell_type": "code",
   "execution_count": 29,
   "metadata": {},
   "outputs": [],
   "source": [
    "# unindo todos os textos\n",
    "corpus = todos['Resumo Português:']\n",
    "corpus = corpus.str.cat(sep=' ')"
   ]
  },
  {
   "cell_type": "code",
   "execution_count": 30,
   "metadata": {},
   "outputs": [],
   "source": [
    "# Criando uma lista de sentenças e embaralhando-as\n",
    "corpus = nltk.sent_tokenize(corpus) \n",
    "shuffle(corpus)"
   ]
  },
  {
   "cell_type": "code",
   "execution_count": 31,
   "metadata": {},
   "outputs": [],
   "source": [
    "# Tokenizando as sentenças\n",
    "corpus_processado = []\n",
    "for sentence in corpus:\n",
    "    corpus_processado.append(word_tokenize(sentence))"
   ]
  },
  {
   "cell_type": "code",
   "execution_count": 32,
   "metadata": {},
   "outputs": [],
   "source": [
    "# Treinando um modelo de Word2Vec\n",
    "BDTD_word2vec_50 = Word2Vec(corpus_processado, size=50, window=10, min_count=1, workers=4, iter=100)"
   ]
  },
  {
   "cell_type": "code",
   "execution_count": 33,
   "metadata": {},
   "outputs": [
    {
     "data": {
      "text/plain": [
       "array([-3.6960294e+00, -1.3259159e+00, -2.2412670e+00,  5.7865171e+00,\n",
       "        2.2329526e+00, -5.5173335e+00, -5.9714718e+00,  7.3408980e+00,\n",
       "        3.9766235e+00, -4.5603027e+00,  4.6718297e+00, -2.3560665e+00,\n",
       "       -6.8443626e-01, -6.0587273e+00,  3.6310940e+00, -1.5324932e+01,\n",
       "        2.0639896e+00,  6.0305029e-01,  3.7788615e+00,  4.0281076e+00,\n",
       "        3.9048851e+00,  1.1163657e+00,  2.3122082e+00,  4.4901333e+00,\n",
       "       -3.3812339e+00,  2.3412783e+00, -5.2094436e+00, -1.1195867e+00,\n",
       "       -3.8026874e+00,  9.2307749e+00, -1.8853464e+00, -6.3019433e+00,\n",
       "        3.5904100e+00, -2.6272061e+00, -4.8584223e+00,  7.7866459e+00,\n",
       "       -1.3319616e+00,  5.1870914e+00, -5.6637077e+00, -1.5475802e+00,\n",
       "        9.2607457e-03, -5.3038816e+00,  3.9777195e+00, -6.1717930e+00,\n",
       "       -5.0633631e+00, -1.7807996e+00,  8.1977360e-03, -3.5111365e+00,\n",
       "       -5.9699243e-01,  1.4175992e+00], dtype=float32)"
      ]
     },
     "execution_count": 33,
     "metadata": {},
     "output_type": "execute_result"
    }
   ],
   "source": [
    "# Exemplo do vetor da palavra água\n",
    "BDTD_word2vec_50.wv['água']"
   ]
  },
  {
   "cell_type": "code",
   "execution_count": 34,
   "metadata": {},
   "outputs": [
    {
     "data": {
      "text/plain": [
       "[('vazão', 0.730722188949585),\n",
       " ('solo', 0.6993394494056702),\n",
       " ('líquido', 0.687868058681488),\n",
       " ('ar', 0.6873413920402527),\n",
       " ('areia', 0.6845143437385559),\n",
       " ('argila', 0.6819689869880676),\n",
       " ('umidade', 0.6753614544868469),\n",
       " ('ozônio', 0.67515629529953),\n",
       " ('irrigação', 0.6692394018173218),\n",
       " ('óleo', 0.6592279076576233)]"
      ]
     },
     "execution_count": 34,
     "metadata": {},
     "output_type": "execute_result"
    }
   ],
   "source": [
    "# Vetores mais similares a palavra água\n",
    "BDTD_word2vec_50.wv.similar_by_word('água')"
   ]
  },
  {
   "cell_type": "code",
   "execution_count": 15,
   "metadata": {},
   "outputs": [],
   "source": [
    "# Gravando e lendo os modelos de embeddings\n",
    "#BDTD_word2vec_50.save(\"Embeddings\\BDTD_word2vec_50\")\n",
    "BDTD_word2vec_50 = Word2Vec.load(\"Embeddings\\BDTD_word2vec_50\")"
   ]
  },
  {
   "cell_type": "code",
   "execution_count": 16,
   "metadata": {},
   "outputs": [],
   "source": [
    "# Indexando as palavras presentes no modelo Word2Vec\n",
    "word2index = {}\n",
    "for index, word in enumerate(BDTD_word2vec_50.wv.index2word):\n",
    "    word2index[word] = index"
   ]
  },
  {
   "cell_type": "code",
   "execution_count": 17,
   "metadata": {},
   "outputs": [],
   "source": [
    "# Indexando as palavras presentes no modelo Word2Vec\n",
    "word2index = {}\n",
    "for index, word in enumerate(BDTD_word2vec_50.wv.index2word):\n",
    "    word2index[word] = index\n",
    "    \n",
    "# Função para indexar o texto usando os índices do modelo Word2Vec\n",
    "def index_pad_text(text, maxlen, word2index):\n",
    "    maxlen = 400\n",
    "    new_text = [] \n",
    "    for sent in text:\n",
    "        temp_sent = []\n",
    "        for word in word_tokenize(sent):\n",
    "            try:\n",
    "                temp_sent.append(word2index[word])\n",
    "            except:\n",
    "                pass\n",
    "        # Estebelecendo um limite máximo de palavras para cada resumo (padding)\n",
    "        if len(temp_sent) > maxlen:\n",
    "            temp_sent = temp_sent[:400]\n",
    "        else:\n",
    "            temp_sent += [0] * (maxlen - len(temp_sent))\n",
    "        new_text.append(temp_sent)\n",
    "\n",
    "    return np.array(new_text)\n",
    "\n",
    "maxlen = 400\n",
    "train_seq_x = index_pad_text(train_x, maxlen, word2index)\n",
    "test_seq_x = index_pad_text(test_x, maxlen, word2index)"
   ]
  },
  {
   "cell_type": "markdown",
   "metadata": {},
   "source": [
    "**Model Building**  \n",
    "A etapa final do framework de classificação de texto é treinar um classificador usando os atributos criados anteriormente. Os seguintes algoritmos de aprendizado de máquina foram implementados:  \n",
    " \n",
    "* Naive Bayes Classifier\n",
    "* Linear Classifier - Logistic Regression\n",
    "* Support Vector Machine\n",
    "* Bagging Models - Random Forest\n",
    "* Boosting Models - Xtereme Gradient Boosting\n",
    "* Shallow Neural Networks\n",
    "* Deep Neural Networks\n",
    "* Convolutional Neural Network (CNN)\n",
    "* Long Short Term Modelr (LSTM)\n",
    "* Gated Recurrent Unit (GRU)\n",
    "* Bidirectional RNN\n",
    "* Recurrent Convolutional Neural Network (RCNN)\n",
    "* Other Variants of Deep Neural Networks  \n",
    "\n",
    "A função abaixo é usada para treinar os modelos. Ela aceita o classificador, o vetor de atributos dos dados de treinamento, as classes de treinamento, os atributos dos dados de teste e a informação se o classificador é uma rede neural. Com essas informações o modelo é treinado, a acurácia pe computada e, nos casos das redes neurais, um gráfico das épocas de treinamento é apresentado."
   ]
  },
  {
   "cell_type": "code",
   "execution_count": 18,
   "metadata": {},
   "outputs": [],
   "source": [
    "def train_model(classifier, feature_vector_train, label, feature_vector_test, is_neural_net=False):\n",
    "    # fit the training dataset on the classifier\n",
    "    \n",
    "    if is_neural_net:\n",
    "        callbacks = EarlyStopping(monitor='val_acc', patience=10, restore_best_weights=True)\n",
    "        history = classifier.fit(feature_vector_train,\n",
    "                                 label, #to_categorical(label),\n",
    "                                 epochs=1000,\n",
    "                                 batch_size=64,\n",
    "                                 validation_split=0.25,\n",
    "                                 callbacks=[callbacks])\n",
    "        \n",
    "    # plot the loss\n",
    "        # list all data in history\n",
    "        print(history.history.keys())\n",
    "        # summarize history for loss\n",
    "        plt.plot(history.history['acc'])\n",
    "        plt.plot(history.history['val_acc'])\n",
    "        plt.title('model acc')\n",
    "        plt.ylabel('acc')\n",
    "        plt.xlabel('epoch')\n",
    "        plt.legend(['acc', 'val_acc'], loc='upper left')\n",
    "        plt.show()\n",
    "        \n",
    "    else:\n",
    "        classifier.fit(feature_vector_train, label)\n",
    "    \n",
    "    # predict the labels on validation dataset\n",
    "    predictions = classifier.predict(feature_vector_test)\n",
    "    predictions = np.rint(predictions)\n",
    "    \n",
    "    num_classes = 2\n",
    "    return (metrics.accuracy_score(predictions, test_y),\n",
    "            tf.confusion_matrix(predictions, test_y, num_classes))"
   ]
  },
  {
   "cell_type": "markdown",
   "metadata": {},
   "source": [
    "**Naive Bayes**  "
   ]
  },
  {
   "cell_type": "code",
   "execution_count": 19,
   "metadata": {},
   "outputs": [
    {
     "name": "stdout",
     "output_type": "stream",
     "text": [
      "NB, Count Vectors:  0.7405660377358491\n",
      "[[324 120]\n",
      " [100 304]]\n",
      "NB, WordLevel TF-IDF Vectors:  0.7275943396226415\n",
      "[[336 143]\n",
      " [ 88 281]]\n",
      "NB, N-Gram Vectors:  0.8926886792452831\n",
      "[[387  54]\n",
      " [ 37 370]]\n",
      "NB, CharLevel Vectors:  0.8360849056603774\n",
      "[[382  97]\n",
      " [ 42 327]]\n"
     ]
    }
   ],
   "source": [
    "# Naive Bayes on Count Vectors\n",
    "accuracy, confusion = train_model(naive_bayes.MultinomialNB(), xtrain_count, train_y, xtest_count)\n",
    "print (\"NB, Count Vectors: \", accuracy)\n",
    "with tf.Session() as sess:\n",
    "    print(confusion.eval())\n",
    "\n",
    "# Naive Bayes on Word Level TF IDF Vectors\n",
    "accuracy, confusion = train_model(naive_bayes.MultinomialNB(), xtrain_tfidf, train_y, xtest_tfidf)\n",
    "print (\"NB, WordLevel TF-IDF Vectors: \", accuracy)\n",
    "with tf.Session() as sess:\n",
    "    print(confusion.eval())\n",
    "    \n",
    "# Naive Bayes on Ngram Level TF IDF Vectors\n",
    "accuracy, confusion = train_model(naive_bayes.MultinomialNB(), xtrain_tfidf_ngram, train_y, xtest_tfidf_ngram)\n",
    "print (\"NB, N-Gram Vectors: \", accuracy)\n",
    "with tf.Session() as sess:\n",
    "    print(confusion.eval())\n",
    "    \n",
    "# Naive Bayes on Character Level TF IDF Vectors\n",
    "accuracy, confusion = train_model(naive_bayes.MultinomialNB(), xtrain_tfidf_ngram_chars, train_y, xtest_tfidf_ngram_chars)\n",
    "print (\"NB, CharLevel Vectors: \", accuracy)\n",
    "with tf.Session() as sess:\n",
    "    print(confusion.eval())"
   ]
  },
  {
   "cell_type": "markdown",
   "metadata": {},
   "source": [
    "**Linear Classifier - Logistic Regression**  "
   ]
  },
  {
   "cell_type": "code",
   "execution_count": 20,
   "metadata": {},
   "outputs": [
    {
     "name": "stdout",
     "output_type": "stream",
     "text": [
      "LR, Count Vectors:  0.7452830188679245\n",
      "[[325 117]\n",
      " [ 99 307]]\n",
      "LR, WordLevel TF-IDF Vectors:  0.7417452830188679\n",
      "[[311 106]\n",
      " [113 318]]\n",
      "LR, N-Gram Vectors:  0.9198113207547169\n",
      "[[386  30]\n",
      " [ 38 394]]\n",
      "LR, CharLevel Vectors:  0.7971698113207547\n",
      "[[335  83]\n",
      " [ 89 341]]\n"
     ]
    }
   ],
   "source": [
    "# Linear Classifier on Count Vectors\n",
    "accuracy, confusion = train_model(linear_model.LogisticRegression(), xtrain_count, train_y, xtest_count)\n",
    "print (\"LR, Count Vectors: \", accuracy)\n",
    "with tf.Session() as sess:\n",
    "    print(confusion.eval())\n",
    "\n",
    "# Linear Classifier on Word Level TF IDF Vectors\n",
    "accuracy, confusion = train_model(linear_model.LogisticRegression(), xtrain_tfidf, train_y, xtest_tfidf)\n",
    "print (\"LR, WordLevel TF-IDF Vectors: \", accuracy)\n",
    "with tf.Session() as sess:\n",
    "    print(confusion.eval())\n",
    "\n",
    "# Linear Classifier on Ngram Level TF IDF Vectors\n",
    "accuracy, confusion = train_model(linear_model.LogisticRegression(), xtrain_tfidf_ngram, train_y, xtest_tfidf_ngram)\n",
    "print (\"LR, N-Gram Vectors: \", accuracy)\n",
    "with tf.Session() as sess:\n",
    "    print(confusion.eval())\n",
    "\n",
    "# Linear Classifier on Character Level TF IDF Vectors\n",
    "accuracy, confusion = train_model(linear_model.LogisticRegression(), xtrain_tfidf_ngram_chars, train_y, xtest_tfidf_ngram_chars)\n",
    "print (\"LR, CharLevel Vectors: \", accuracy)\n",
    "with tf.Session() as sess:\n",
    "    print(confusion.eval())"
   ]
  },
  {
   "cell_type": "markdown",
   "metadata": {},
   "source": [
    "**Implementing a SVM Model**  "
   ]
  },
  {
   "cell_type": "code",
   "execution_count": 21,
   "metadata": {},
   "outputs": [
    {
     "name": "stdout",
     "output_type": "stream",
     "text": [
      "SVM, Count Vectors:  0.7535377358490566\n",
      "[[327 112]\n",
      " [ 97 312]]\n",
      "SVM, Word Level TF IDF Vectors:  0.7452830188679245\n",
      "[[311 103]\n",
      " [113 321]]\n",
      "SVM, Ngram Level TF IDF Vectors:  0.9280660377358491\n",
      "[[388  25]\n",
      " [ 36 399]]\n",
      "SVM, Character Level TF IDFs Vectors:  0.847877358490566\n",
      "[[354  59]\n",
      " [ 70 365]]\n"
     ]
    }
   ],
   "source": [
    "# SVM on Count Vectors\n",
    "accuracy, confusion = train_model(svm.SVC(gamma='scale'), xtrain_count, train_y, xtest_count)\n",
    "print (\"SVM, Count Vectors: \", accuracy)\n",
    "with tf.Session() as sess:\n",
    "    print(confusion.eval())\n",
    "\n",
    "# SVM on Word Level TF IDF Vectors\n",
    "accuracy, confusion = train_model(svm.SVC(gamma='scale'), xtrain_tfidf, train_y, xtest_tfidf)\n",
    "print (\"SVM, Word Level TF IDF Vectors: \", accuracy)\n",
    "with tf.Session() as sess:\n",
    "    print(confusion.eval())\n",
    "\n",
    "# SVM on Ngram Level TF IDF Vectors\n",
    "accuracy, confusion = train_model(svm.SVC(gamma='scale'), xtrain_tfidf_ngram, train_y, xtest_tfidf_ngram)\n",
    "print (\"SVM, Ngram Level TF IDF Vectors: \", accuracy)\n",
    "with tf.Session() as sess:\n",
    "    print(confusion.eval())\n",
    "\n",
    "# SVM on Character Level TF IDF Vectors\n",
    "accuracy, confusion = train_model(svm.SVC(gamma='scale'), xtrain_tfidf_ngram_chars, train_y, xtest_tfidf_ngram_chars)\n",
    "print (\"SVM, Character Level TF IDFs Vectors: \", accuracy)\n",
    "with tf.Session() as sess:\n",
    "    print(confusion.eval())"
   ]
  },
  {
   "cell_type": "markdown",
   "metadata": {},
   "source": [
    "**Bagging Model - Random Forest**  "
   ]
  },
  {
   "cell_type": "code",
   "execution_count": 22,
   "metadata": {},
   "outputs": [
    {
     "name": "stdout",
     "output_type": "stream",
     "text": [
      "RF, Count Vectors Vectors:  0.6898584905660378\n",
      "[[327 166]\n",
      " [ 97 258]]\n",
      "RF, WordLevel TF-IDF Vectors:  0.7004716981132075\n",
      "[[330 160]\n",
      " [ 94 264]]\n",
      "RF, Ngram Level TF IDF Vectors:  0.8561320754716981\n",
      "[[378  76]\n",
      " [ 46 348]]\n",
      "RF, Character Level TF IDFs Vectors:  0.8042452830188679\n",
      "[[360 102]\n",
      " [ 64 322]]\n"
     ]
    }
   ],
   "source": [
    "# RF on Count Vectors\n",
    "accuracy, confusion = train_model(ensemble.RandomForestClassifier(), xtrain_count, train_y, xtest_count)\n",
    "print (\"RF, Count Vectors Vectors: \", accuracy)\n",
    "with tf.Session() as sess:\n",
    "    print(confusion.eval())\n",
    "\n",
    "# RF on Word Level TF IDF Vectors\n",
    "accuracy, confusion = train_model(ensemble.RandomForestClassifier(), xtrain_tfidf, train_y, xtest_tfidf)\n",
    "print (\"RF, WordLevel TF-IDF Vectors: \", accuracy)\n",
    "with tf.Session() as sess:\n",
    "    print(confusion.eval())\n",
    "\n",
    "# RF on Ngram Level TF IDF Vectors\n",
    "accuracy, confusion = train_model(ensemble.RandomForestClassifier(), xtrain_tfidf_ngram, train_y, xtest_tfidf_ngram)\n",
    "print (\"RF, Ngram Level TF IDF Vectors: \", accuracy)\n",
    "with tf.Session() as sess:\n",
    "    print(confusion.eval())\n",
    "\n",
    "# RF on Character Level TF IDF Vectors\n",
    "accuracy, confusion = train_model(ensemble.RandomForestClassifier(), xtrain_tfidf_ngram_chars, train_y, xtest_tfidf_ngram_chars)\n",
    "print (\"RF, Character Level TF IDFs Vectors: \", accuracy)\n",
    "with tf.Session() as sess:\n",
    "    print(confusion.eval())"
   ]
  },
  {
   "cell_type": "markdown",
   "metadata": {},
   "source": [
    "**Boosting Model - Xtereme Gradient Boosting**  "
   ]
  },
  {
   "cell_type": "code",
   "execution_count": 23,
   "metadata": {
    "scrolled": true
   },
   "outputs": [
    {
     "name": "stdout",
     "output_type": "stream",
     "text": [
      "Xgb, Count Vectors:  0.7358490566037735\n",
      "[[318 118]\n",
      " [106 306]]\n",
      "Xgb, WordLevel TF-IDF:  0.7476415094339622\n",
      "[[311 101]\n",
      " [113 323]]\n",
      "Xgb, Ngram Level Vectors:  0.9221698113207547\n",
      "[[373  15]\n",
      " [ 51 409]]\n",
      "Xgb, CharLevel Vectors:  0.8867924528301887\n",
      "[[363  35]\n",
      " [ 61 389]]\n"
     ]
    }
   ],
   "source": [
    "# Extereme Gradient Boosting on Count Vectors\n",
    "accuracy, confusion = train_model(xgboost.XGBClassifier(), xtrain_count.tocsc(), train_y, xtest_count.tocsc())\n",
    "print (\"Xgb, Count Vectors: \", accuracy)\n",
    "with tf.Session() as sess:\n",
    "    print(confusion.eval())\n",
    "\n",
    "# Extereme Gradient Boosting on Word Level TF IDF Vectors\n",
    "accuracy, confusion = train_model(xgboost.XGBClassifier(), xtrain_tfidf.tocsc(), train_y, xtest_tfidf.tocsc())\n",
    "print (\"Xgb, WordLevel TF-IDF: \", accuracy)\n",
    "with tf.Session() as sess:\n",
    "    print(confusion.eval())\n",
    "\n",
    "# Extereme Gradient Boosting on Ngram Level TF IDF Vectors\n",
    "accuracy, confusion = train_model(xgboost.XGBClassifier(), xtrain_tfidf_ngram.tocsc(), train_y, xtest_tfidf_ngram.tocsc())\n",
    "print (\"Xgb, Ngram Level Vectors: \", accuracy)\n",
    "with tf.Session() as sess:\n",
    "    print(confusion.eval())\n",
    "\n",
    "# Extereme Gradient Boosting on Character Level TF IDF Vectors\n",
    "accuracy, confusion = train_model(xgboost.XGBClassifier(), xtrain_tfidf_ngram_chars.tocsc(), train_y, xtest_tfidf_ngram_chars.tocsc())\n",
    "print (\"Xgb, CharLevel Vectors: \", accuracy)\n",
    "with tf.Session() as sess:\n",
    "    print(confusion.eval())"
   ]
  },
  {
   "cell_type": "markdown",
   "metadata": {},
   "source": [
    "**Shallow Neural Networks**  "
   ]
  },
  {
   "cell_type": "code",
   "execution_count": 24,
   "metadata": {
    "scrolled": true
   },
   "outputs": [
    {
     "name": "stdout",
     "output_type": "stream",
     "text": [
      "WARNING:tensorflow:From C:\\ProgramData\\Anaconda3\\lib\\site-packages\\keras\\backend\\tensorflow_backend.py:74: The name tf.get_default_graph is deprecated. Please use tf.compat.v1.get_default_graph instead.\n",
      "\n",
      "WARNING:tensorflow:From C:\\ProgramData\\Anaconda3\\lib\\site-packages\\keras\\backend\\tensorflow_backend.py:517: The name tf.placeholder is deprecated. Please use tf.compat.v1.placeholder instead.\n",
      "\n",
      "WARNING:tensorflow:From C:\\ProgramData\\Anaconda3\\lib\\site-packages\\keras\\backend\\tensorflow_backend.py:4138: The name tf.random_uniform is deprecated. Please use tf.random.uniform instead.\n",
      "\n",
      "WARNING:tensorflow:From C:\\ProgramData\\Anaconda3\\lib\\site-packages\\keras\\optimizers.py:790: The name tf.train.Optimizer is deprecated. Please use tf.compat.v1.train.Optimizer instead.\n",
      "\n",
      "WARNING:tensorflow:From C:\\ProgramData\\Anaconda3\\lib\\site-packages\\keras\\backend\\tensorflow_backend.py:3376: The name tf.log is deprecated. Please use tf.math.log instead.\n",
      "\n",
      "WARNING:tensorflow:From C:\\ProgramData\\Anaconda3\\lib\\site-packages\\tensorflow\\python\\ops\\nn_impl.py:180: add_dispatch_support.<locals>.wrapper (from tensorflow.python.ops.array_ops) is deprecated and will be removed in a future version.\n",
      "Instructions for updating:\n",
      "Use tf.where in 2.0, which has the same broadcast rule as np.where\n",
      "WARNING:tensorflow:From C:\\ProgramData\\Anaconda3\\lib\\site-packages\\keras\\backend\\tensorflow_backend.py:986: The name tf.assign_add is deprecated. Please use tf.compat.v1.assign_add instead.\n",
      "\n",
      "Train on 2545 samples, validate on 849 samples\n",
      "Epoch 1/1000\n",
      "2545/2545 [==============================] - 0s 148us/step - loss: 0.6952 - acc: 0.5870 - val_loss: 0.6529 - val_acc: 0.6243\n",
      "Epoch 2/1000\n",
      "2545/2545 [==============================] - 0s 28us/step - loss: 0.6155 - acc: 0.7069 - val_loss: 0.6224 - val_acc: 0.6690\n",
      "Epoch 3/1000\n",
      "2545/2545 [==============================] - 0s 30us/step - loss: 0.5824 - acc: 0.7194 - val_loss: 0.5984 - val_acc: 0.6808\n",
      "Epoch 4/1000\n",
      "2545/2545 [==============================] - 0s 28us/step - loss: 0.5555 - acc: 0.7336 - val_loss: 0.5789 - val_acc: 0.7126\n",
      "Epoch 5/1000\n",
      "2545/2545 [==============================] - 0s 28us/step - loss: 0.5401 - acc: 0.7466 - val_loss: 0.5663 - val_acc: 0.7126\n",
      "Epoch 6/1000\n",
      "2545/2545 [==============================] - 0s 30us/step - loss: 0.5300 - acc: 0.7509 - val_loss: 0.5626 - val_acc: 0.7150\n",
      "Epoch 7/1000\n",
      "2545/2545 [==============================] - 0s 30us/step - loss: 0.5184 - acc: 0.7501 - val_loss: 0.5548 - val_acc: 0.7161\n",
      "Epoch 8/1000\n",
      "2545/2545 [==============================] - 0s 31us/step - loss: 0.5174 - acc: 0.7580 - val_loss: 0.5554 - val_acc: 0.7114\n",
      "Epoch 9/1000\n",
      "2545/2545 [==============================] - 0s 30us/step - loss: 0.5077 - acc: 0.7544 - val_loss: 0.5647 - val_acc: 0.7150\n",
      "Epoch 10/1000\n",
      "2545/2545 [==============================] - 0s 30us/step - loss: 0.5081 - acc: 0.7544 - val_loss: 0.5434 - val_acc: 0.7291\n",
      "Epoch 11/1000\n",
      "2545/2545 [==============================] - 0s 30us/step - loss: 0.5028 - acc: 0.7568 - val_loss: 0.5527 - val_acc: 0.7114\n",
      "Epoch 12/1000\n",
      "2545/2545 [==============================] - 0s 31us/step - loss: 0.4994 - acc: 0.7591 - val_loss: 0.5409 - val_acc: 0.7173\n",
      "Epoch 13/1000\n",
      "2545/2545 [==============================] - 0s 44us/step - loss: 0.4990 - acc: 0.7564 - val_loss: 0.5431 - val_acc: 0.7244\n",
      "Epoch 14/1000\n",
      "2545/2545 [==============================] - 0s 35us/step - loss: 0.4940 - acc: 0.7627 - val_loss: 0.5485 - val_acc: 0.7220\n",
      "Epoch 15/1000\n",
      "2545/2545 [==============================] - 0s 31us/step - loss: 0.4888 - acc: 0.7646 - val_loss: 0.5789 - val_acc: 0.6938\n",
      "Epoch 16/1000\n",
      "2545/2545 [==============================] - 0s 31us/step - loss: 0.4972 - acc: 0.7599 - val_loss: 0.5382 - val_acc: 0.7314\n",
      "Epoch 17/1000\n",
      "2545/2545 [==============================] - 0s 31us/step - loss: 0.4876 - acc: 0.7705 - val_loss: 0.5525 - val_acc: 0.7244\n",
      "Epoch 18/1000\n",
      "2545/2545 [==============================] - 0s 31us/step - loss: 0.4844 - acc: 0.7627 - val_loss: 0.5446 - val_acc: 0.7173\n",
      "Epoch 19/1000\n",
      "2545/2545 [==============================] - 0s 31us/step - loss: 0.4908 - acc: 0.7611 - val_loss: 0.5460 - val_acc: 0.7208\n",
      "Epoch 20/1000\n",
      "2545/2545 [==============================] - 0s 31us/step - loss: 0.4847 - acc: 0.7749 - val_loss: 0.5410 - val_acc: 0.7244\n",
      "Epoch 21/1000\n",
      "2545/2545 [==============================] - 0s 31us/step - loss: 0.4852 - acc: 0.7737 - val_loss: 0.5456 - val_acc: 0.7161\n",
      "Epoch 22/1000\n",
      "2545/2545 [==============================] - 0s 30us/step - loss: 0.4815 - acc: 0.7646 - val_loss: 0.5382 - val_acc: 0.7279\n",
      "Epoch 23/1000\n",
      "2545/2545 [==============================] - 0s 28us/step - loss: 0.4730 - acc: 0.7784 - val_loss: 0.5426 - val_acc: 0.7232\n",
      "Epoch 24/1000\n",
      "2545/2545 [==============================] - 0s 30us/step - loss: 0.4725 - acc: 0.7697 - val_loss: 0.5552 - val_acc: 0.7208\n",
      "Epoch 25/1000\n",
      "2545/2545 [==============================] - 0s 30us/step - loss: 0.4695 - acc: 0.7796 - val_loss: 0.5386 - val_acc: 0.7232\n",
      "Epoch 26/1000\n",
      "2545/2545 [==============================] - 0s 30us/step - loss: 0.4656 - acc: 0.7745 - val_loss: 0.5443 - val_acc: 0.7197\n",
      "dict_keys(['val_loss', 'val_acc', 'loss', 'acc'])\n"
     ]
    },
    {
     "data": {
      "image/png": "[encoded data removed]",
      "text/plain": [
       "<Figure size 432x288 with 1 Axes>"
      ]
     },
     "metadata": {
      "needs_background": "light"
     },
     "output_type": "display_data"
    },
    {
     "name": "stdout",
     "output_type": "stream",
     "text": [
      "Shallow Neural Network on Count Vectors Vectors 0.7665094339622641\n",
      "[[327 101]\n",
      " [ 97 323]]\n",
      "Train on 2545 samples, validate on 849 samples\n",
      "Epoch 1/1000\n",
      "2545/2545 [==============================] - 0s 173us/step - loss: 0.7288 - acc: 0.5081 - val_loss: 0.6950 - val_acc: 0.4947\n",
      "Epoch 2/1000\n",
      "2545/2545 [==============================] - 0s 30us/step - loss: 0.6938 - acc: 0.4994 - val_loss: 0.6914 - val_acc: 0.5053\n",
      "Epoch 3/1000\n",
      "2545/2545 [==============================] - 0s 31us/step - loss: 0.6907 - acc: 0.5305 - val_loss: 0.6900 - val_acc: 0.5135\n",
      "Epoch 4/1000\n",
      "2545/2545 [==============================] - 0s 31us/step - loss: 0.6892 - acc: 0.5438 - val_loss: 0.6882 - val_acc: 0.5512\n",
      "Epoch 5/1000\n",
      "2545/2545 [==============================] - 0s 31us/step - loss: 0.6879 - acc: 0.6000 - val_loss: 0.6865 - val_acc: 0.5760\n",
      "Epoch 6/1000\n",
      "2545/2545 [==============================] - 0s 30us/step - loss: 0.6856 - acc: 0.5466 - val_loss: 0.6900 - val_acc: 0.5006\n",
      "Epoch 7/1000\n",
      "2545/2545 [==============================] - 0s 30us/step - loss: 0.6847 - acc: 0.6259 - val_loss: 0.6831 - val_acc: 0.6007\n",
      "Epoch 8/1000\n",
      "2545/2545 [==============================] - 0s 31us/step - loss: 0.6816 - acc: 0.5725 - val_loss: 0.6813 - val_acc: 0.6090\n",
      "Epoch 9/1000\n",
      "2545/2545 [==============================] - 0s 31us/step - loss: 0.6803 - acc: 0.5953 - val_loss: 0.6797 - val_acc: 0.5795\n",
      "Epoch 10/1000\n",
      "2545/2545 [==============================] - 0s 31us/step - loss: 0.6770 - acc: 0.6314 - val_loss: 0.6777 - val_acc: 0.6113\n",
      "Epoch 11/1000\n",
      "2545/2545 [==============================] - 0s 30us/step - loss: 0.6757 - acc: 0.6373 - val_loss: 0.6764 - val_acc: 0.5642\n",
      "Epoch 12/1000\n",
      "2545/2545 [==============================] - 0s 31us/step - loss: 0.6744 - acc: 0.6244 - val_loss: 0.6745 - val_acc: 0.5736\n",
      "Epoch 13/1000\n",
      "2545/2545 [==============================] - 0s 35us/step - loss: 0.6694 - acc: 0.6739 - val_loss: 0.6716 - val_acc: 0.6243\n",
      "Epoch 14/1000\n",
      "2545/2545 [==============================] - 0s 31us/step - loss: 0.6685 - acc: 0.6723 - val_loss: 0.6689 - val_acc: 0.6702\n",
      "Epoch 15/1000\n",
      "2545/2545 [==============================] - 0s 30us/step - loss: 0.6659 - acc: 0.7253 - val_loss: 0.6662 - val_acc: 0.7291\n",
      "Epoch 16/1000\n",
      "2545/2545 [==============================] - 0s 31us/step - loss: 0.6631 - acc: 0.6963 - val_loss: 0.6638 - val_acc: 0.7150\n",
      "Epoch 17/1000\n",
      "2545/2545 [==============================] - 0s 30us/step - loss: 0.6601 - acc: 0.7273 - val_loss: 0.6615 - val_acc: 0.6961\n",
      "Epoch 18/1000\n",
      "2545/2545 [==============================] - 0s 30us/step - loss: 0.6579 - acc: 0.7136 - val_loss: 0.6587 - val_acc: 0.7303\n",
      "Epoch 19/1000\n",
      "2545/2545 [==============================] - 0s 31us/step - loss: 0.6556 - acc: 0.6967 - val_loss: 0.6575 - val_acc: 0.6620\n",
      "Epoch 20/1000\n",
      "2545/2545 [==============================] - 0s 33us/step - loss: 0.6523 - acc: 0.6990 - val_loss: 0.6538 - val_acc: 0.6973\n",
      "Epoch 21/1000\n",
      "2545/2545 [==============================] - 0s 30us/step - loss: 0.6490 - acc: 0.7281 - val_loss: 0.6505 - val_acc: 0.7267\n",
      "Epoch 22/1000\n",
      "2545/2545 [==============================] - 0s 30us/step - loss: 0.6464 - acc: 0.7175 - val_loss: 0.6474 - val_acc: 0.7267\n",
      "Epoch 23/1000\n",
      "2545/2545 [==============================] - 0s 30us/step - loss: 0.6424 - acc: 0.7147 - val_loss: 0.6478 - val_acc: 0.6443\n",
      "Epoch 24/1000\n",
      "2545/2545 [==============================] - 0s 33us/step - loss: 0.6402 - acc: 0.6833 - val_loss: 0.6427 - val_acc: 0.6867\n",
      "Epoch 25/1000\n",
      "2545/2545 [==============================] - 0s 35us/step - loss: 0.6366 - acc: 0.7120 - val_loss: 0.6426 - val_acc: 0.6443\n",
      "Epoch 26/1000\n",
      "2545/2545 [==============================] - 0s 31us/step - loss: 0.6329 - acc: 0.7124 - val_loss: 0.6355 - val_acc: 0.7244\n",
      "Epoch 27/1000\n",
      "2545/2545 [==============================] - 0s 31us/step - loss: 0.6293 - acc: 0.7265 - val_loss: 0.6368 - val_acc: 0.6667\n",
      "Epoch 28/1000\n",
      "2545/2545 [==============================] - 0s 33us/step - loss: 0.6285 - acc: 0.7218 - val_loss: 0.6291 - val_acc: 0.7291\n",
      "dict_keys(['val_loss', 'val_acc', 'loss', 'acc'])\n"
     ]
    },
    {
     "data": {
      "image/png": "[encoded data removed]",
      "text/plain": [
       "<Figure size 432x288 with 1 Axes>"
      ]
     },
     "metadata": {
      "needs_background": "light"
     },
     "output_type": "display_data"
    },
    {
     "name": "stdout",
     "output_type": "stream",
     "text": [
      "Shallow Neural Network on Word Level TF IDF Vectors 0.7346698113207547\n",
      "[[295  96]\n",
      " [129 328]]\n",
      "Train on 2545 samples, validate on 849 samples\n",
      "Epoch 1/1000\n",
      "2545/2545 [==============================] - 1s 376us/step - loss: 0.7182 - acc: 0.5399 - val_loss: 0.6487 - val_acc: 0.7597\n",
      "Epoch 2/1000\n",
      "2545/2545 [==============================] - 1s 240us/step - loss: 0.6178 - acc: 0.8538 - val_loss: 0.5985 - val_acc: 0.8610\n",
      "Epoch 3/1000\n",
      "2545/2545 [==============================] - 1s 214us/step - loss: 0.5622 - acc: 0.8719 - val_loss: 0.5508 - val_acc: 0.8575\n",
      "Epoch 4/1000\n",
      "2545/2545 [==============================] - 1s 220us/step - loss: 0.5073 - acc: 0.8888 - val_loss: 0.5036 - val_acc: 0.8657\n",
      "Epoch 5/1000\n",
      "2545/2545 [==============================] - 1s 222us/step - loss: 0.4551 - acc: 0.8916 - val_loss: 0.4610 - val_acc: 0.8704\n",
      "Epoch 6/1000\n",
      "2545/2545 [==============================] - 1s 226us/step - loss: 0.4080 - acc: 0.8994 - val_loss: 0.4213 - val_acc: 0.8645\n",
      "Epoch 7/1000\n",
      "2545/2545 [==============================] - 1s 223us/step - loss: 0.3651 - acc: 0.9073 - val_loss: 0.3900 - val_acc: 0.8716\n",
      "Epoch 8/1000\n",
      "2545/2545 [==============================] - 1s 244us/step - loss: 0.3300 - acc: 0.9081 - val_loss: 0.3640 - val_acc: 0.8751\n",
      "Epoch 9/1000\n",
      "2545/2545 [==============================] - 1s 229us/step - loss: 0.3016 - acc: 0.9132 - val_loss: 0.3436 - val_acc: 0.8799\n",
      "Epoch 10/1000\n",
      "2545/2545 [==============================] - 1s 233us/step - loss: 0.2767 - acc: 0.9179 - val_loss: 0.3244 - val_acc: 0.8787\n",
      "Epoch 11/1000\n",
      "2545/2545 [==============================] - 1s 222us/step - loss: 0.2548 - acc: 0.9222 - val_loss: 0.3105 - val_acc: 0.8799\n",
      "Epoch 12/1000\n",
      "2545/2545 [==============================] - 1s 236us/step - loss: 0.2364 - acc: 0.9293 - val_loss: 0.3007 - val_acc: 0.8893\n",
      "Epoch 13/1000\n",
      "2545/2545 [==============================] - 1s 229us/step - loss: 0.2209 - acc: 0.9344 - val_loss: 0.3008 - val_acc: 0.8928\n",
      "Epoch 14/1000\n",
      "2545/2545 [==============================] - 1s 233us/step - loss: 0.2067 - acc: 0.9415 - val_loss: 0.2823 - val_acc: 0.8940\n",
      "Epoch 15/1000\n",
      "2545/2545 [==============================] - 1s 231us/step - loss: 0.1939 - acc: 0.9470 - val_loss: 0.2758 - val_acc: 0.8905\n",
      "Epoch 16/1000\n",
      "2545/2545 [==============================] - 1s 237us/step - loss: 0.1822 - acc: 0.9481 - val_loss: 0.2714 - val_acc: 0.8999\n",
      "Epoch 17/1000\n",
      "2545/2545 [==============================] - 1s 229us/step - loss: 0.1716 - acc: 0.9544 - val_loss: 0.2672 - val_acc: 0.8999\n",
      "Epoch 18/1000\n",
      "2545/2545 [==============================] - 1s 220us/step - loss: 0.1612 - acc: 0.9576 - val_loss: 0.2624 - val_acc: 0.8999\n",
      "Epoch 19/1000\n",
      "2545/2545 [==============================] - 1s 220us/step - loss: 0.1519 - acc: 0.9572 - val_loss: 0.2656 - val_acc: 0.8987\n",
      "Epoch 20/1000\n",
      "2545/2545 [==============================] - 1s 220us/step - loss: 0.1432 - acc: 0.9607 - val_loss: 0.2589 - val_acc: 0.8975\n",
      "Epoch 21/1000\n",
      "2545/2545 [==============================] - 1s 237us/step - loss: 0.1349 - acc: 0.9666 - val_loss: 0.2540 - val_acc: 0.9011\n",
      "Epoch 22/1000\n",
      "2545/2545 [==============================] - 1s 229us/step - loss: 0.1282 - acc: 0.9650 - val_loss: 0.2570 - val_acc: 0.8975\n",
      "Epoch 23/1000\n",
      "2545/2545 [==============================] - 1s 225us/step - loss: 0.1210 - acc: 0.9717 - val_loss: 0.2515 - val_acc: 0.8963\n",
      "Epoch 24/1000\n",
      "2545/2545 [==============================] - 1s 229us/step - loss: 0.1140 - acc: 0.9729 - val_loss: 0.2502 - val_acc: 0.9022\n",
      "Epoch 25/1000\n",
      "2545/2545 [==============================] - 1s 231us/step - loss: 0.1079 - acc: 0.9792 - val_loss: 0.2532 - val_acc: 0.8999\n",
      "Epoch 26/1000\n",
      "2545/2545 [==============================] - 1s 225us/step - loss: 0.1018 - acc: 0.9804 - val_loss: 0.2501 - val_acc: 0.9046\n",
      "Epoch 27/1000\n",
      "2545/2545 [==============================] - 1s 237us/step - loss: 0.0963 - acc: 0.9827 - val_loss: 0.2516 - val_acc: 0.9011\n",
      "Epoch 28/1000\n",
      "2545/2545 [==============================] - 1s 226us/step - loss: 0.0915 - acc: 0.9835 - val_loss: 0.2496 - val_acc: 0.9022\n",
      "Epoch 29/1000\n",
      "2545/2545 [==============================] - 1s 228us/step - loss: 0.0871 - acc: 0.9843 - val_loss: 0.2492 - val_acc: 0.8987\n",
      "Epoch 30/1000\n",
      "2545/2545 [==============================] - 1s 225us/step - loss: 0.0815 - acc: 0.9870 - val_loss: 0.2496 - val_acc: 0.9022\n",
      "Epoch 31/1000\n",
      "2545/2545 [==============================] - 1s 259us/step - loss: 0.0767 - acc: 0.9886 - val_loss: 0.2512 - val_acc: 0.9022\n",
      "Epoch 32/1000\n",
      "2545/2545 [==============================] - 1s 223us/step - loss: 0.0732 - acc: 0.9886 - val_loss: 0.2515 - val_acc: 0.8999\n",
      "Epoch 33/1000\n",
      "2545/2545 [==============================] - 1s 228us/step - loss: 0.0694 - acc: 0.9910 - val_loss: 0.2515 - val_acc: 0.8963\n",
      "Epoch 34/1000\n",
      "2545/2545 [==============================] - 1s 251us/step - loss: 0.0657 - acc: 0.9925 - val_loss: 0.2523 - val_acc: 0.8952\n",
      "Epoch 35/1000\n",
      "2545/2545 [==============================] - 1s 240us/step - loss: 0.0618 - acc: 0.9937 - val_loss: 0.2544 - val_acc: 0.8975\n",
      "Epoch 36/1000\n",
      "2545/2545 [==============================] - 1s 233us/step - loss: 0.0589 - acc: 0.9937 - val_loss: 0.2545 - val_acc: 0.8975\n",
      "dict_keys(['val_loss', 'val_acc', 'loss', 'acc'])\n"
     ]
    },
    {
     "data": {
      "image/png": "[encoded data removed]",
      "text/plain": [
       "<Figure size 432x288 with 1 Axes>"
      ]
     },
     "metadata": {
      "needs_background": "light"
     },
     "output_type": "display_data"
    },
    {
     "name": "stdout",
     "output_type": "stream",
     "text": [
      "Shallow Neural Network on Ngram Level TF IDF Vectors 0.9186320754716981\n",
      "[[390  35]\n",
      " [ 34 389]]\n",
      "Train on 2545 samples, validate on 849 samples\n",
      "Epoch 1/1000\n",
      "2545/2545 [==============================] - 1s 285us/step - loss: 0.6898 - acc: 0.5222 - val_loss: 0.6841 - val_acc: 0.6172\n",
      "Epoch 2/1000\n",
      "2545/2545 [==============================] - 0s 72us/step - loss: 0.6798 - acc: 0.6872 - val_loss: 0.6756 - val_acc: 0.7927\n",
      "Epoch 3/1000\n",
      "2545/2545 [==============================] - 0s 69us/step - loss: 0.6697 - acc: 0.8012 - val_loss: 0.6671 - val_acc: 0.7998\n",
      "Epoch 4/1000\n",
      "2545/2545 [==============================] - 0s 74us/step - loss: 0.6600 - acc: 0.6365 - val_loss: 0.6617 - val_acc: 0.5677\n",
      "Epoch 5/1000\n",
      "2545/2545 [==============================] - 0s 69us/step - loss: 0.6496 - acc: 0.7690 - val_loss: 0.6491 - val_acc: 0.7633\n",
      "Epoch 6/1000\n",
      "2545/2545 [==============================] - 0s 63us/step - loss: 0.6398 - acc: 0.7395 - val_loss: 0.6427 - val_acc: 0.6466\n",
      "Epoch 7/1000\n",
      "2545/2545 [==============================] - 0s 63us/step - loss: 0.6285 - acc: 0.7784 - val_loss: 0.6310 - val_acc: 0.7185\n",
      "Epoch 8/1000\n",
      "2545/2545 [==============================] - 0s 72us/step - loss: 0.6158 - acc: 0.8181 - val_loss: 0.6185 - val_acc: 0.7986\n",
      "Epoch 9/1000\n",
      "2545/2545 [==============================] - 0s 72us/step - loss: 0.6036 - acc: 0.8193 - val_loss: 0.6064 - val_acc: 0.8057\n",
      "Epoch 10/1000\n",
      "2545/2545 [==============================] - 0s 66us/step - loss: 0.5901 - acc: 0.8295 - val_loss: 0.5958 - val_acc: 0.7727\n",
      "Epoch 11/1000\n",
      "2545/2545 [==============================] - 0s 68us/step - loss: 0.5768 - acc: 0.8271 - val_loss: 0.5826 - val_acc: 0.8068\n",
      "Epoch 12/1000\n",
      "2545/2545 [==============================] - 0s 75us/step - loss: 0.5637 - acc: 0.8220 - val_loss: 0.5703 - val_acc: 0.7998\n",
      "Epoch 13/1000\n",
      "2545/2545 [==============================] - 0s 69us/step - loss: 0.5498 - acc: 0.8220 - val_loss: 0.5607 - val_acc: 0.7927\n",
      "Epoch 14/1000\n",
      "2545/2545 [==============================] - 0s 69us/step - loss: 0.5350 - acc: 0.8228 - val_loss: 0.5499 - val_acc: 0.7703\n",
      "Epoch 15/1000\n",
      "2545/2545 [==============================] - 0s 69us/step - loss: 0.5216 - acc: 0.8322 - val_loss: 0.5346 - val_acc: 0.8068\n",
      "Epoch 16/1000\n",
      "2545/2545 [==============================] - 0s 64us/step - loss: 0.5090 - acc: 0.8346 - val_loss: 0.5232 - val_acc: 0.8104\n",
      "Epoch 17/1000\n",
      "2545/2545 [==============================] - 0s 63us/step - loss: 0.4952 - acc: 0.8354 - val_loss: 0.5127 - val_acc: 0.8057\n",
      "Epoch 18/1000\n",
      "2545/2545 [==============================] - 0s 63us/step - loss: 0.4830 - acc: 0.8354 - val_loss: 0.5027 - val_acc: 0.8045\n",
      "Epoch 19/1000\n",
      "2545/2545 [==============================] - 0s 60us/step - loss: 0.4722 - acc: 0.8420 - val_loss: 0.4938 - val_acc: 0.8104\n",
      "Epoch 20/1000\n",
      "2545/2545 [==============================] - 0s 60us/step - loss: 0.4615 - acc: 0.8401 - val_loss: 0.4860 - val_acc: 0.8151\n",
      "Epoch 21/1000\n",
      "2545/2545 [==============================] - 0s 61us/step - loss: 0.4498 - acc: 0.8436 - val_loss: 0.4759 - val_acc: 0.8104\n",
      "Epoch 22/1000\n",
      "2545/2545 [==============================] - 0s 63us/step - loss: 0.4400 - acc: 0.8464 - val_loss: 0.4693 - val_acc: 0.8104\n",
      "Epoch 23/1000\n",
      "2545/2545 [==============================] - 0s 60us/step - loss: 0.4311 - acc: 0.8479 - val_loss: 0.4614 - val_acc: 0.8163\n",
      "Epoch 24/1000\n",
      "2545/2545 [==============================] - 0s 60us/step - loss: 0.4239 - acc: 0.8507 - val_loss: 0.4544 - val_acc: 0.8139\n",
      "Epoch 25/1000\n",
      "2545/2545 [==============================] - 0s 60us/step - loss: 0.4149 - acc: 0.8546 - val_loss: 0.4485 - val_acc: 0.8198\n",
      "Epoch 26/1000\n",
      "2545/2545 [==============================] - 0s 61us/step - loss: 0.4085 - acc: 0.8515 - val_loss: 0.4434 - val_acc: 0.8174\n",
      "Epoch 27/1000\n",
      "2545/2545 [==============================] - 0s 61us/step - loss: 0.4000 - acc: 0.8554 - val_loss: 0.4374 - val_acc: 0.8221\n",
      "Epoch 28/1000\n",
      "2545/2545 [==============================] - 0s 64us/step - loss: 0.3931 - acc: 0.8582 - val_loss: 0.4323 - val_acc: 0.8221\n",
      "Epoch 29/1000\n",
      "2545/2545 [==============================] - 0s 64us/step - loss: 0.3868 - acc: 0.8609 - val_loss: 0.4276 - val_acc: 0.8233\n",
      "Epoch 30/1000\n",
      "2545/2545 [==============================] - 0s 60us/step - loss: 0.3810 - acc: 0.8593 - val_loss: 0.4230 - val_acc: 0.8280\n",
      "Epoch 31/1000\n",
      "2545/2545 [==============================] - 0s 61us/step - loss: 0.3752 - acc: 0.8629 - val_loss: 0.4189 - val_acc: 0.8292\n",
      "Epoch 32/1000\n",
      "2545/2545 [==============================] - 0s 60us/step - loss: 0.3694 - acc: 0.8640 - val_loss: 0.4147 - val_acc: 0.8292\n",
      "Epoch 33/1000\n",
      "2545/2545 [==============================] - 0s 63us/step - loss: 0.3638 - acc: 0.8668 - val_loss: 0.4113 - val_acc: 0.8339\n",
      "Epoch 34/1000\n",
      "2545/2545 [==============================] - 0s 61us/step - loss: 0.3590 - acc: 0.8648 - val_loss: 0.4074 - val_acc: 0.8316\n",
      "Epoch 35/1000\n",
      "2545/2545 [==============================] - 0s 60us/step - loss: 0.3553 - acc: 0.8621 - val_loss: 0.4040 - val_acc: 0.8351\n",
      "Epoch 36/1000\n",
      "2545/2545 [==============================] - 0s 61us/step - loss: 0.3513 - acc: 0.8629 - val_loss: 0.4061 - val_acc: 0.8304\n",
      "Epoch 37/1000\n",
      "2545/2545 [==============================] - 0s 82us/step - loss: 0.3450 - acc: 0.8672 - val_loss: 0.3993 - val_acc: 0.8339\n",
      "Epoch 38/1000\n",
      "2545/2545 [==============================] - 0s 68us/step - loss: 0.3424 - acc: 0.8668 - val_loss: 0.3953 - val_acc: 0.8245\n",
      "Epoch 39/1000\n",
      "2545/2545 [==============================] - 0s 63us/step - loss: 0.3365 - acc: 0.8692 - val_loss: 0.3925 - val_acc: 0.8245\n",
      "Epoch 40/1000\n",
      "2545/2545 [==============================] - 0s 61us/step - loss: 0.3331 - acc: 0.8770 - val_loss: 0.3924 - val_acc: 0.8339\n",
      "Epoch 41/1000\n",
      "2545/2545 [==============================] - 0s 61us/step - loss: 0.3300 - acc: 0.8699 - val_loss: 0.3891 - val_acc: 0.8257\n",
      "Epoch 42/1000\n",
      "2545/2545 [==============================] - 0s 61us/step - loss: 0.3260 - acc: 0.8766 - val_loss: 0.3844 - val_acc: 0.8363\n",
      "Epoch 43/1000\n",
      "2545/2545 [==============================] - 0s 61us/step - loss: 0.3212 - acc: 0.8770 - val_loss: 0.3821 - val_acc: 0.8375\n",
      "Epoch 44/1000\n",
      "2545/2545 [==============================] - 0s 61us/step - loss: 0.3189 - acc: 0.8782 - val_loss: 0.3802 - val_acc: 0.8316\n",
      "Epoch 45/1000\n",
      "2545/2545 [==============================] - 0s 63us/step - loss: 0.3145 - acc: 0.8806 - val_loss: 0.3785 - val_acc: 0.8363\n",
      "Epoch 46/1000\n",
      "2545/2545 [==============================] - 0s 66us/step - loss: 0.3113 - acc: 0.8841 - val_loss: 0.3770 - val_acc: 0.8363\n",
      "Epoch 47/1000\n",
      "2545/2545 [==============================] - 0s 66us/step - loss: 0.3079 - acc: 0.8861 - val_loss: 0.3736 - val_acc: 0.8410\n",
      "Epoch 48/1000\n",
      "2545/2545 [==============================] - 0s 69us/step - loss: 0.3049 - acc: 0.8841 - val_loss: 0.3722 - val_acc: 0.8386\n",
      "Epoch 49/1000\n",
      "2545/2545 [==============================] - 0s 68us/step - loss: 0.3024 - acc: 0.8861 - val_loss: 0.3698 - val_acc: 0.8422\n",
      "Epoch 50/1000\n",
      "2545/2545 [==============================] - 0s 68us/step - loss: 0.2997 - acc: 0.8868 - val_loss: 0.3681 - val_acc: 0.8422\n",
      "Epoch 51/1000\n",
      "2545/2545 [==============================] - 0s 66us/step - loss: 0.2968 - acc: 0.8876 - val_loss: 0.3663 - val_acc: 0.8433\n",
      "Epoch 52/1000\n",
      "2545/2545 [==============================] - 0s 64us/step - loss: 0.2934 - acc: 0.8908 - val_loss: 0.3660 - val_acc: 0.8410\n",
      "Epoch 53/1000\n",
      "2545/2545 [==============================] - 0s 63us/step - loss: 0.2915 - acc: 0.8892 - val_loss: 0.3644 - val_acc: 0.8433\n",
      "Epoch 54/1000\n",
      "2545/2545 [==============================] - 0s 64us/step - loss: 0.2884 - acc: 0.8912 - val_loss: 0.3636 - val_acc: 0.8422\n",
      "Epoch 55/1000\n",
      "2545/2545 [==============================] - 0s 63us/step - loss: 0.2853 - acc: 0.8959 - val_loss: 0.3673 - val_acc: 0.8422\n",
      "Epoch 56/1000\n",
      "2545/2545 [==============================] - 0s 63us/step - loss: 0.2855 - acc: 0.8912 - val_loss: 0.3592 - val_acc: 0.8492\n",
      "Epoch 57/1000\n",
      "2545/2545 [==============================] - 0s 64us/step - loss: 0.2833 - acc: 0.8939 - val_loss: 0.3703 - val_acc: 0.8339\n",
      "Epoch 58/1000\n",
      "2545/2545 [==============================] - 0s 63us/step - loss: 0.2819 - acc: 0.8943 - val_loss: 0.3566 - val_acc: 0.8492\n",
      "Epoch 59/1000\n",
      "2545/2545 [==============================] - 0s 61us/step - loss: 0.2766 - acc: 0.8947 - val_loss: 0.3585 - val_acc: 0.8481\n",
      "Epoch 60/1000\n",
      "2545/2545 [==============================] - 0s 63us/step - loss: 0.2748 - acc: 0.8935 - val_loss: 0.3578 - val_acc: 0.8469\n",
      "Epoch 61/1000\n",
      "2545/2545 [==============================] - 0s 61us/step - loss: 0.2723 - acc: 0.8967 - val_loss: 0.3530 - val_acc: 0.8481\n",
      "Epoch 62/1000\n",
      "2545/2545 [==============================] - 0s 60us/step - loss: 0.2696 - acc: 0.8982 - val_loss: 0.3575 - val_acc: 0.8433\n",
      "Epoch 63/1000\n",
      "2545/2545 [==============================] - 0s 64us/step - loss: 0.2682 - acc: 0.8978 - val_loss: 0.3505 - val_acc: 0.8528\n",
      "Epoch 64/1000\n",
      "2545/2545 [==============================] - 0s 63us/step - loss: 0.2663 - acc: 0.9018 - val_loss: 0.3496 - val_acc: 0.8539\n",
      "Epoch 65/1000\n",
      "2545/2545 [==============================] - 0s 64us/step - loss: 0.2636 - acc: 0.9029 - val_loss: 0.3487 - val_acc: 0.8539\n",
      "Epoch 66/1000\n",
      "2545/2545 [==============================] - 0s 61us/step - loss: 0.2621 - acc: 0.9053 - val_loss: 0.3479 - val_acc: 0.8528\n",
      "Epoch 67/1000\n",
      "2545/2545 [==============================] - 0s 61us/step - loss: 0.2600 - acc: 0.9053 - val_loss: 0.3467 - val_acc: 0.8598\n",
      "Epoch 68/1000\n",
      "2545/2545 [==============================] - 0s 63us/step - loss: 0.2585 - acc: 0.9029 - val_loss: 0.3476 - val_acc: 0.8551\n",
      "Epoch 69/1000\n",
      "2545/2545 [==============================] - 0s 63us/step - loss: 0.2574 - acc: 0.9037 - val_loss: 0.3450 - val_acc: 0.8598\n",
      "Epoch 70/1000\n",
      "2545/2545 [==============================] - 0s 61us/step - loss: 0.2550 - acc: 0.9053 - val_loss: 0.3475 - val_acc: 0.8575\n",
      "Epoch 71/1000\n",
      "2545/2545 [==============================] - 0s 64us/step - loss: 0.2539 - acc: 0.9065 - val_loss: 0.3436 - val_acc: 0.8563\n",
      "Epoch 72/1000\n",
      "2545/2545 [==============================] - 0s 63us/step - loss: 0.2542 - acc: 0.9065 - val_loss: 0.3435 - val_acc: 0.8539\n",
      "Epoch 73/1000\n",
      "2545/2545 [==============================] - 0s 66us/step - loss: 0.2522 - acc: 0.9061 - val_loss: 0.3424 - val_acc: 0.8634\n",
      "Epoch 74/1000\n",
      "2545/2545 [==============================] - 0s 61us/step - loss: 0.2481 - acc: 0.9084 - val_loss: 0.3419 - val_acc: 0.8575\n",
      "Epoch 75/1000\n",
      "2545/2545 [==============================] - 0s 61us/step - loss: 0.2464 - acc: 0.9084 - val_loss: 0.3415 - val_acc: 0.8575\n",
      "Epoch 76/1000\n",
      "2545/2545 [==============================] - 0s 61us/step - loss: 0.2445 - acc: 0.9108 - val_loss: 0.3401 - val_acc: 0.8598\n",
      "Epoch 77/1000\n",
      "2545/2545 [==============================] - 0s 63us/step - loss: 0.2437 - acc: 0.9108 - val_loss: 0.3416 - val_acc: 0.8598\n",
      "Epoch 78/1000\n",
      "2545/2545 [==============================] - 0s 61us/step - loss: 0.2429 - acc: 0.9108 - val_loss: 0.3397 - val_acc: 0.8598\n",
      "Epoch 79/1000\n",
      "2545/2545 [==============================] - 0s 61us/step - loss: 0.2401 - acc: 0.9136 - val_loss: 0.3624 - val_acc: 0.8410\n",
      "Epoch 80/1000\n",
      "2545/2545 [==============================] - 0s 60us/step - loss: 0.2416 - acc: 0.9081 - val_loss: 0.3377 - val_acc: 0.8610\n",
      "Epoch 81/1000\n",
      "2545/2545 [==============================] - 0s 60us/step - loss: 0.2377 - acc: 0.9128 - val_loss: 0.3438 - val_acc: 0.8587\n",
      "Epoch 82/1000\n",
      "2545/2545 [==============================] - 0s 60us/step - loss: 0.2363 - acc: 0.9139 - val_loss: 0.3388 - val_acc: 0.8622\n",
      "Epoch 83/1000\n",
      "2545/2545 [==============================] - 0s 72us/step - loss: 0.2349 - acc: 0.9132 - val_loss: 0.3370 - val_acc: 0.8634\n",
      "dict_keys(['val_loss', 'val_acc', 'loss', 'acc'])\n"
     ]
    },
    {
     "data": {
      "image/png": "[encoded data removed]",
      "text/plain": [
       "<Figure size 432x288 with 1 Axes>"
      ]
     },
     "metadata": {
      "needs_background": "light"
     },
     "output_type": "display_data"
    },
    {
     "name": "stdout",
     "output_type": "stream",
     "text": [
      "Shallow Neural Network on Character Level TF IDF Vectors 0.8832547169811321\n",
      "[[365  40]\n",
      " [ 59 384]]\n"
     ]
    }
   ],
   "source": [
    "# Função para criar a arquitetura da rede neural\n",
    "def create_model_architecture(input_size):\n",
    "    model = Sequential()\n",
    "    \n",
    "    # create hidden layer\n",
    "    model.add(layers.Dense(100,\n",
    "                           input_shape=(input_size, ),\n",
    "                           activation=\"sigmoid\"))\n",
    "       \n",
    "    # create output layer\n",
    "    model.add(layers.Dense(1, activation='sigmoid')) \n",
    "    \n",
    "    opt = optimizers.Adam()\n",
    "    model.compile(optimizer=opt, loss='binary_crossentropy', metrics=['acc'])\n",
    "\n",
    "    return model \n",
    "\n",
    "num_classes = 1\n",
    "\n",
    "# Shallow Neural Network on Count Vectors Vectors\n",
    "classifier = create_model_architecture(xtrain_count.shape[1])\n",
    "accuracy, confusion = train_model(classifier, xtrain_count, train_y, xtest_count, is_neural_net=True)\n",
    "print (\"Shallow Neural Network on Count Vectors Vectors\",  accuracy)\n",
    "with tf.Session() as sess:\n",
    "    print(confusion.eval())\n",
    "\n",
    "\n",
    "# Shallow Neural Network on Word Level TF IDF Vectors\n",
    "classifier = create_model_architecture(xtrain_tfidf.shape[1])\n",
    "accuracy, confusion = train_model(classifier, xtrain_tfidf, train_y, xtest_tfidf, is_neural_net=True)\n",
    "print (\"Shallow Neural Network on Word Level TF IDF Vectors\",  accuracy,)\n",
    "with tf.Session() as sess:\n",
    "    print(confusion.eval())\n",
    "\n",
    "# Shallow Neural Network on Ngram Level TF IDF Vectors\n",
    "classifier = create_model_architecture(xtrain_tfidf_ngram.shape[1])\n",
    "accuracy, confusion = train_model(classifier, xtrain_tfidf_ngram, train_y, xtest_tfidf_ngram, is_neural_net=True)\n",
    "print (\"Shallow Neural Network on Ngram Level TF IDF Vectors\",  accuracy)\n",
    "with tf.Session() as sess:\n",
    "    print(confusion.eval())\n",
    "\n",
    "\n",
    "# Shallow Neural Network on Character Level TF IDF Vectors\n",
    "classifier = create_model_architecture(xtrain_tfidf_ngram_chars.shape[1])\n",
    "accuracy, confusion = train_model(classifier, xtrain_tfidf_ngram_chars, train_y, xtest_tfidf_ngram_chars, is_neural_net=True)\n",
    "print (\"Shallow Neural Network on Character Level TF IDF Vectors\",  accuracy)\n",
    "with tf.Session() as sess:\n",
    "    print(confusion.eval())"
   ]
  },
  {
   "attachments": {
    "image.png": {
     "image/png": "[encoded data removed]"
    }
   },
   "cell_type": "markdown",
   "metadata": {},
   "source": [
    "**Deep Neural Networks**  \n",
    "Redes neurais profundas são redes mais complexas em que as camadas escondidas realizam operações mais complexas. Diferentes tipos de redes podem ser aplicados aos problemas de classificação de texto.\n",
    "![image.png](attachment:image.png)"
   ]
  },
  {
   "cell_type": "markdown",
   "metadata": {},
   "source": [
    "**Convolutional Neural Network**  "
   ]
  },
  {
   "cell_type": "code",
   "execution_count": 25,
   "metadata": {
    "scrolled": true
   },
   "outputs": [
    {
     "name": "stdout",
     "output_type": "stream",
     "text": [
      "WARNING:tensorflow:From C:\\ProgramData\\Anaconda3\\lib\\site-packages\\keras\\backend\\tensorflow_backend.py:3445: calling dropout (from tensorflow.python.ops.nn_ops) with keep_prob is deprecated and will be removed in a future version.\n",
      "Instructions for updating:\n",
      "Please use `rate` instead of `keep_prob`. Rate should be set to `rate = 1 - keep_prob`.\n",
      "WARNING:tensorflow:From C:\\ProgramData\\Anaconda3\\lib\\site-packages\\keras\\backend\\tensorflow_backend.py:3976: The name tf.nn.max_pool is deprecated. Please use tf.nn.max_pool2d instead.\n",
      "\n",
      "_________________________________________________________________\n",
      "Layer (type)                 Output Shape              Param #   \n",
      "=================================================================\n",
      "input_1 (InputLayer)         (None, 400)               0         \n",
      "_________________________________________________________________\n",
      "embedding_1 (Embedding)      (None, 400, 50)           9289150   \n",
      "_________________________________________________________________\n",
      "spatial_dropout1d_1 (Spatial (None, 400, 50)           0         \n",
      "_________________________________________________________________\n",
      "conv1d_1 (Conv1D)            (None, 396, 128)          32128     \n",
      "_________________________________________________________________\n",
      "max_pooling1d_1 (MaxPooling1 (None, 198, 128)          0         \n",
      "_________________________________________________________________\n",
      "dropout_1 (Dropout)          (None, 198, 128)          0         \n",
      "_________________________________________________________________\n",
      "conv1d_2 (Conv1D)            (None, 194, 128)          82048     \n",
      "_________________________________________________________________\n",
      "max_pooling1d_2 (MaxPooling1 (None, 97, 128)           0         \n",
      "_________________________________________________________________\n",
      "dropout_2 (Dropout)          (None, 97, 128)           0         \n",
      "_________________________________________________________________\n",
      "conv1d_3 (Conv1D)            (None, 93, 128)           82048     \n",
      "_________________________________________________________________\n",
      "global_max_pooling1d_1 (Glob (None, 128)               0         \n",
      "_________________________________________________________________\n",
      "dropout_3 (Dropout)          (None, 128)               0         \n",
      "_________________________________________________________________\n",
      "dense_9 (Dense)              (None, 512)               66048     \n",
      "_________________________________________________________________\n",
      "dense_10 (Dense)             (None, 512)               262656    \n",
      "_________________________________________________________________\n",
      "dropout_4 (Dropout)          (None, 512)               0         \n",
      "_________________________________________________________________\n",
      "dense_11 (Dense)             (None, 1)                 513       \n",
      "=================================================================\n",
      "Total params: 9,814,591\n",
      "Trainable params: 525,441\n",
      "Non-trainable params: 9,289,150\n",
      "_________________________________________________________________\n",
      "None\n",
      "Train on 2545 samples, validate on 849 samples\n",
      "Epoch 1/1000\n",
      "2545/2545 [==============================] - 8s 3ms/step - loss: 0.9029 - acc: 0.4971 - val_loss: 0.6923 - val_acc: 0.5147\n",
      "Epoch 2/1000\n",
      "2545/2545 [==============================] - 8s 3ms/step - loss: 0.6945 - acc: 0.4986 - val_loss: 0.6865 - val_acc: 0.4994\n",
      "Epoch 3/1000\n",
      "2545/2545 [==============================] - 8s 3ms/step - loss: 0.6944 - acc: 0.4974 - val_loss: 0.6936 - val_acc: 0.5112\n",
      "Epoch 4/1000\n",
      "2545/2545 [==============================] - 8s 3ms/step - loss: 0.6955 - acc: 0.4876 - val_loss: 0.6895 - val_acc: 0.5418\n",
      "Epoch 5/1000\n",
      "2545/2545 [==============================] - 8s 3ms/step - loss: 0.6588 - acc: 0.5961 - val_loss: 0.5200 - val_acc: 0.7350\n",
      "Epoch 6/1000\n",
      "2545/2545 [==============================] - 8s 3ms/step - loss: 0.5210 - acc: 0.7379 - val_loss: 0.5067 - val_acc: 0.7479\n",
      "Epoch 7/1000\n",
      "2545/2545 [==============================] - 8s 3ms/step - loss: 0.4540 - acc: 0.7988 - val_loss: 0.4249 - val_acc: 0.8186\n",
      "Epoch 8/1000\n",
      "2545/2545 [==============================] - 7s 3ms/step - loss: 0.3995 - acc: 0.8365 - val_loss: 0.4515 - val_acc: 0.8104\n",
      "Epoch 9/1000\n",
      "2545/2545 [==============================] - 8s 3ms/step - loss: 0.3953 - acc: 0.8369 - val_loss: 0.4858 - val_acc: 0.7574\n",
      "Epoch 10/1000\n",
      "2545/2545 [==============================] - 8s 3ms/step - loss: 0.3794 - acc: 0.8401 - val_loss: 0.4075 - val_acc: 0.8269\n",
      "Epoch 11/1000\n",
      "2545/2545 [==============================] - 8s 3ms/step - loss: 0.3294 - acc: 0.8672 - val_loss: 0.4000 - val_acc: 0.8068\n",
      "Epoch 12/1000\n",
      "2545/2545 [==============================] - 8s 3ms/step - loss: 0.3314 - acc: 0.8605 - val_loss: 0.4033 - val_acc: 0.8339\n",
      "Epoch 13/1000\n",
      "2545/2545 [==============================] - 8s 3ms/step - loss: 0.3028 - acc: 0.8837 - val_loss: 0.4148 - val_acc: 0.8386s: 0.31\n",
      "Epoch 14/1000\n",
      "2545/2545 [==============================] - 7s 3ms/step - loss: 0.2697 - acc: 0.8959 - val_loss: 0.4062 - val_acc: 0.8269\n",
      "Epoch 15/1000\n",
      "2545/2545 [==============================] - 7s 3ms/step - loss: 0.2555 - acc: 0.8963 - val_loss: 0.4283 - val_acc: 0.8410\n",
      "Epoch 16/1000\n",
      "2545/2545 [==============================] - 8s 3ms/step - loss: 0.2321 - acc: 0.9124 - val_loss: 0.4042 - val_acc: 0.8210\n",
      "Epoch 17/1000\n",
      "2545/2545 [==============================] - 8s 3ms/step - loss: 0.2086 - acc: 0.9226 - val_loss: 0.4684 - val_acc: 0.8457\n",
      "Epoch 18/1000\n",
      "2545/2545 [==============================] - 8s 3ms/step - loss: 0.2042 - acc: 0.9198 - val_loss: 0.4483 - val_acc: 0.8339\n",
      "Epoch 19/1000\n",
      "2545/2545 [==============================] - 8s 3ms/step - loss: 0.1758 - acc: 0.9324 - val_loss: 0.4417 - val_acc: 0.8316\n",
      "Epoch 20/1000\n",
      "2545/2545 [==============================] - 8s 3ms/step - loss: 0.1650 - acc: 0.9411 - val_loss: 0.4879 - val_acc: 0.8410\n",
      "Epoch 21/1000\n",
      "2545/2545 [==============================] - 8s 3ms/step - loss: 0.1632 - acc: 0.9415 - val_loss: 0.4895 - val_acc: 0.7739\n",
      "Epoch 22/1000\n",
      "2545/2545 [==============================] - 8s 3ms/step - loss: 0.1600 - acc: 0.9434 - val_loss: 0.4839 - val_acc: 0.8304\n",
      "Epoch 23/1000\n",
      "2545/2545 [==============================] - 8s 3ms/step - loss: 0.1139 - acc: 0.9615 - val_loss: 0.5419 - val_acc: 0.8375\n",
      "Epoch 24/1000\n",
      "2545/2545 [==============================] - 8s 3ms/step - loss: 0.1147 - acc: 0.9591 - val_loss: 0.5550 - val_acc: 0.8386\n",
      "Epoch 25/1000\n",
      "2545/2545 [==============================] - 8s 3ms/step - loss: 0.1147 - acc: 0.9635 - val_loss: 0.7531 - val_acc: 0.8316\n",
      "Epoch 26/1000\n",
      "2545/2545 [==============================] - 7s 3ms/step - loss: 0.1297 - acc: 0.9513 - val_loss: 0.5897 - val_acc: 0.8445\n",
      "Epoch 27/1000\n",
      "2545/2545 [==============================] - 8s 3ms/step - loss: 0.0910 - acc: 0.9658 - val_loss: 0.5882 - val_acc: 0.8386\n",
      "dict_keys(['val_loss', 'val_acc', 'loss', 'acc'])\n"
     ]
    },
    {
     "data": {
      "image/png": "[encoded data removed]",
      "text/plain": [
       "<Figure size 432x288 with 1 Axes>"
      ]
     },
     "metadata": {
      "needs_background": "light"
     },
     "output_type": "display_data"
    },
    {
     "name": "stdout",
     "output_type": "stream",
     "text": [
      "CNN, Word Embeddings 0.8620283018867925\n",
      "[[336  29]\n",
      " [ 88 395]]\n"
     ]
    }
   ],
   "source": [
    "def create_cnn():\n",
    "    # Add an Input Layer\n",
    "    input_layer = layers.Input((maxlen, ))\n",
    "\n",
    "    # Add the word embedding Layer\n",
    "    embedding_layer = BDTD_word2vec_50.wv.get_keras_embedding(train_embeddings=False)(input_layer)\n",
    "    embedding_layer = layers.SpatialDropout1D(0.05)(embedding_layer)\n",
    "\n",
    "    # Add the convolutional Layer e pooling layer\n",
    "    conv_layer_1 = layers.Convolution1D(128, 5, activation=\"relu\")(embedding_layer)\n",
    "    pooling_layer_1 = layers.MaxPooling1D(2)(conv_layer_1)\n",
    "    pooling_layer_1 = layers.Dropout(0.15)(pooling_layer_1)\n",
    "    \n",
    "    conv_layer_2 = layers.Convolution1D(128, 5, activation=\"relu\")(pooling_layer_1)\n",
    "    pooling_layer_2 = layers.MaxPooling1D(2)(conv_layer_2)\n",
    "    pooling_layer_2 = layers.Dropout(0.15)(pooling_layer_2)\n",
    "    \n",
    "    conv_layer_3 = layers.Convolution1D(128, 5, activation=\"relu\")(pooling_layer_2)\n",
    "    pooling_layer_3 = layers.GlobalMaxPooling1D()(conv_layer_3)\n",
    "    pooling_layer_3 = layers.Dropout(0.15)(pooling_layer_3)\n",
    "    \n",
    "    # Add the output Layers\n",
    "    output_layer1 = layers.Dense(512, activation=\"relu\")(pooling_layer_3)\n",
    "    output_layer2 = layers.Dense(512, activation=\"relu\")(output_layer1)\n",
    "    output_layer2 = layers.Dropout(0.12)(output_layer2)\n",
    "    output_layer3 = layers.Dense(1, activation=\"sigmoid\")(output_layer2)\n",
    "\n",
    "    # Compile the model\n",
    "    model = models.Model(inputs=input_layer, outputs=output_layer3)\n",
    "    model.compile(optimizer=optimizers.Adam(), loss='binary_crossentropy', metrics=['acc'])\n",
    "    print(model.summary())\n",
    "    return model\n",
    "\n",
    "classifier = create_cnn()\n",
    "accuracy, confusion = train_model(classifier, train_seq_x, train_y, test_seq_x, is_neural_net=True)\n",
    "classifier.save(\"model_cnn.h5\")\n",
    "\n",
    "print (\"CNN, Word Embeddings\",  accuracy)\n",
    "with tf.Session() as sess:\n",
    "    print(confusion.eval())"
   ]
  },
  {
   "cell_type": "markdown",
   "metadata": {},
   "source": [
    "**Recurrent Neural Network – LSTM**"
   ]
  },
  {
   "cell_type": "code",
   "execution_count": 26,
   "metadata": {
    "scrolled": true
   },
   "outputs": [
    {
     "name": "stdout",
     "output_type": "stream",
     "text": [
      "_________________________________________________________________\n",
      "Layer (type)                 Output Shape              Param #   \n",
      "=================================================================\n",
      "input_2 (InputLayer)         (None, 400)               0         \n",
      "_________________________________________________________________\n",
      "embedding_2 (Embedding)      (None, 400, 50)           9289150   \n",
      "_________________________________________________________________\n",
      "spatial_dropout1d_2 (Spatial (None, 400, 50)           0         \n",
      "_________________________________________________________________\n",
      "lstm_1 (LSTM)                (None, 400, 256)          314368    \n",
      "_________________________________________________________________\n",
      "lstm_2 (LSTM)                (None, 400, 128)          197120    \n",
      "_________________________________________________________________\n",
      "lstm_3 (LSTM)                (None, 64)                49408     \n",
      "_________________________________________________________________\n",
      "dense_12 (Dense)             (None, 256)               16640     \n",
      "_________________________________________________________________\n",
      "dropout_5 (Dropout)          (None, 256)               0         \n",
      "_________________________________________________________________\n",
      "dense_13 (Dense)             (None, 1)                 257       \n",
      "=================================================================\n",
      "Total params: 9,866,943\n",
      "Trainable params: 9,866,943\n",
      "Non-trainable params: 0\n",
      "_________________________________________________________________\n",
      "None\n",
      "Train on 2545 samples, validate on 849 samples\n",
      "Epoch 1/1000\n",
      "2545/2545 [==============================] - 134s 53ms/step - loss: 0.6990 - acc: 0.5014 - val_loss: 0.6939 - val_acc: 0.4994\n",
      "Epoch 2/1000\n",
      "2545/2545 [==============================] - 136s 53ms/step - loss: 0.6926 - acc: 0.5194 - val_loss: 0.6935 - val_acc: 0.5183\n",
      "Epoch 3/1000\n",
      "2545/2545 [==============================] - 136s 53ms/step - loss: 0.6886 - acc: 0.5426 - val_loss: 0.6881 - val_acc: 0.5206\n",
      "Epoch 4/1000\n",
      "2545/2545 [==============================] - 136s 53ms/step - loss: 0.6838 - acc: 0.5729 - val_loss: 0.6584 - val_acc: 0.6160\n",
      "Epoch 5/1000\n",
      "2545/2545 [==============================] - 137s 54ms/step - loss: 0.6590 - acc: 0.6090 - val_loss: 0.6816 - val_acc: 0.5630\n",
      "Epoch 6/1000\n",
      "2545/2545 [==============================] - 136s 53ms/step - loss: 0.6774 - acc: 0.5780 - val_loss: 0.6371 - val_acc: 0.6478\n",
      "Epoch 7/1000\n",
      "2545/2545 [==============================] - 136s 54ms/step - loss: 0.6391 - acc: 0.6397 - val_loss: 0.6669 - val_acc: 0.5854\n",
      "Epoch 8/1000\n",
      "2545/2545 [==============================] - 137s 54ms/step - loss: 0.6304 - acc: 0.6515 - val_loss: 0.6102 - val_acc: 0.6914\n",
      "Epoch 9/1000\n",
      "2545/2545 [==============================] - 138s 54ms/step - loss: 0.5921 - acc: 0.6955 - val_loss: 0.5775 - val_acc: 0.7055\n",
      "Epoch 10/1000\n",
      "2545/2545 [==============================] - 137s 54ms/step - loss: 0.5661 - acc: 0.7218 - val_loss: 0.6539 - val_acc: 0.6949\n",
      "Epoch 11/1000\n",
      "2545/2545 [==============================] - 137s 54ms/step - loss: 0.5489 - acc: 0.7360 - val_loss: 0.5907 - val_acc: 0.6996\n",
      "Epoch 12/1000\n",
      "2545/2545 [==============================] - 138s 54ms/step - loss: 0.4767 - acc: 0.7823 - val_loss: 0.4897 - val_acc: 0.7633\n",
      "Epoch 13/1000\n",
      "2545/2545 [==============================] - 138s 54ms/step - loss: 0.4736 - acc: 0.7929 - val_loss: 0.5487 - val_acc: 0.7208\n",
      "Epoch 14/1000\n",
      "2545/2545 [==============================] - 137s 54ms/step - loss: 0.3981 - acc: 0.8283 - val_loss: 0.4331 - val_acc: 0.8174\n",
      "Epoch 15/1000\n",
      "2545/2545 [==============================] - 138s 54ms/step - loss: 0.3423 - acc: 0.8585 - val_loss: 0.4031 - val_acc: 0.8186\n",
      "Epoch 16/1000\n",
      "2545/2545 [==============================] - 141s 55ms/step - loss: 0.3017 - acc: 0.8825 - val_loss: 0.3866 - val_acc: 0.8410\n",
      "Epoch 17/1000\n",
      "2545/2545 [==============================] - 154s 60ms/step - loss: 0.2860 - acc: 0.8892 - val_loss: 0.4420 - val_acc: 0.8339\n",
      "Epoch 18/1000\n",
      "2545/2545 [==============================] - 143s 56ms/step - loss: 0.2534 - acc: 0.8971 - val_loss: 0.4271 - val_acc: 0.8481\n",
      "Epoch 19/1000\n",
      "2545/2545 [==============================] - 157s 62ms/step - loss: 0.2126 - acc: 0.9183 - val_loss: 0.4113 - val_acc: 0.8634\n",
      "Epoch 20/1000\n",
      "2545/2545 [==============================] - 151s 59ms/step - loss: 0.1877 - acc: 0.9332 - val_loss: 0.5728 - val_acc: 0.8045\n",
      "Epoch 21/1000\n",
      "2545/2545 [==============================] - 149s 59ms/step - loss: 0.1687 - acc: 0.9352 - val_loss: 0.4830 - val_acc: 0.8410\n",
      "Epoch 22/1000\n",
      "2545/2545 [==============================] - 141s 56ms/step - loss: 0.1354 - acc: 0.9481 - val_loss: 0.4565 - val_acc: 0.8233\n",
      "Epoch 23/1000\n",
      "2545/2545 [==============================] - 142s 56ms/step - loss: 0.1023 - acc: 0.9646 - val_loss: 0.6014 - val_acc: 0.8528\n",
      "Epoch 24/1000\n",
      "2545/2545 [==============================] - 145s 57ms/step - loss: 0.0831 - acc: 0.9705 - val_loss: 0.6193 - val_acc: 0.8551\n",
      "Epoch 25/1000\n",
      "2545/2545 [==============================] - 148s 58ms/step - loss: 0.0892 - acc: 0.9690 - val_loss: 0.6082 - val_acc: 0.8304\n",
      "Epoch 26/1000\n",
      "2545/2545 [==============================] - 141s 56ms/step - loss: 0.0636 - acc: 0.9788 - val_loss: 0.6675 - val_acc: 0.8445\n",
      "Epoch 27/1000\n",
      "2545/2545 [==============================] - 139s 55ms/step - loss: 0.0586 - acc: 0.9788 - val_loss: 0.6902 - val_acc: 0.8386\n",
      "Epoch 28/1000\n",
      "2545/2545 [==============================] - 139s 55ms/step - loss: 0.0472 - acc: 0.9843 - val_loss: 0.7833 - val_acc: 0.8504\n",
      "Epoch 29/1000\n",
      "2545/2545 [==============================] - 147s 58ms/step - loss: 0.0460 - acc: 0.9831 - val_loss: 0.7820 - val_acc: 0.8422\n",
      "dict_keys(['val_loss', 'val_acc', 'loss', 'acc'])\n"
     ]
    },
    {
     "data": {
      "image/png": "[encoded data removed]",
      "text/plain": [
       "<Figure size 432x288 with 1 Axes>"
      ]
     },
     "metadata": {
      "needs_background": "light"
     },
     "output_type": "display_data"
    },
    {
     "name": "stdout",
     "output_type": "stream",
     "text": [
      "RNN-LSTM, Word Embeddings 0.8820754716981132\n",
      "[[359  35]\n",
      " [ 65 389]]\n"
     ]
    }
   ],
   "source": [
    "def create_rnn_lstm():\n",
    "    \n",
    "    # Add an Input Layer\n",
    "    input_layer = layers.Input((maxlen, ))\n",
    "\n",
    "    # Add the word embedding Layer\n",
    "    \n",
    "    embedding_layer = BDTD_word2vec_50.wv.get_keras_embedding(train_embeddings=True)(input_layer)\n",
    "    \n",
    "    embedding_layer = layers.SpatialDropout1D(0.05)(embedding_layer)\n",
    "\n",
    "    # Add the LSTM Layer\n",
    "    lstm_layer_1 = layers.LSTM(256, return_sequences=True)(embedding_layer) #return_sequences=True\n",
    "    lstm_layer_2 = layers.LSTM(128, return_sequences=True)(lstm_layer_1)\n",
    "    lstm_layer_3 = layers.LSTM(64)(lstm_layer_2)\n",
    "\n",
    "    # Add the output Layers\n",
    "    output_layer1 = layers.Dense(256, activation=\"relu\")(lstm_layer_3)\n",
    "    output_layer1 = layers.Dropout(0.2)(output_layer1)\n",
    "    output_layer2 = layers.Dense(1, activation=\"sigmoid\")(output_layer1)\n",
    "\n",
    "    # Compile the model\n",
    "    model = models.Model(inputs=input_layer, outputs=output_layer2)\n",
    "    model.compile(optimizer=optimizers.Adam(), loss='binary_crossentropy', metrics=['acc'])\n",
    "    print(model.summary())\n",
    "    return model\n",
    "\n",
    "classifier = create_rnn_lstm()\n",
    "accuracy, confusion = train_model(classifier, train_seq_x, train_y, test_seq_x, is_neural_net=True)\n",
    "print (\"RNN-LSTM, Word Embeddings\",  accuracy)\n",
    "with tf.Session() as sess:\n",
    "    print(confusion.eval())"
   ]
  },
  {
   "cell_type": "markdown",
   "metadata": {},
   "source": [
    "**Recurrent Neural Network – GRU**  "
   ]
  },
  {
   "cell_type": "code",
   "execution_count": 27,
   "metadata": {
    "scrolled": true
   },
   "outputs": [
    {
     "name": "stdout",
     "output_type": "stream",
     "text": [
      "_________________________________________________________________\n",
      "Layer (type)                 Output Shape              Param #   \n",
      "=================================================================\n",
      "input_3 (InputLayer)         (None, 400)               0         \n",
      "_________________________________________________________________\n",
      "embedding_3 (Embedding)      (None, 400, 50)           9289150   \n",
      "_________________________________________________________________\n",
      "spatial_dropout1d_3 (Spatial (None, 400, 50)           0         \n",
      "_________________________________________________________________\n",
      "gru_1 (GRU)                  (None, 400, 20)           4260      \n",
      "_________________________________________________________________\n",
      "gru_2 (GRU)                  (None, 20)                2460      \n",
      "_________________________________________________________________\n",
      "dense_14 (Dense)             (None, 50)                1050      \n",
      "_________________________________________________________________\n",
      "dropout_6 (Dropout)          (None, 50)                0         \n",
      "_________________________________________________________________\n",
      "dense_15 (Dense)             (None, 1)                 51        \n",
      "=================================================================\n",
      "Total params: 9,296,971\n",
      "Trainable params: 9,296,971\n",
      "Non-trainable params: 0\n",
      "_________________________________________________________________\n",
      "None\n",
      "Train on 2545 samples, validate on 849 samples\n",
      "Epoch 1/1000\n",
      "2545/2545 [==============================] - 22s 9ms/step - loss: 0.7107 - acc: 0.4982 - val_loss: 0.6920 - val_acc: 0.5241\n",
      "Epoch 2/1000\n",
      "2545/2545 [==============================] - 19s 7ms/step - loss: 0.7043 - acc: 0.5108 - val_loss: 0.6902 - val_acc: 0.5218\n",
      "Epoch 3/1000\n",
      "2545/2545 [==============================] - 19s 7ms/step - loss: 0.6966 - acc: 0.5234 - val_loss: 0.6869 - val_acc: 0.5395\n",
      "Epoch 4/1000\n",
      "2545/2545 [==============================] - 20s 8ms/step - loss: 0.6914 - acc: 0.5434 - val_loss: 0.6819 - val_acc: 0.5453\n",
      "Epoch 5/1000\n",
      "2545/2545 [==============================] - 17s 7ms/step - loss: 0.6837 - acc: 0.5639 - val_loss: 0.6795 - val_acc: 0.5748\n",
      "Epoch 6/1000\n",
      "2545/2545 [==============================] - 17s 7ms/step - loss: 0.6715 - acc: 0.5870 - val_loss: 0.6798 - val_acc: 0.5760\n",
      "Epoch 7/1000\n",
      "2545/2545 [==============================] - 17s 7ms/step - loss: 0.6775 - acc: 0.5760 - val_loss: 0.6686 - val_acc: 0.5866\n",
      "Epoch 8/1000\n",
      "2545/2545 [==============================] - 17s 7ms/step - loss: 0.6666 - acc: 0.6008 - val_loss: 0.6663 - val_acc: 0.5854\n",
      "Epoch 9/1000\n",
      "2545/2545 [==============================] - 17s 7ms/step - loss: 0.6573 - acc: 0.6090 - val_loss: 0.6518 - val_acc: 0.6337\n",
      "Epoch 10/1000\n",
      "2545/2545 [==============================] - 17s 7ms/step - loss: 0.6221 - acc: 0.6585 - val_loss: 0.5785 - val_acc: 0.7032\n",
      "Epoch 11/1000\n",
      "2545/2545 [==============================] - 17s 7ms/step - loss: 0.5978 - acc: 0.6900 - val_loss: 0.6034 - val_acc: 0.6620\n",
      "Epoch 12/1000\n",
      "2545/2545 [==============================] - 17s 7ms/step - loss: 0.5073 - acc: 0.7819 - val_loss: 0.5305 - val_acc: 0.7727\n",
      "Epoch 13/1000\n",
      "2545/2545 [==============================] - 17s 7ms/step - loss: 0.5850 - acc: 0.7143 - val_loss: 0.5143 - val_acc: 0.7715\n",
      "Epoch 14/1000\n",
      "2545/2545 [==============================] - 17s 7ms/step - loss: 0.4891 - acc: 0.7831 - val_loss: 0.4793 - val_acc: 0.7833\n",
      "Epoch 15/1000\n",
      "2545/2545 [==============================] - 17s 7ms/step - loss: 0.4498 - acc: 0.8106 - val_loss: 0.4745 - val_acc: 0.7856\n",
      "Epoch 16/1000\n",
      "2545/2545 [==============================] - 17s 7ms/step - loss: 0.4336 - acc: 0.8169 - val_loss: 0.4596 - val_acc: 0.7962\n",
      "Epoch 17/1000\n",
      "2545/2545 [==============================] - 17s 7ms/step - loss: 0.4253 - acc: 0.8275 - val_loss: 0.4445 - val_acc: 0.7974\n",
      "Epoch 18/1000\n",
      "2545/2545 [==============================] - 18s 7ms/step - loss: 0.4021 - acc: 0.8354 - val_loss: 0.4298 - val_acc: 0.8127\n",
      "Epoch 19/1000\n",
      "2545/2545 [==============================] - 20s 8ms/step - loss: 0.3970 - acc: 0.8393 - val_loss: 0.4256 - val_acc: 0.8163\n",
      "Epoch 20/1000\n",
      "2545/2545 [==============================] - 19s 8ms/step - loss: 0.3804 - acc: 0.8448 - val_loss: 0.4139 - val_acc: 0.8151\n",
      "Epoch 21/1000\n",
      "2545/2545 [==============================] - 19s 7ms/step - loss: 0.3896 - acc: 0.8409 - val_loss: 0.4043 - val_acc: 0.8257\n",
      "Epoch 22/1000\n",
      "2545/2545 [==============================] - 19s 7ms/step - loss: 0.3652 - acc: 0.8534 - val_loss: 0.4209 - val_acc: 0.8339\n",
      "Epoch 23/1000\n",
      "2545/2545 [==============================] - 19s 7ms/step - loss: 0.3644 - acc: 0.8585 - val_loss: 0.3937 - val_acc: 0.8363\n",
      "Epoch 24/1000\n",
      "2545/2545 [==============================] - 19s 7ms/step - loss: 0.3606 - acc: 0.8585 - val_loss: 0.3946 - val_acc: 0.8433\n",
      "Epoch 25/1000\n",
      "2545/2545 [==============================] - 20s 8ms/step - loss: 0.3542 - acc: 0.8593 - val_loss: 0.3826 - val_acc: 0.8375\n",
      "Epoch 26/1000\n",
      "2545/2545 [==============================] - 18s 7ms/step - loss: 0.3476 - acc: 0.8629 - val_loss: 0.4059 - val_acc: 0.8398\n",
      "Epoch 27/1000\n",
      "2545/2545 [==============================] - 18s 7ms/step - loss: 0.3484 - acc: 0.8644 - val_loss: 0.3838 - val_acc: 0.8445\n",
      "Epoch 28/1000\n",
      "2545/2545 [==============================] - 19s 7ms/step - loss: 0.3396 - acc: 0.8703 - val_loss: 0.3896 - val_acc: 0.8481\n",
      "Epoch 29/1000\n",
      "2545/2545 [==============================] - 19s 7ms/step - loss: 0.3328 - acc: 0.8750 - val_loss: 0.3849 - val_acc: 0.8445\n",
      "Epoch 30/1000\n",
      "2545/2545 [==============================] - 20s 8ms/step - loss: 0.3348 - acc: 0.8719 - val_loss: 0.4015 - val_acc: 0.8422\n",
      "Epoch 31/1000\n",
      "2545/2545 [==============================] - 18s 7ms/step - loss: 0.3284 - acc: 0.8747 - val_loss: 0.3768 - val_acc: 0.8528\n",
      "Epoch 32/1000\n",
      "2545/2545 [==============================] - 18s 7ms/step - loss: 0.3299 - acc: 0.8786 - val_loss: 0.3671 - val_acc: 0.8528\n",
      "Epoch 33/1000\n",
      "2545/2545 [==============================] - 18s 7ms/step - loss: 0.3220 - acc: 0.8794 - val_loss: 0.3798 - val_acc: 0.8481\n",
      "Epoch 34/1000\n",
      "2545/2545 [==============================] - 18s 7ms/step - loss: 0.3172 - acc: 0.8809 - val_loss: 0.3773 - val_acc: 0.8563\n",
      "Epoch 35/1000\n",
      "2545/2545 [==============================] - 19s 7ms/step - loss: 0.3128 - acc: 0.8849 - val_loss: 0.3828 - val_acc: 0.8469\n",
      "Epoch 36/1000\n",
      "2545/2545 [==============================] - 19s 7ms/step - loss: 0.3093 - acc: 0.8817 - val_loss: 0.3753 - val_acc: 0.8528\n",
      "Epoch 37/1000\n",
      "2545/2545 [==============================] - 18s 7ms/step - loss: 0.3092 - acc: 0.8837 - val_loss: 0.3840 - val_acc: 0.8575\n",
      "Epoch 38/1000\n",
      "2545/2545 [==============================] - 18s 7ms/step - loss: 0.3169 - acc: 0.8821 - val_loss: 0.3849 - val_acc: 0.8457\n",
      "Epoch 39/1000\n",
      "2545/2545 [==============================] - 18s 7ms/step - loss: 0.2975 - acc: 0.8908 - val_loss: 0.3753 - val_acc: 0.8528\n",
      "Epoch 40/1000\n",
      "2545/2545 [==============================] - 18s 7ms/step - loss: 0.2960 - acc: 0.8884 - val_loss: 0.3842 - val_acc: 0.8469\n",
      "Epoch 41/1000\n",
      "2545/2545 [==============================] - 18s 7ms/step - loss: 0.3054 - acc: 0.8864 - val_loss: 0.3785 - val_acc: 0.8492\n",
      "Epoch 42/1000\n",
      "2545/2545 [==============================] - 18s 7ms/step - loss: 0.3198 - acc: 0.8711 - val_loss: 0.3853 - val_acc: 0.8363\n",
      "Epoch 43/1000\n",
      "2545/2545 [==============================] - 18s 7ms/step - loss: 0.3018 - acc: 0.8849 - val_loss: 0.3815 - val_acc: 0.8504\n",
      "Epoch 44/1000\n",
      "2545/2545 [==============================] - 18s 7ms/step - loss: 0.2863 - acc: 0.8935 - val_loss: 0.3748 - val_acc: 0.8516\n",
      "Epoch 45/1000\n",
      "2545/2545 [==============================] - 18s 7ms/step - loss: 0.2918 - acc: 0.8900 - val_loss: 0.4291 - val_acc: 0.8269\n",
      "Epoch 46/1000\n",
      "2545/2545 [==============================] - 18s 7ms/step - loss: 0.2842 - acc: 0.8978 - val_loss: 0.3864 - val_acc: 0.8504\n",
      "Epoch 47/1000\n",
      "2545/2545 [==============================] - 18s 7ms/step - loss: 0.2857 - acc: 0.8943 - val_loss: 0.3888 - val_acc: 0.8516\n",
      "dict_keys(['val_loss', 'val_acc', 'loss', 'acc'])\n"
     ]
    },
    {
     "data": {
      "image/png": "[encoded data removed]",
      "text/plain": [
       "<Figure size 432x288 with 1 Axes>"
      ]
     },
     "metadata": {
      "needs_background": "light"
     },
     "output_type": "display_data"
    },
    {
     "name": "stdout",
     "output_type": "stream",
     "text": [
      "RNN-GRU, Word Embeddings 0.8726415094339622\n",
      "[[335  19]\n",
      " [ 89 405]]\n"
     ]
    }
   ],
   "source": [
    "def create_rnn_gru():\n",
    "    # Add an Input Layer\n",
    "    input_layer = layers.Input((maxlen, ))\n",
    "\n",
    "    # Add the word embedding Layer\n",
    "    embedding_layer = BDTD_word2vec_50.wv.get_keras_embedding(train_embeddings=True)(input_layer)\n",
    "    \n",
    "    embedding_layer = layers.SpatialDropout1D(0.05)(embedding_layer)\n",
    "\n",
    "    # Add the GRU Layer\n",
    "    gru_layer = layers.GRU(20, return_sequences=True)(embedding_layer)\n",
    "    gru_layer_1 = layers.GRU(20)(gru_layer)\n",
    "\n",
    "    # Add the output Layers\n",
    "    output_layer1 = layers.Dense(50, activation=\"sigmoid\")(gru_layer_1)\n",
    "    output_layer1 = layers.Dropout(0.2)(output_layer1)\n",
    "    output_layer2 = layers.Dense(1, activation=\"sigmoid\")(output_layer1)\n",
    "\n",
    "    # Compile the model\n",
    "    model = models.Model(inputs=input_layer, outputs=output_layer2)\n",
    "    model.compile(optimizer=optimizers.Adam(), loss='binary_crossentropy', metrics=['acc'])\n",
    "    print(model.summary())\n",
    "    return model\n",
    "\n",
    "classifier = create_rnn_gru()\n",
    "accuracy, confusion = train_model(classifier, train_seq_x, train_y, test_seq_x, is_neural_net=True)\n",
    "print (\"RNN-GRU, Word Embeddings\",  accuracy)\n",
    "with tf.Session() as sess:\n",
    "    print(confusion.eval())"
   ]
  },
  {
   "cell_type": "markdown",
   "metadata": {},
   "source": [
    "**3.7.4 Bidirectional RNN**  \n",
    "RNN layers can be wrapped in Bidirectional layers as well. Lets wrap our GRU layer in bidirectional layer."
   ]
  },
  {
   "cell_type": "code",
   "execution_count": 28,
   "metadata": {
    "scrolled": true
   },
   "outputs": [
    {
     "name": "stdout",
     "output_type": "stream",
     "text": [
      "_________________________________________________________________\n",
      "Layer (type)                 Output Shape              Param #   \n",
      "=================================================================\n",
      "input_4 (InputLayer)         (None, 400)               0         \n",
      "_________________________________________________________________\n",
      "embedding_4 (Embedding)      (None, 400, 50)           9289150   \n",
      "_________________________________________________________________\n",
      "spatial_dropout1d_4 (Spatial (None, 400, 50)           0         \n",
      "_________________________________________________________________\n",
      "bidirectional_1 (Bidirection (None, 40)                8520      \n",
      "_________________________________________________________________\n",
      "dense_16 (Dense)             (None, 50)                2050      \n",
      "_________________________________________________________________\n",
      "dropout_7 (Dropout)          (None, 50)                0         \n",
      "_________________________________________________________________\n",
      "dense_17 (Dense)             (None, 1)                 51        \n",
      "=================================================================\n",
      "Total params: 9,299,771\n",
      "Trainable params: 9,299,771\n",
      "Non-trainable params: 0\n",
      "_________________________________________________________________\n",
      "None\n",
      "Train on 2545 samples, validate on 849 samples\n",
      "Epoch 1/1000\n",
      "2545/2545 [==============================] - 16s 6ms/step - loss: 0.6685 - acc: 0.5749 - val_loss: 0.6114 - val_acc: 0.6408\n",
      "Epoch 2/1000\n",
      "2545/2545 [==============================] - 13s 5ms/step - loss: 0.6176 - acc: 0.6354 - val_loss: 0.6015 - val_acc: 0.6384\n",
      "Epoch 3/1000\n",
      "2545/2545 [==============================] - 14s 6ms/step - loss: 0.6030 - acc: 0.6519 - val_loss: 0.5913 - val_acc: 0.6537\n",
      "Epoch 4/1000\n",
      "2545/2545 [==============================] - 13s 5ms/step - loss: 0.5915 - acc: 0.6523 - val_loss: 0.5862 - val_acc: 0.6549\n",
      "Epoch 5/1000\n",
      "2545/2545 [==============================] - 14s 5ms/step - loss: 0.5844 - acc: 0.6542 - val_loss: 0.5790 - val_acc: 0.6631\n",
      "Epoch 6/1000\n",
      "2545/2545 [==============================] - 14s 5ms/step - loss: 0.5778 - acc: 0.6656 - val_loss: 0.5755 - val_acc: 0.6678\n",
      "Epoch 7/1000\n",
      "2545/2545 [==============================] - 14s 5ms/step - loss: 0.5670 - acc: 0.6864 - val_loss: 0.5744 - val_acc: 0.6890\n",
      "Epoch 8/1000\n",
      "2545/2545 [==============================] - 14s 5ms/step - loss: 0.5525 - acc: 0.6923 - val_loss: 0.5650 - val_acc: 0.6820\n",
      "Epoch 9/1000\n",
      "2545/2545 [==============================] - 14s 5ms/step - loss: 0.5508 - acc: 0.6935 - val_loss: 0.5608 - val_acc: 0.6784\n",
      "Epoch 10/1000\n",
      "2545/2545 [==============================] - 14s 5ms/step - loss: 0.5452 - acc: 0.6974 - val_loss: 0.5580 - val_acc: 0.6820\n",
      "Epoch 11/1000\n",
      "2545/2545 [==============================] - 13s 5ms/step - loss: 0.5366 - acc: 0.7120 - val_loss: 0.5568 - val_acc: 0.6902\n",
      "Epoch 12/1000\n",
      "2545/2545 [==============================] - 13s 5ms/step - loss: 0.5364 - acc: 0.7108 - val_loss: 0.5560 - val_acc: 0.6961\n",
      "Epoch 13/1000\n",
      "2545/2545 [==============================] - 13s 5ms/step - loss: 0.5145 - acc: 0.7285 - val_loss: 0.5498 - val_acc: 0.7008\n",
      "Epoch 14/1000\n",
      "2545/2545 [==============================] - 14s 6ms/step - loss: 0.5131 - acc: 0.7344 - val_loss: 0.5487 - val_acc: 0.7173\n",
      "Epoch 15/1000\n",
      "2545/2545 [==============================] - 13s 5ms/step - loss: 0.5031 - acc: 0.7371 - val_loss: 0.5533 - val_acc: 0.6938\n",
      "Epoch 16/1000\n",
      "2545/2545 [==============================] - 13s 5ms/step - loss: 0.4881 - acc: 0.7505 - val_loss: 0.5211 - val_acc: 0.7397\n",
      "Epoch 17/1000\n",
      "2545/2545 [==============================] - 14s 5ms/step - loss: 0.4740 - acc: 0.7587 - val_loss: 0.4957 - val_acc: 0.7633\n",
      "Epoch 18/1000\n",
      "2545/2545 [==============================] - 13s 5ms/step - loss: 0.4446 - acc: 0.7894 - val_loss: 0.4779 - val_acc: 0.7845\n",
      "Epoch 19/1000\n",
      "2545/2545 [==============================] - 14s 5ms/step - loss: 0.4099 - acc: 0.8173 - val_loss: 0.4459 - val_acc: 0.8174\n",
      "Epoch 20/1000\n",
      "2545/2545 [==============================] - 14s 5ms/step - loss: 0.3964 - acc: 0.8236 - val_loss: 0.4241 - val_acc: 0.8221\n",
      "Epoch 21/1000\n",
      "2545/2545 [==============================] - 14s 5ms/step - loss: 0.3782 - acc: 0.8436 - val_loss: 0.4260 - val_acc: 0.8186\n",
      "Epoch 22/1000\n",
      "2545/2545 [==============================] - 13s 5ms/step - loss: 0.3577 - acc: 0.8440 - val_loss: 0.4148 - val_acc: 0.8304\n",
      "Epoch 23/1000\n",
      "2545/2545 [==============================] - 14s 5ms/step - loss: 0.3437 - acc: 0.8574 - val_loss: 0.4144 - val_acc: 0.8316\n",
      "Epoch 24/1000\n",
      "2545/2545 [==============================] - 13s 5ms/step - loss: 0.3267 - acc: 0.8629 - val_loss: 0.4443 - val_acc: 0.8257\n",
      "Epoch 25/1000\n",
      "2545/2545 [==============================] - 13s 5ms/step - loss: 0.3317 - acc: 0.8637 - val_loss: 0.3944 - val_acc: 0.8351\n",
      "Epoch 26/1000\n",
      "2545/2545 [==============================] - 13s 5ms/step - loss: 0.2982 - acc: 0.8825 - val_loss: 0.3949 - val_acc: 0.8375\n",
      "Epoch 27/1000\n",
      "2545/2545 [==============================] - 13s 5ms/step - loss: 0.2994 - acc: 0.8774 - val_loss: 0.3967 - val_acc: 0.8528\n",
      "Epoch 28/1000\n",
      "2545/2545 [==============================] - 14s 5ms/step - loss: 0.2959 - acc: 0.8829 - val_loss: 0.3947 - val_acc: 0.8422\n",
      "Epoch 29/1000\n",
      "2545/2545 [==============================] - 13s 5ms/step - loss: 0.2900 - acc: 0.8837 - val_loss: 0.4047 - val_acc: 0.8469\n",
      "Epoch 30/1000\n",
      "2545/2545 [==============================] - 13s 5ms/step - loss: 0.2814 - acc: 0.8923 - val_loss: 0.4017 - val_acc: 0.8422\n",
      "Epoch 31/1000\n",
      "2545/2545 [==============================] - 13s 5ms/step - loss: 0.2683 - acc: 0.8951 - val_loss: 0.4000 - val_acc: 0.8481\n",
      "Epoch 32/1000\n",
      "2545/2545 [==============================] - 13s 5ms/step - loss: 0.2654 - acc: 0.8923 - val_loss: 0.4111 - val_acc: 0.8363\n",
      "Epoch 33/1000\n",
      "2545/2545 [==============================] - 15s 6ms/step - loss: 0.2646 - acc: 0.8971 - val_loss: 0.4059 - val_acc: 0.8375\n",
      "Epoch 34/1000\n",
      "2545/2545 [==============================] - 14s 5ms/step - loss: 0.2599 - acc: 0.8959 - val_loss: 0.4186 - val_acc: 0.8292\n",
      "Epoch 35/1000\n",
      "2545/2545 [==============================] - 14s 5ms/step - loss: 0.2612 - acc: 0.9010 - val_loss: 0.3953 - val_acc: 0.8587\n",
      "Epoch 36/1000\n",
      "2545/2545 [==============================] - 13s 5ms/step - loss: 0.2536 - acc: 0.9084 - val_loss: 0.3918 - val_acc: 0.8492\n",
      "Epoch 37/1000\n",
      "2545/2545 [==============================] - 13s 5ms/step - loss: 0.2514 - acc: 0.8947 - val_loss: 0.4014 - val_acc: 0.8339\n",
      "Epoch 38/1000\n",
      "2545/2545 [==============================] - 13s 5ms/step - loss: 0.2456 - acc: 0.9061 - val_loss: 0.4104 - val_acc: 0.8516\n",
      "Epoch 39/1000\n",
      "2545/2545 [==============================] - 13s 5ms/step - loss: 0.2413 - acc: 0.9057 - val_loss: 0.4060 - val_acc: 0.8386\n",
      "Epoch 40/1000\n",
      "2545/2545 [==============================] - 13s 5ms/step - loss: 0.2406 - acc: 0.9136 - val_loss: 0.4105 - val_acc: 0.8398\n",
      "Epoch 41/1000\n",
      "2545/2545 [==============================] - 13s 5ms/step - loss: 0.2319 - acc: 0.9136 - val_loss: 0.4181 - val_acc: 0.8410\n",
      "Epoch 42/1000\n",
      "2545/2545 [==============================] - 13s 5ms/step - loss: 0.2304 - acc: 0.9112 - val_loss: 0.4343 - val_acc: 0.8245\n",
      "Epoch 43/1000\n",
      "2545/2545 [==============================] - 13s 5ms/step - loss: 0.2245 - acc: 0.9139 - val_loss: 0.4186 - val_acc: 0.8422\n",
      "Epoch 44/1000\n",
      "2545/2545 [==============================] - 13s 5ms/step - loss: 0.2264 - acc: 0.9128 - val_loss: 0.4191 - val_acc: 0.8398\n",
      "Epoch 45/1000\n",
      "2545/2545 [==============================] - 13s 5ms/step - loss: 0.2138 - acc: 0.9175 - val_loss: 0.4174 - val_acc: 0.8398\n",
      "dict_keys(['val_loss', 'val_acc', 'loss', 'acc'])\n"
     ]
    },
    {
     "data": {
      "image/png": "[encoded data removed]",
      "text/plain": [
       "<Figure size 432x288 with 1 Axes>"
      ]
     },
     "metadata": {
      "needs_background": "light"
     },
     "output_type": "display_data"
    },
    {
     "name": "stdout",
     "output_type": "stream",
     "text": [
      "RNN-Bidirectional, Word Embeddings 0.8620283018867925\n",
      "[[342  35]\n",
      " [ 82 389]]\n"
     ]
    }
   ],
   "source": [
    "def create_bidirectional_rnn():\n",
    "    # Add an Input Layer\n",
    "    input_layer = layers.Input((maxlen, ))\n",
    "\n",
    "    # Add the word embedding Layer\n",
    "    embedding_layer = BDTD_word2vec_50.wv.get_keras_embedding(train_embeddings=True)(input_layer)\n",
    "    \n",
    "    embedding_layer = layers.SpatialDropout1D(0.05)(embedding_layer)\n",
    "\n",
    "    # Add the GRU Layer\n",
    "    lstm_layer = layers.Bidirectional(layers.GRU(20))(embedding_layer)\n",
    "\n",
    "    # Add the output Layers\n",
    "    output_layer1 = layers.Dense(50, activation=\"relu\")(lstm_layer)\n",
    "    output_layer1 = layers.Dropout(0.2)(output_layer1)\n",
    "    output_layer2 = layers.Dense(1, activation=\"sigmoid\")(output_layer1)\n",
    "\n",
    "    # Compile the model\n",
    "    model = models.Model(inputs=input_layer, outputs=output_layer2)\n",
    "    model.compile(optimizer=optimizers.Adam(), loss='binary_crossentropy', metrics=['acc'])\n",
    "    print(model.summary())\n",
    "    return model\n",
    "\n",
    "classifier = create_bidirectional_rnn()\n",
    "accuracy, confusion = train_model(classifier, train_seq_x, train_y, test_seq_x, is_neural_net=True)\n",
    "print (\"RNN-Bidirectional, Word Embeddings\",  accuracy)\n",
    "with tf.Session() as sess:\n",
    "    print(confusion.eval())"
   ]
  },
  {
   "cell_type": "markdown",
   "metadata": {},
   "source": [
    "**3.7.5 Recurrent Convolutional Neural Network**  "
   ]
  },
  {
   "cell_type": "code",
   "execution_count": 29,
   "metadata": {
    "scrolled": true
   },
   "outputs": [
    {
     "name": "stdout",
     "output_type": "stream",
     "text": [
      "_________________________________________________________________\n",
      "Layer (type)                 Output Shape              Param #   \n",
      "=================================================================\n",
      "input_5 (InputLayer)         (None, 400)               0         \n",
      "_________________________________________________________________\n",
      "embedding_5 (Embedding)      (None, 400, 50)           9289150   \n",
      "_________________________________________________________________\n",
      "spatial_dropout1d_5 (Spatial (None, 400, 50)           0         \n",
      "_________________________________________________________________\n",
      "conv1d_4 (Conv1D)            (None, 398, 100)          15100     \n",
      "_________________________________________________________________\n",
      "global_max_pooling1d_2 (Glob (None, 100)               0         \n",
      "_________________________________________________________________\n",
      "dense_18 (Dense)             (None, 50)                5050      \n",
      "_________________________________________________________________\n",
      "dropout_8 (Dropout)          (None, 50)                0         \n",
      "_________________________________________________________________\n",
      "dense_19 (Dense)             (None, 1)                 51        \n",
      "=================================================================\n",
      "Total params: 9,309,351\n",
      "Trainable params: 9,309,351\n",
      "Non-trainable params: 0\n",
      "_________________________________________________________________\n",
      "None\n",
      "Train on 2545 samples, validate on 849 samples\n",
      "Epoch 1/1000\n",
      "2545/2545 [==============================] - 9s 3ms/step - loss: 0.7200 - acc: 0.5187 - val_loss: 0.6887 - val_acc: 0.4994\n",
      "Epoch 2/1000\n",
      "2545/2545 [==============================] - 7s 3ms/step - loss: 0.7057 - acc: 0.5151 - val_loss: 0.6647 - val_acc: 0.6855\n",
      "Epoch 3/1000\n",
      "2545/2545 [==============================] - 7s 3ms/step - loss: 0.6585 - acc: 0.6075 - val_loss: 0.6173 - val_acc: 0.7491\n",
      "Epoch 4/1000\n",
      "2545/2545 [==============================] - 7s 3ms/step - loss: 0.6049 - acc: 0.6825 - val_loss: 0.5708 - val_acc: 0.7739\n",
      "Epoch 5/1000\n",
      "2545/2545 [==============================] - 7s 3ms/step - loss: 0.5516 - acc: 0.7399 - val_loss: 0.5299 - val_acc: 0.7845\n",
      "Epoch 6/1000\n",
      "2545/2545 [==============================] - 7s 3ms/step - loss: 0.5095 - acc: 0.7874 - val_loss: 0.5023 - val_acc: 0.7892\n",
      "Epoch 7/1000\n",
      "2545/2545 [==============================] - 7s 3ms/step - loss: 0.4635 - acc: 0.8067 - val_loss: 0.4550 - val_acc: 0.8233\n",
      "Epoch 8/1000\n",
      "2545/2545 [==============================] - 7s 3ms/step - loss: 0.4213 - acc: 0.8389 - val_loss: 0.4284 - val_acc: 0.8292\n",
      "Epoch 9/1000\n",
      "2545/2545 [==============================] - 7s 3ms/step - loss: 0.3953 - acc: 0.8413 - val_loss: 0.3993 - val_acc: 0.8551\n",
      "Epoch 10/1000\n",
      "2545/2545 [==============================] - 7s 3ms/step - loss: 0.3718 - acc: 0.8511 - val_loss: 0.3864 - val_acc: 0.8481\n",
      "Epoch 11/1000\n",
      "2545/2545 [==============================] - 7s 3ms/step - loss: 0.3544 - acc: 0.8633 - val_loss: 0.3904 - val_acc: 0.8469\n",
      "Epoch 12/1000\n",
      "2545/2545 [==============================] - 7s 3ms/step - loss: 0.3303 - acc: 0.8723 - val_loss: 0.3711 - val_acc: 0.8481\n",
      "Epoch 13/1000\n",
      "2545/2545 [==============================] - 7s 3ms/step - loss: 0.3202 - acc: 0.8758 - val_loss: 0.3722 - val_acc: 0.8469\n",
      "Epoch 14/1000\n",
      "2545/2545 [==============================] - 7s 3ms/step - loss: 0.3041 - acc: 0.8861 - val_loss: 0.3651 - val_acc: 0.8445\n",
      "Epoch 15/1000\n",
      "2545/2545 [==============================] - 7s 3ms/step - loss: 0.2935 - acc: 0.8884 - val_loss: 0.3647 - val_acc: 0.8504\n",
      "Epoch 16/1000\n",
      "2545/2545 [==============================] - 7s 3ms/step - loss: 0.2869 - acc: 0.8916 - val_loss: 0.3601 - val_acc: 0.8528\n",
      "Epoch 17/1000\n",
      "2545/2545 [==============================] - 7s 3ms/step - loss: 0.2848 - acc: 0.8931 - val_loss: 0.3713 - val_acc: 0.8504\n",
      "Epoch 18/1000\n",
      "2545/2545 [==============================] - 7s 3ms/step - loss: 0.2778 - acc: 0.8951 - val_loss: 0.3652 - val_acc: 0.8469\n",
      "Epoch 19/1000\n",
      "2545/2545 [==============================] - 7s 3ms/step - loss: 0.2563 - acc: 0.9065 - val_loss: 0.3641 - val_acc: 0.8563\n",
      "Epoch 20/1000\n",
      "2545/2545 [==============================] - 7s 3ms/step - loss: 0.2528 - acc: 0.9081 - val_loss: 0.3658 - val_acc: 0.8551\n",
      "Epoch 21/1000\n",
      "2545/2545 [==============================] - 7s 3ms/step - loss: 0.2453 - acc: 0.9120 - val_loss: 0.3731 - val_acc: 0.8587\n",
      "Epoch 22/1000\n",
      "2545/2545 [==============================] - 7s 3ms/step - loss: 0.2417 - acc: 0.9120 - val_loss: 0.3685 - val_acc: 0.8528\n",
      "Epoch 23/1000\n",
      "2545/2545 [==============================] - 7s 3ms/step - loss: 0.2442 - acc: 0.9116 - val_loss: 0.3652 - val_acc: 0.8539\n",
      "Epoch 24/1000\n",
      "2545/2545 [==============================] - 7s 3ms/step - loss: 0.2294 - acc: 0.9210 - val_loss: 0.3679 - val_acc: 0.8610\n",
      "Epoch 25/1000\n",
      "2545/2545 [==============================] - 7s 3ms/step - loss: 0.2223 - acc: 0.9183 - val_loss: 0.3723 - val_acc: 0.8575\n",
      "Epoch 26/1000\n",
      "2545/2545 [==============================] - 7s 3ms/step - loss: 0.2255 - acc: 0.9171 - val_loss: 0.3739 - val_acc: 0.8598\n",
      "Epoch 27/1000\n",
      "2545/2545 [==============================] - 7s 3ms/step - loss: 0.2078 - acc: 0.9242 - val_loss: 0.3854 - val_acc: 0.8575\n",
      "Epoch 28/1000\n",
      "2545/2545 [==============================] - 7s 3ms/step - loss: 0.2106 - acc: 0.9308 - val_loss: 0.3813 - val_acc: 0.8528\n",
      "Epoch 29/1000\n",
      "2545/2545 [==============================] - 7s 3ms/step - loss: 0.2165 - acc: 0.9210 - val_loss: 0.3802 - val_acc: 0.8539\n",
      "Epoch 30/1000\n",
      "2545/2545 [==============================] - 7s 3ms/step - loss: 0.1980 - acc: 0.9340 - val_loss: 0.3840 - val_acc: 0.8551\n",
      "Epoch 31/1000\n",
      "2545/2545 [==============================] - 7s 3ms/step - loss: 0.2011 - acc: 0.9328 - val_loss: 0.3880 - val_acc: 0.8469\n",
      "Epoch 32/1000\n",
      "2545/2545 [==============================] - 7s 3ms/step - loss: 0.1939 - acc: 0.9285 - val_loss: 0.3849 - val_acc: 0.8504\n",
      "Epoch 33/1000\n",
      "2545/2545 [==============================] - 8s 3ms/step - loss: 0.1809 - acc: 0.9360 - val_loss: 0.3948 - val_acc: 0.8492\n",
      "Epoch 34/1000\n",
      "2545/2545 [==============================] - 7s 3ms/step - loss: 0.1842 - acc: 0.9344 - val_loss: 0.3982 - val_acc: 0.8539\n",
      "dict_keys(['val_loss', 'val_acc', 'loss', 'acc'])\n"
     ]
    },
    {
     "data": {
      "image/png": "[encoded data removed]",
      "text/plain": [
       "<Figure size 432x288 with 1 Axes>"
      ]
     },
     "metadata": {
      "needs_background": "light"
     },
     "output_type": "display_data"
    },
    {
     "name": "stdout",
     "output_type": "stream",
     "text": [
      "RCNN, Word Embeddings 0.8679245283018868\n",
      "[[362  50]\n",
      " [ 62 374]]\n"
     ]
    }
   ],
   "source": [
    "def create_rcnn():\n",
    "    # Add an Input Layer\n",
    "    input_layer = layers.Input((maxlen, ))\n",
    "\n",
    "    # Add the word embedding Layer\n",
    "    embedding_layer = BDTD_word2vec_50.wv.get_keras_embedding(train_embeddings=True)(input_layer)\n",
    " \n",
    "    embedding_layer = layers.SpatialDropout1D(0.05)(embedding_layer)\n",
    "    \n",
    "    # Add the recurrent layer\n",
    "    rnn_layer = layers.Bidirectional(layers.GRU(50, return_sequences=True))(embedding_layer)\n",
    "    \n",
    "    # Add the convolutional Layer\n",
    "    conv_layer = layers.Convolution1D(100, 3, activation=\"sigmoid\")(embedding_layer)\n",
    "\n",
    "    # Add the pooling Layer\n",
    "    pooling_layer = layers.GlobalMaxPool1D()(conv_layer)\n",
    "\n",
    "    # Add the output Layers\n",
    "    output_layer1 = layers.Dense(50, activation=\"sigmoid\")(pooling_layer)\n",
    "    output_layer1 = layers.Dropout(0.2)(output_layer1)\n",
    "    output_layer2 = layers.Dense(1, activation=\"sigmoid\")(output_layer1)\n",
    "\n",
    "    # Compile the model\n",
    "    model = models.Model(inputs=input_layer, outputs=output_layer2)\n",
    "    model.compile(optimizer=optimizers.Adam(), loss='binary_crossentropy', metrics=['acc'])\n",
    "    print(model.summary())\n",
    "    return model\n",
    "\n",
    "classifier = create_rcnn()\n",
    "accuracy, confusion = train_model(classifier, train_seq_x, train_y, test_seq_x, is_neural_net=True)\n",
    "print (\"RCNN, Word Embeddings\",  accuracy)\n",
    "with tf.Session() as sess:\n",
    "    print(confusion.eval())"
   ]
  },
  {
   "cell_type": "markdown",
   "metadata": {},
   "source": [
    "# Conclusão"
   ]
  },
  {
   "cell_type": "code",
   "execution_count": 30,
   "metadata": {},
   "outputs": [
    {
     "ename": "SyntaxError",
     "evalue": "invalid syntax (<ipython-input-30-2f7075bb0869>, line 1)",
     "output_type": "error",
     "traceback": [
      "\u001b[1;36m  File \u001b[1;32m\"<ipython-input-30-2f7075bb0869>\"\u001b[1;36m, line \u001b[1;32m1\u001b[0m\n\u001b[1;33m    O modelo com o melhor resultado foi\u001b[0m\n\u001b[1;37m           ^\u001b[0m\n\u001b[1;31mSyntaxError\u001b[0m\u001b[1;31m:\u001b[0m invalid syntax\n"
     ]
    }
   ],
   "source": [
    "O modelo com o melhor resultado foi"
   ]
  }
 ],
 "metadata": {
  "kernelspec": {
   "display_name": "Python 3",
   "language": "python",
   "name": "python3"
  },
  "language_info": {
   "codemirror_mode": {
    "name": "ipython",
    "version": 3
   },
   "file_extension": ".py",
   "mimetype": "text/x-python",
   "name": "python",
   "nbconvert_exporter": "python",
   "pygments_lexer": "ipython3",
   "version": "3.6.9"
  }
 },
 "nbformat": 4,
 "nbformat_minor": 2
}
