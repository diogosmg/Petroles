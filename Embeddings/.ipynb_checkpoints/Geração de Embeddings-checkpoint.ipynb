{
 "cells": [
  {
   "cell_type": "markdown",
   "metadata": {},
   "source": [
    "Gerando modelo de Embeddings a partir dos documentos da BDTD"
   ]
  },
  {
   "cell_type": "code",
   "execution_count": 6,
   "metadata": {},
   "outputs": [],
   "source": [
    "# Importando blibliotecas\n",
    "import pandas as pd\n",
    "import nltk\n",
    "import gensim\n",
    "from random import shuffle\n",
    "from gensim.models import FastText"
   ]
  },
  {
   "cell_type": "code",
   "execution_count": 2,
   "metadata": {},
   "outputs": [],
   "source": [
    "teses_mesmas_areas_Large = pd.read_json('../BDTD/teses_mesmas_areas_Large.json', orient = 'index')\n",
    "tese_area_oposta_Large = pd.read_json('../BDTD/teses_areas_opostas_Large.json', orient = 'index')"
   ]
  },
  {
   "cell_type": "code",
   "execution_count": 3,
   "metadata": {},
   "outputs": [],
   "source": [
    "corpus = teses_mesmas_areas_Large['Resumo Português:']\n",
    "corpus = corpus.append(tese_area_oposta_Large['Resumo Português:'])\n",
    "corpus = corpus.str.cat(sep=' ')"
   ]
  },
  {
   "cell_type": "code",
   "execution_count": 4,
   "metadata": {},
   "outputs": [],
   "source": [
    "corpus = nltk.sent_tokenize(corpus) # this gives us a list of sentences\n",
    "shuffle(corpus)"
   ]
  },
  {
   "cell_type": "code",
   "execution_count": 5,
   "metadata": {},
   "outputs": [],
   "source": [
    "corpus_processado = []\n",
    "for sentence in corpus:\n",
    "    corpus_processado.append(gensim.utils.simple_preprocess(sentence))\n"
   ]
  },
  {
   "cell_type": "code",
   "execution_count": 7,
   "metadata": {},
   "outputs": [],
   "source": [
    "model = FastText(size=300, window=10, min_count=1, alpha=0.25)  # instantiate\n",
    "model.build_vocab(sentences=corpus_processado)\n",
    "model.train(sentences=corpus_processado, total_examples=len(corpus_processado), epochs=100)  # train"
   ]
  },
  {
   "cell_type": "code",
   "execution_count": 8,
   "metadata": {},
   "outputs": [
    {
     "name": "stderr",
     "output_type": "stream",
     "text": [
      "C:\\ProgramData\\Anaconda3\\lib\\site-packages\\smart_open\\smart_open_lib.py:398: UserWarning: This function is deprecated, use smart_open.open instead. See the migration notes for details: https://github.com/RaRe-Technologies/smart_open/blob/master/README.rst#migrating-to-the-new-open-function\n",
      "  'See the migration notes for details: %s' % _MIGRATION_NOTES_URL\n"
     ]
    }
   ],
   "source": [
    "fname = 'BDTD_FastText_300'\n",
    "model.save(fname)\n",
    "model = FastText.load(fname)"
   ]
  },
  {
   "cell_type": "code",
   "execution_count": 9,
   "metadata": {},
   "outputs": [
    {
     "data": {
      "text/plain": [
       "array([ -47.62036   ,  -21.429527  ,   26.940155  ,  -27.204039  ,\n",
       "        -68.07499   ,   32.741074  ,  -56.569504  ,   59.30395   ,\n",
       "        -62.479637  ,   37.486324  ,   44.966896  ,  -87.94398   ,\n",
       "        -58.7149    ,   -0.28778398,  -47.977467  ,   11.819763  ,\n",
       "         -3.4270103 ,  -32.027004  ,  -25.848455  ,  -63.540783  ,\n",
       "         13.58912   ,   20.462702  ,   27.376398  ,   68.95898   ,\n",
       "         -8.016542  ,   -2.6241386 ,  -43.730316  ,   43.844437  ,\n",
       "         39.47745   ,   18.878752  ,    5.690172  ,  -61.315464  ,\n",
       "        -40.648933  ,   78.98571   ,  -59.41063   ,   11.387608  ,\n",
       "        -56.534718  ,  -57.7903    ,  -61.3446    ,    3.6143289 ,\n",
       "         18.390272  ,  -54.80991   ,  -23.031963  ,  -62.038853  ,\n",
       "        -18.510996  ,   52.32787   ,  100.13294   ,   -7.8424916 ,\n",
       "        -71.96595   ,  -72.26733   ,   25.527344  ,   68.10606   ,\n",
       "         17.29323   ,   10.6042595 ,  -56.010338  ,  -60.805355  ,\n",
       "        -17.538193  ,  -23.78504   ,    3.605778  ,   27.710735  ,\n",
       "        -40.17909   ,   -7.268067  ,  -14.871024  ,    9.717256  ,\n",
       "         -0.5539681 ,    9.43586   ,    6.195331  ,  -76.07088   ,\n",
       "          3.157776  ,   45.408463  ,   83.33666   ,  -24.070843  ,\n",
       "        -26.670269  ,    1.7401623 ,   54.793507  ,  -40.617565  ,\n",
       "        -41.85147   ,  -13.651962  ,  -83.12927   ,  -78.43726   ,\n",
       "         76.75431   ,   15.011219  ,   16.748114  ,   -7.6531754 ,\n",
       "         26.192547  ,    3.4717906 ,   13.149878  ,    2.2705758 ,\n",
       "          5.1230884 ,   -3.0571241 ,   17.18119   ,   86.31464   ,\n",
       "        -15.914362  ,   24.77007   ,   -8.448844  ,  -21.381945  ,\n",
       "         15.350857  ,    1.3778614 ,  -27.19099   ,   32.464657  ,\n",
       "         20.94559   ,   -4.689962  ,  -13.900634  ,   17.015314  ,\n",
       "         40.076725  ,  -22.297136  ,   25.363567  ,   -6.845097  ,\n",
       "        -29.330488  ,  -28.456215  ,   17.974566  ,   -7.736813  ,\n",
       "         25.767975  ,  -26.805397  ,  -63.217945  ,  -11.445225  ,\n",
       "         56.666172  ,   49.876965  ,  -58.69719   ,   16.493294  ,\n",
       "        -62.47532   ,   64.252106  ,   19.257454  ,   -4.762069  ,\n",
       "         62.467697  ,   -8.70098   ,    8.9253645 ,   36.319866  ,\n",
       "        -21.83232   ,   -2.6616633 ,   44.979294  ,  -19.860573  ,\n",
       "        -26.273163  ,  -48.086864  ,   47.253807  ,  -43.970585  ,\n",
       "         43.7177    ,    3.6587708 ,   40.162796  ,  -74.47149   ,\n",
       "         75.20663   ,  -18.57708   ,    9.003268  ,  -51.300087  ,\n",
       "         64.71058   ,    3.3653147 ,  -25.496416  ,  -39.496964  ,\n",
       "        -44.859013  ,  -17.7592    ,    3.7279406 ,   25.15696   ,\n",
       "         54.00952   ,  -74.55967   ,   32.415707  ,  -16.908707  ,\n",
       "        -65.13477   ,  -48.361393  ,   47.241684  ,   49.48401   ,\n",
       "         10.869049  ,   35.93724   ,  -31.292803  ,  -22.929428  ,\n",
       "         -4.1124988 ,  -20.865423  ,  130.75015   ,  -11.899077  ,\n",
       "        -66.0915    ,   11.178164  ,    0.961664  ,  -32.47378   ,\n",
       "         10.913388  ,   26.955412  ,  -69.161125  ,   19.78094   ,\n",
       "         65.91885   ,   63.651344  ,   19.613565  ,   -7.4145904 ,\n",
       "         52.03256   ,   70.644585  ,  -12.585328  ,   37.87416   ,\n",
       "         27.917683  ,  -42.412994  ,   40.987038  ,  -12.398318  ,\n",
       "         39.56915   ,   89.83901   ,   24.418642  ,  -12.839139  ,\n",
       "        -44.318367  ,  -50.451805  ,   -5.907986  ,  -55.75051   ,\n",
       "         45.82332   ,   87.821434  ,  -78.46065   ,   45.081753  ,\n",
       "         59.768814  ,   12.377412  ,   -5.980901  ,  -56.10166   ,\n",
       "        -98.61756   ,   50.328392  ,   -1.726239  ,  -21.412222  ,\n",
       "        -34.42853   ,   42.594765  ,  -44.89525   ,   30.395452  ,\n",
       "         85.4316    ,   23.73603   ,  -27.002283  ,    8.692669  ,\n",
       "          6.681149  ,    7.32449   ,   78.99934   ,   -5.8276978 ,\n",
       "         48.30803   ,  -16.456568  ,  -32.772865  ,   18.765049  ,\n",
       "         29.30725   ,   -5.6620007 ,   36.159725  ,   45.942177  ,\n",
       "         -7.2937984 ,   62.80875   ,    9.56943   ,  -17.812681  ,\n",
       "       -114.54246   ,  -33.776703  ,   12.405823  ,  -63.80319   ,\n",
       "         -1.6271777 ,   48.31043   ,  -26.147938  ,   27.93765   ,\n",
       "         34.812057  ,  -33.130856  ,   41.425835  ,   -0.559115  ,\n",
       "         36.23375   ,   24.254122  ,  -33.321842  ,   71.46076   ,\n",
       "        -26.542559  ,   17.095764  ,  -50.990734  ,  -15.159611  ,\n",
       "        -25.371096  ,  -51.058315  ,  -29.10564   ,   24.35797   ,\n",
       "         65.160545  ,   -6.2373853 ,   -8.245362  ,  -59.7021    ,\n",
       "        -11.973721  ,   -1.0560294 ,  -79.92298   ,  -21.15261   ,\n",
       "        -72.92681   ,  -19.713017  ,   -0.5180645 ,   -6.1234126 ,\n",
       "          8.408984  ,    1.0797604 ,   23.428164  ,  -71.67436   ,\n",
       "        -41.54736   ,    2.950998  ,  -94.4888    ,  -19.664309  ,\n",
       "        -46.43857   ,    9.871279  ,  -25.821674  ,   96.42891   ,\n",
       "         -8.710289  ,    9.416741  ,   73.42375   ,   52.41271   ,\n",
       "         71.19727   ,  -54.04597   ,   14.708972  ,   71.84531   ,\n",
       "         -1.4309998 ,    6.7195034 ,   33.516342  ,   19.122469  ,\n",
       "          2.6065266 ,   32.69313   ,   41.21234   ,   51.9348    ,\n",
       "         34.647995  ,  -14.014785  ,   43.69611   ,   23.05251   ],\n",
       "      dtype=float32)"
      ]
     },
     "execution_count": 9,
     "metadata": {},
     "output_type": "execute_result"
    }
   ],
   "source": [
    "model.wv['peso']"
   ]
  }
 ],
 "metadata": {
  "kernelspec": {
   "display_name": "Python 3",
   "language": "python",
   "name": "python3"
  },
  "language_info": {
   "codemirror_mode": {
    "name": "ipython",
    "version": 3
   },
   "file_extension": ".py",
   "mimetype": "text/x-python",
   "name": "python",
   "nbconvert_exporter": "python",
   "pygments_lexer": "ipython3",
   "version": "3.6.9"
  }
 },
 "nbformat": 4,
 "nbformat_minor": 2
}
