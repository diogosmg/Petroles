{
 "cells": [
  {
   "cell_type": "markdown",
   "metadata": {},
   "source": [
    "Gerando modelo de Embeddings a partir dos documentos da BDTD"
   ]
  },
  {
   "cell_type": "code",
   "execution_count": 38,
   "metadata": {},
   "outputs": [],
   "source": [
    "# Importando blibliotecas\n",
    "import pandas as pd\n",
    "import nltk\n",
    "from nltk.tokenize import word_tokenize\n",
    "import gensim\n",
    "from random import shuffle\n",
    "from gensim.models import FastText\n",
    "from gensim.models import Word2Vec"
   ]
  },
  {
   "cell_type": "code",
   "execution_count": 39,
   "metadata": {},
   "outputs": [],
   "source": [
    "teses_mesmas_areas_Large = pd.read_json('../BDTD/teses_mesmas_areas_Large.json', orient = 'index')\n",
    "tese_area_oposta_Large = pd.read_json('../BDTD/teses_areas_opostas_Large.json', orient = 'index')"
   ]
  },
  {
   "cell_type": "code",
   "execution_count": 40,
   "metadata": {},
   "outputs": [],
   "source": [
    "corpus = teses_mesmas_areas_Large['Resumo Português:']\n",
    "corpus = corpus.append(tese_area_oposta_Large['Resumo Português:'])\n",
    "corpus = corpus.str.cat(sep=' ')"
   ]
  },
  {
   "cell_type": "code",
   "execution_count": 41,
   "metadata": {},
   "outputs": [],
   "source": [
    "corpus = nltk.sent_tokenize(corpus) # this gives us a list of sentences\n",
    "shuffle(corpus)"
   ]
  },
  {
   "cell_type": "code",
   "execution_count": 42,
   "metadata": {},
   "outputs": [],
   "source": [
    "corpus_processado = []\n",
    "for sentence in corpus:\n",
    "    corpus_processado.append(word_tokenize(sentence))\n"
   ]
  },
  {
   "cell_type": "code",
   "execution_count": 24,
   "metadata": {},
   "outputs": [],
   "source": [
    "#model = FastText(size=300, window=10, min_count=1, alpha=0.25)  # instantiate\n",
    "#model.build_vocab(sentences=corpus_processado)\n",
    "#model.train(sentences=corpus_processado, total_examples=len(corpus_processado), epochs=5)  # train"
   ]
  },
  {
   "cell_type": "code",
   "execution_count": 25,
   "metadata": {},
   "outputs": [],
   "source": [
    "#fname = 'BDTD_FastText_300v2'\n",
    "#model.save(fname)\n",
    "#model = FastText.load(fname)"
   ]
  },
  {
   "cell_type": "code",
   "execution_count": 43,
   "metadata": {},
   "outputs": [],
   "source": [
    "# Treinando e gravando o modelo Word2Vec\n",
    "model = Word2Vec(corpus_processado, size=50, window=10, min_count=1, workers=4, iter=5)\n",
    "model.save(\"BDTD_word2vec_50\")\n",
    "model = Word2Vec.load(\"BDTD_word2vec_50\")"
   ]
  },
  {
   "cell_type": "code",
   "execution_count": 44,
   "metadata": {},
   "outputs": [
    {
     "data": {
      "text/plain": [
       "<gensim.models.keyedvectors.Word2VecKeyedVectors at 0x34956c50>"
      ]
     },
     "execution_count": 44,
     "metadata": {},
     "output_type": "execute_result"
    }
   ],
   "source": [
    "model.wv"
   ]
  },
  {
   "cell_type": "code",
   "execution_count": 45,
   "metadata": {
    "scrolled": false
   },
   "outputs": [
    {
     "data": {
      "text/plain": [
       "array([ 0.09854531, -1.191172  , -2.7019548 , -3.5739448 , -4.3955865 ,\n",
       "       -3.5330274 , -4.688816  , -8.111851  ,  0.6850526 , -2.7104745 ,\n",
       "       -0.8490598 , -1.9360967 ,  3.2500587 ,  0.6404847 , -7.327435  ,\n",
       "       -2.0655391 ,  3.0931292 ,  0.8884025 ,  1.6877828 , -0.09560525,\n",
       "       -0.28648221,  1.7127982 ,  4.142282  , -3.84547   ,  3.6841938 ,\n",
       "        0.11364324,  2.6550593 , -3.9071376 ,  1.8138059 , -3.560988  ,\n",
       "        3.13142   , -0.43136278, -3.4837823 , -2.9960504 , -8.488859  ,\n",
       "       -1.3273462 ,  1.6988711 , -0.79004514,  1.7284609 , -0.8326081 ,\n",
       "       -2.8953626 , -1.1967231 ,  3.332757  ,  4.8290873 , -3.7183843 ,\n",
       "       -2.8591707 ,  4.3014636 , -1.5857593 ,  2.1812103 , -0.99366784],\n",
       "      dtype=float32)"
      ]
     },
     "execution_count": 45,
     "metadata": {},
     "output_type": "execute_result"
    }
   ],
   "source": [
    "model.wv['peso']"
   ]
  },
  {
   "cell_type": "code",
   "execution_count": 46,
   "metadata": {},
   "outputs": [
    {
     "data": {
      "text/plain": [
       "[('solo', 0.8180131912231445),\n",
       " ('irrigação', 0.8043266534805298),\n",
       " ('elétrica', 0.7761086225509644),\n",
       " ('café', 0.7662091255187988),\n",
       " ('operação', 0.7628301978111267),\n",
       " ('umidade', 0.7591822743415833),\n",
       " ('ar', 0.75583815574646),\n",
       " ('queima', 0.7554020285606384),\n",
       " ('milho', 0.7516202926635742),\n",
       " ('cana-de-açúcar', 0.7475964426994324)]"
      ]
     },
     "execution_count": 46,
     "metadata": {},
     "output_type": "execute_result"
    }
   ],
   "source": [
    "model.wv.similar_by_word('água')"
   ]
  },
  {
   "cell_type": "code",
   "execution_count": null,
   "metadata": {},
   "outputs": [],
   "source": []
  }
 ],
 "metadata": {
  "kernelspec": {
   "display_name": "Python 3",
   "language": "python",
   "name": "python3"
  },
  "language_info": {
   "codemirror_mode": {
    "name": "ipython",
    "version": 3
   },
   "file_extension": ".py",
   "mimetype": "text/x-python",
   "name": "python",
   "nbconvert_exporter": "python",
   "pygments_lexer": "ipython3",
   "version": "3.6.9"
  }
 },
 "nbformat": 4,
 "nbformat_minor": 2
}
