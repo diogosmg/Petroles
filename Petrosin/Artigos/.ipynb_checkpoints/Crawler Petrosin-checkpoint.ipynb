{
 "cells": [
  {
   "cell_type": "markdown",
   "metadata": {},
   "source": [
    "O objetivo deste script é fazer um crawler para buscar as teses e artigos cadastradas no Petrosin.\n",
    "http://aleph.cenpes.petrobras.com.br/LINKS/"
   ]
  },
  {
   "cell_type": "code",
   "execution_count": 1,
   "metadata": {},
   "outputs": [],
   "source": [
    "import requests\n",
    "from bs4 import BeautifulSoup as bs"
   ]
  },
  {
   "cell_type": "code",
   "execution_count": 2,
   "metadata": {},
   "outputs": [],
   "source": [
    "#Requisitando url com o link para os PDF\n",
    "url = 'http://aleph.cenpes.petrobras.com.br/LINKS/'\n",
    "pasta = 'Artigos'\n",
    "f = requests.get(url + '/' + pasta).text \n",
    "soup = bs(f, \"html.parser\")"
   ]
  },
  {
   "cell_type": "code",
   "execution_count": null,
   "metadata": {},
   "outputs": [],
   "source": [
    "#Coletando link para os PFD\n",
    "links = []\n",
    "for doc in soup.find_all('a'):\n",
    "    link = doc.get_text()\n",
    "    links.append(link)"
   ]
  },
  {
   "cell_type": "code",
   "execution_count": null,
   "metadata": {},
   "outputs": [
    {
     "name": "stdout",
     "output_type": "stream",
     "text": [
      "0 :  [To Parent Directory]\n",
      "1 :  1H_NMR_Relaxation_time.pdf\n",
      "2 :  2014 - Biodiesel production from macauba - Fuel.pdf\n",
      "3 :  32 - PB-SA Meeting - HDT Clean Fuels - Zotin D.pdf\n",
      "4 :  A_politica_atual_do_petroleo.pdf\n",
      "5 :  A_producao_mais_limpa...pdf\n",
      "6 :  A_quimica_da_produtividade...pdf\n",
      "7 :  ABDEL-REHIM_MA_Acid-base_reactions_on...pdf\n",
      "8 :  ABDEL-REHIM_MA_Reacao_de_desidratacao_de...pdf\n",
      "9 :  ABEDIA_B_Startup_flow_of_yield_stress_non_thixotropic...pdf\n",
      "10 :  ABREU_ACA_A_decision_support_approach_to_value_flexibility_considering_uncertainty...pdf\n",
      "11 :  ABREU_AS_Photocatalytic_conversion_of_NOx...pdf\n",
      "12 :  ABREU_CEBS_Use_of_simultaneous...pdf\n",
      "13 :  ABREU_CJ_Artificial_diagenesis_of...pdf\n",
      "14 :  ABREU_CJ_Geometria_e_heterogeneidade_de...pdf\n",
      "15 :  ABREU_HFG_Deformation_induced_martensite...pdf\n",
      "16 :  ABREU_IFNB_Relatorio_de_participacao_no_PMI_EMEA...pdf\n",
      "17 :  ABREU_MAS_Photocatalytic_conversion_of...pdf\n",
      "18 :  ABREU_MAS_The_effect_of_Anatase...pdf\n",
      "19 :  ABUNAHMAN_SS_estudo_comparativo_do...pdf\n",
      "20 :  ACCHAR_W_Effect_of_the_incorporate_of...pdf\n",
      "21 :  ACO_assume_papel_de_destaque...pdf\n",
      "22 :  ADAMOWSKI_JC_Transmissao_acustica_de...pdf\n",
      "23 :  ADDUCI_RV_Caracterizacao_das...pdf\n",
      "24 :  ADELSON_LL_Deepwater_floating_solutions_in...pdf\n",
      "25 :  ADELSON_LL_Floating_unit_alternatives_for...pdf\n",
      "26 :  ADORNO_RR_Biostratigraphy_of_Neoproterozoic...pdf\n",
      "27 :  AERODYNAMICA_Performance_of_NACA...pdf\n",
      "28 :  AGARWAL_A_Evaluation_of_fugitive_methane...pdf\n",
      "29 :  AGENA_EK_Checagem_de_Projetos_Modelados...pdf\n",
      "30 :  AGENA_EK_Relatorios_de_valvulas_industriais...pdf\n",
      "31 :  AGENA_EK_Relatórios_de_ Pendências_ de_ Montagens...pdf\n",
      "32 :  AGGARWAL_RK_Single_column_design_alternatives_for...pdf\n",
      "33 :  AGGIO_SOBRINHO_A_Seismic_visualization_for...pdf\n",
      "34 :  Agua_de_lastro...pdf\n",
      "35 :  AGUIA_LAD_Influencia_de_tensoes...pdf\n",
      "36 :  AGUIAR_A_Identification_of_methylhopane...pdf\n",
      "37 :  AGUIAR_EFS_Una_vision_catalitica_de_las_refinerias_en_el-futuro...pdf\n",
      "38 :  AGUIAR_H_Application_ of...pdf\n",
      "39 :  AGUIAR_HGM_Geochemical_characterization_of...pdf\n",
      "40 :  AGUIAR_LAM_Analise_do_potencial_selante_da_...pdf\n",
      "41 :  AGUIAR_LAM_Reducao_do_risco_exploratorio_associado_a...pdf\n",
      "42 :  AGUIAR_LEV_Metodo_eletroquimico_de...pdf\n",
      "43 :  AGUIAR_M_Configurational_double_bond_selectivity_in...pdf\n",
      "44 :  AGUIAR_MRMP_Correlacao_de_mobilidade_molecular_com...pdf\n",
      "45 :  AGUIAR_MRMP_Efeito_de_solvente_nos...pdf\n",
      "46 :  AGUIAR_MRMP_Estudo_da_mobilidade_molecular_de...pdf\n",
      "47 :  AGUIAR_MRMP_Ressonancia_magnetica_nuclear....pdf\n",
      "48 :  AGUIAR_MRMP_Ressonancia_magnetica_nuclear_da...pdf\n",
      "49 :  AGUIAR_MRMP_RMN_no_estado_sólido_de...pdf\n",
      "50 :  AGUIEIRAS_ECG_Estolides_synthesis_catalyzed...pdf\n",
      "51 :  AGUIERAS_ECG_Techno_economic_analysis...pdf\n",
      "52 :  AIEX_C_Experimental_study_on_effects_static...pdf\n",
      "53 :  Ainda_repercussoes_Rio98...pdf\n",
      "54 :  AIRES_JR_Alternative_solution_for...pdf\n",
      "55 :  AIRES_JR_Problemas_ambientales_producidos_por...pdf\n",
      "56 :  AIRES_JR_Termo_reciclagem...pdf\n",
      "57 :  AIRES_MAC_Optmizing_the_petroleum_supply...pdf\n",
      "58 :  AIRES_MAC_Programacao_da_producao_de...pdf\n",
      "59 :  AIUBE_CAF_Relatorio_de_participacao_no_curso_International_Oil_Trading...pdf\n",
      "60 :  AK_R_NSGA_II_trained...pdf\n",
      "61 :  ALBERT_B_A_study_on_software...pdf\n",
      "62 :  ALBERTAO_GA_The_cretaceous-tertiary_boundary_(KTB)_at_Pernambuco...pdf\n",
      "63 :  ALBERTAO_GA_The_cretaceous-tertiary_boundary_in...pdf\n",
      "64 :  ALBERTON_KPF_Neural_networks_modeling_of_dearomatization_of_distillate_cuts_with_furfural_to_produce_lubricants...pdf\n",
      "65 :  ALBUQUERQUE_ALS_Organic_carbon_accumulation_during_the_Holocene_in_the_Southeastern_Brazilian_Shelf...pdf\n",
      "66 :  ALBUQUERQUE_BVL_Relatorio_de_participacao_no_ATD_2018...pdf\n",
      "67 :  ALBUQUERQUE_FC_Calibration_of_retention_time_for...pdf\n",
      "68 :  ALBUQUERQUE_FC_Determination_of_conjugated...pdf\n",
      "69 :  ALBUQUERQUE_FI_Determination_of_As...pdf\n",
      "70 :  ALBUQUERQUE_MCC_Aplicacoes_de_enzimas...pdf\n",
      "71 :  ALEGRIA_LMC_Friction_factor...pdf\n",
      "72 :  ALGHAMDI_AH_Acid_diversion_using...pdf\n",
      "73 :  ALHADELF_CM_New_procedures...pdf\n",
      "74 :  ALLARD_JL_Como_um_sistema_de_detecção...pdf\n",
      "75 :  ALLEVATO_C_Aplicacoes_da_tecnica...pdf\n",
      "76 :  ALLEVATO_C_Os_ensaios_nao...pdf\n",
      "77 :  ALLEVATO_C_Tecnica_de_inspecao...pdf\n",
      "78 :  ALLO_F_Petrophysical_seismic_inversion...pdf\n",
      "79 :  ALMDAHL_PM_Downhole_horizontal_separation...pdf\n",
      "80 :  ALMEIDA-VAL_VMF_A_amazonia_nao_e...pdf\n",
      "81 :  ALMEIDA_AR_A_comparison_of...pdf\n",
      "82 :  ALMEIDA_AR_A_model_to_calculate...pdf\n",
      "83 :  ALMEIDA_AR_Advantages_and_limitations_of_venturi_gas_lift_ valves...pdf\n",
      "84 :  ALMEIDA_AR_Con-chanchos_producen...pdf\n",
      "85 :  ALMEIDA_AR_Continuous_gas_lift_performance_analysis...pdf\n",
      "86 :  ALMEIDA_AR_Integral_transform_solution_of...pdf\n",
      "87 :  ALMEIDA_AR_On_the_computational_performance_of...pdf\n",
      "88 :  ALMEIDA_AR_On_the_integral_transform_solution_of...pdf\n",
      "89 :  ALMEIDA_AR_Some_design_aspects_for_venturi...pdf\n",
      "90 :  ALMEIDA_AR_Venturi_for...pdf\n",
      "91 :  ALMEIDA_FILHO_R_Evaluation_of...pdf\n",
      "92 :  ALMEIDA_FILHO_R_Exploration_assessment_in_a...pdf\n",
      "93 :  ALMEIDA_FILHO_R_Interpretacao_morfoestrutural...pdf\n",
      "94 :  ALMEIDA_FILHO_R_Mega_capture_of_the_Rio...pdf\n",
      "95 :  ALMEIDA_FILHO_R_Quaternary_reactivation...pdf\n",
      "96 :  ALMEIDA_FILHO_R_Terrain_characteristics_of_a...pdf\n",
      "97 :  ALMEIDA_FP_Producao_e_caracterizacao...pdf\n",
      "98 :  ALMEIDA_FS_O_uso_da_ferramenta_Vantage_Point_para...pdf\n",
      "99 :  ALMEIDA_FS_Prospeccao_de_patentes_para_reducao_de_ incertezas...pdf\n",
      "100 :  ALMEIDA_FS_Prospeccao_de_patentes_para_reducao_de_incertezas...pdf\n",
      "101 :  ALMEIDA_FS_Prospeccao_tecnologica_em_brocas_de_perfuracao...pdf\n",
      "102 :  ALMEIDA_FS_Prospeccao_tecnologica_por_meio_de_analise_de_patentes...pdf\n"
     ]
    }
   ],
   "source": [
    "# Iterando por todos os links de PDF e baixando na pasta atual\n",
    "for n in range(len(links)):\n",
    "    doc_url = url + '/' + pasta + '/' + links[n]\n",
    "    r = requests.get(doc_url)\n",
    "    with open(links[n],'wb') as f:\n",
    "        f.write(r.content)\n",
    "        print(n, \": \", links[n])"
   ]
  },
  {
   "cell_type": "code",
   "execution_count": null,
   "metadata": {},
   "outputs": [],
   "source": []
  }
 ],
 "metadata": {
  "kernelspec": {
   "display_name": "Python 3",
   "language": "python",
   "name": "python3"
  },
  "language_info": {
   "codemirror_mode": {
    "name": "ipython",
    "version": 3
   },
   "file_extension": ".py",
   "mimetype": "text/x-python",
   "name": "python",
   "nbconvert_exporter": "python",
   "pygments_lexer": "ipython3",
   "version": "3.6.4"
  }
 },
 "nbformat": 4,
 "nbformat_minor": 2
}
