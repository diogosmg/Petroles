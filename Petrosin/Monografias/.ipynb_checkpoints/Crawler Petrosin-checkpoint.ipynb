{
 "cells": [
  {
   "cell_type": "markdown",
   "metadata": {},
   "source": [
    "O objetivo deste script é fazer um crawler para buscar as teses e artigos cadastradas no Petrosin.\n",
    "http://aleph.cenpes.petrobras.com.br/LINKS/"
   ]
  },
  {
   "cell_type": "code",
   "execution_count": 17,
   "metadata": {},
   "outputs": [],
   "source": [
    "import requests\n",
    "from bs4 import BeautifulSoup as bs"
   ]
  },
  {
   "cell_type": "code",
   "execution_count": 18,
   "metadata": {},
   "outputs": [],
   "source": [
    "#Requisitando url com o link para os PDF\n",
    "url = 'http://aleph.cenpes.petrobras.com.br/LINKS/'\n",
    "pasta = 'Monografias'\n",
    "f = requests.get(url + '/' + pasta).text \n",
    "soup = bs(f, \"html.parser\")"
   ]
  },
  {
   "cell_type": "code",
   "execution_count": 19,
   "metadata": {},
   "outputs": [],
   "source": [
    "#Coletando link para os PFD\n",
    "links = []\n",
    "for doc in soup.find_all('a'):\n",
    "    link = doc.get_text()\n",
    "    links.append(link)"
   ]
  },
  {
   "cell_type": "code",
   "execution_count": 16,
   "metadata": {},
   "outputs": [
    {
     "data": {
      "text/plain": [
       "['here', 'View more information »']"
      ]
     },
     "execution_count": 16,
     "metadata": {},
     "output_type": "execute_result"
    }
   ],
   "source": [
    "links"
   ]
  },
  {
   "cell_type": "code",
   "execution_count": 15,
   "metadata": {},
   "outputs": [
    {
     "name": "stdout",
     "output_type": "stream",
     "text": [
      "0 :  here\n",
      "1 :  View more information »\n"
     ]
    }
   ],
   "source": [
    "# Iterando por todos os links de PDF e baixando na pasta atual\n",
    "for n in range(len(links)):\n",
    "    doc_url = url + '/' + pasta + '/' + links[n]\n",
    "    r = requests.get(doc_url)\n",
    "    with open(links[n],'wb') as f:\n",
    "        f.write(r.content)\n",
    "        print(n, \": \", links[n])"
   ]
  },
  {
   "cell_type": "code",
   "execution_count": null,
   "metadata": {},
   "outputs": [],
   "source": []
  }
 ],
 "metadata": {
  "kernelspec": {
   "display_name": "Python 3",
   "language": "python",
   "name": "python3"
  },
  "language_info": {
   "codemirror_mode": {
    "name": "ipython",
    "version": 3
   },
   "file_extension": ".py",
   "mimetype": "text/x-python",
   "name": "python",
   "nbconvert_exporter": "python",
   "pygments_lexer": "ipython3",
   "version": "3.6.4"
  }
 },
 "nbformat": 4,
 "nbformat_minor": 2
}
