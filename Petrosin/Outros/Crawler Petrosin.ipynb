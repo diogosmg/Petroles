{
 "cells": [
  {
   "cell_type": "markdown",
   "metadata": {},
   "source": [
    "O objetivo deste script é fazer um crawler para buscar as teses e artigos cadastradas no Petrosin.\n",
    "http://aleph.cenpes.petrobras.com.br/LINKS/"
   ]
  },
  {
   "cell_type": "code",
   "execution_count": 1,
   "metadata": {},
   "outputs": [],
   "source": [
    "import requests\n",
    "from bs4 import BeautifulSoup as bs"
   ]
  },
  {
   "cell_type": "code",
   "execution_count": 23,
   "metadata": {},
   "outputs": [],
   "source": [
    "#Requisitando url com o link para os PDF\n",
    "url = 'http://aleph.cenpes.petrobras.com.br/LINKS/Monografias/'\n",
    "pasta = 'WRFC_2006/index/pres'\n",
    "f = requests.get(url + '/' + pasta).text \n",
    "soup = bs(f, \"html.parser\")"
   ]
  },
  {
   "cell_type": "code",
   "execution_count": 24,
   "metadata": {},
   "outputs": [],
   "source": [
    "#Coletando link para os PFD\n",
    "links = []\n",
    "for doc in soup.find_all('a'):\n",
    "    link = doc.get_text()\n",
    "    links.append(link)"
   ]
  },
  {
   "cell_type": "code",
   "execution_count": 25,
   "metadata": {
    "scrolled": true
   },
   "outputs": [
    {
     "name": "stdout",
     "output_type": "stream",
     "text": [
      "0 :  [To Parent Directory]\n",
      "1 :  Adamson_chi.pdf\n",
      "2 :  Adamson_eng.pdf\n",
      "3 :  Alawin_eng.pdf\n",
      "4 :  Bakhash.pdf\n",
      "5 :  Barbour_chi.pdf\n",
      "6 :  Barbour_eng.pdf\n",
      "7 :  Barkovitz_chi.pdf\n",
      "8 :  Barkovitz_eng.pdf\n",
      "9 :  Barry_chi.pdf\n",
      "10 :  Barry_eng.pdf\n",
      "11 :  Berggren_eng.pdf\n",
      "12 :  Darwood_chi.pdf\n",
      "13 :  Darwood_eng.pdf\n",
      "14 :  De Ruyter.pdf\n",
      "15 :  Dhar_chi.pdf\n",
      "16 :  Dhar_eng.pdf\n",
      "17 :  Du_eng.pdf\n",
      "18 :  Fan_chi.pdf\n",
      "19 :  Fan_eng.pdf\n",
      "20 :  Gainsborough_chi.pdf\n",
      "21 :  Gainsborough_eng.pdf\n",
      "22 :  Geng_chi.pdf\n",
      "23 :  Geng_eng.pdf\n",
      "24 :  Gilmore_chi.pdf\n",
      "25 :  Gilmore_eng.pdf\n",
      "26 :  Heinrich_eng.pdf\n",
      "27 :  Hoshi_chi.pdf\n",
      "28 :  Hoshi_eng.pdf\n",
      "29 :  Kato.pdf\n",
      "30 :  Kumar_eng.pdf\n",
      "31 :  Lee_chi.pdf\n",
      "32 :  Lee_eng.pdf\n",
      "33 :  Leliveld_chi.pdf\n",
      "34 :  Leliveld_eng.pdf\n",
      "35 :  Meng_chi.pdf\n",
      "36 :  Meng_eng.pdf\n",
      "37 :  Min_chi.pdf\n",
      "38 :  Min_eng.pdf\n",
      "39 :  Ni_chi.pdf\n",
      "40 :  Ni_eng.pdf\n",
      "41 :  Oyama_eng.pdf\n",
      "42 :  Paik_chi.pdf\n",
      "43 :  Paik_eng.pdf\n",
      "44 :  Peng_chi.pdf\n",
      "45 :  Peng_eng.pdf\n",
      "46 :  petrochina_chi.pdf\n",
      "47 :  Ragaban_eng.pdf\n",
      "48 :  Schnupke_eng.pdf\n",
      "49 :  Schnüpke_chi.pdf\n",
      "50 :  Snelling_chi.pdf\n",
      "51 :  Snelling_eng.pdf\n",
      "52 :  Taylor_chi.pdf\n",
      "53 :  Taylor_eng.pdf\n",
      "54 :  Tritto_eng.pdf\n",
      "55 :  Tsesmelis_eng.pdf\n",
      "56 :  Tunison_eng.pdf\n",
      "57 :  Voelkel_chi.pdf\n",
      "58 :  Voelkel_eng.pdf\n",
      "59 :  WWagner_chi.pdf\n",
      "60 :  WWagner_eng.pdf\n",
      "61 :  Xiong.pdf\n",
      "62 :  Zahalka_chi.pdf\n",
      "63 :  Zahalka_eng.pdf\n",
      "64 :  Zhou.pdf\n"
     ]
    }
   ],
   "source": [
    "# Iterando por todos os links de PDF e baixando na pasta atual\n",
    "for n in range(len(links)):\n",
    "    doc_url = url + '/' + pasta + '/' + links[n]\n",
    "    r = requests.get(doc_url)\n",
    "    with open(links[n],'wb') as f:\n",
    "        f.write(r.content)\n",
    "        print(n, \": \", links[n])"
   ]
  },
  {
   "cell_type": "code",
   "execution_count": null,
   "metadata": {},
   "outputs": [],
   "source": []
  }
 ],
 "metadata": {
  "kernelspec": {
   "display_name": "Python 3",
   "language": "python",
   "name": "python3"
  },
  "language_info": {
   "codemirror_mode": {
    "name": "ipython",
    "version": 3
   },
   "file_extension": ".py",
   "mimetype": "text/x-python",
   "name": "python",
   "nbconvert_exporter": "python",
   "pygments_lexer": "ipython3",
   "version": "3.6.4"
  }
 },
 "nbformat": 4,
 "nbformat_minor": 2
}
