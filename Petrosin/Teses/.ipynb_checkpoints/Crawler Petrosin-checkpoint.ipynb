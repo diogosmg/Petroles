{
 "cells": [
  {
   "cell_type": "markdown",
   "metadata": {},
   "source": [
    "O objetivo deste script é fazer um crawler para buscar as teses e artigos cadastradas no Petrosin.\n",
    "http://aleph.cenpes.petrobras.com.br/LINKS/"
   ]
  },
  {
   "cell_type": "code",
   "execution_count": 5,
   "metadata": {},
   "outputs": [],
   "source": [
    "import requests\n",
    "from bs4 import BeautifulSoup as bs"
   ]
  },
  {
   "cell_type": "code",
   "execution_count": 6,
   "metadata": {},
   "outputs": [],
   "source": [
    "#Requisitando url com o link para os PDF\n",
    "url = 'http://aleph.cenpes.petrobras.com.br/LINKS/'\n",
    "pasta = 'Teses'\n",
    "f = requests.get(url + '/' + pasta).text \n",
    "soup = bs(f, \"html.parser\")"
   ]
  },
  {
   "cell_type": "code",
   "execution_count": 7,
   "metadata": {},
   "outputs": [],
   "source": [
    "#Coletando link para os PFD\n",
    "links = []\n",
    "for doc in soup.find_all('a'):\n",
    "    link = doc.get_text()\n",
    "    links.append(link)"
   ]
  },
  {
   "cell_type": "code",
   "execution_count": null,
   "metadata": {},
   "outputs": [
    {
     "name": "stdout",
     "output_type": "stream",
     "text": [
      "0 :  [To Parent Directory]\n",
      "1 :  ABDALLA_ETC_Na_migracao_em_um_modelo_de_velocidade_verticalmente_nao_homogenea...pdf\n",
      "2 :  ABDRADE_FI_Estudo_de_usuarios...pdf.pdf\n",
      "3 :  ABEL_M_Estudo_da_pericia...pdf\n",
      "4 :  ABOUL-FOTOUH_KH_Modelling_and_optimization_for_a_rotating....pdf\n",
      "5 :  ABREU_CEBS_Uma_aplicacao_de_modelagem....pdf\n",
      "6 :  ABUNAHMAN_SS_Computational_tool_EoS_parameter_estimation...pdf\n",
      "7 :  ACCIOLY_RMS_Analise_da_duracao_do_tempo_de_vida_de_bombas_centrifugas_submersas...pdf\n",
      "8 :  ACCIOLY_RMS_Modelando_estrutruras_de_dependencia_atraves_de_copulas...pdf\n",
      "9 :  ADERALDO_RC_Analise_de_espacamento_entre_pocos_utilizando_modelagem_estocastica...pdf\n",
      "10 :  ADERALDO_RC_Utilizando_modelagem_estocastica_e_dados_de_afloramento...pdf\n",
      "11 :  AFFONSO_AO_Estudo_das_feicoes.pdf\n",
      "12 :  AFFONSO_MA_Avaliacao_economica_de_uma_oportunidade_exploratoria_de_petroleo...pdf\n",
      "13 :  AGGARWAL_A_Synthesis_and_analysis_of....pdf\n",
      "14 :  AGUIAR_JUNIOR_A_influencia_das_correcoes_estaticas_na_inversao_cinemtica...pdf\n",
      "15 :  AGUIAR_MR_Purificacao...pdf\n",
      "16 :  AIRES_JR_Evolucao_tectonica_da_bacia_do_baixo_Amazonas...pdf\n",
      "17 :  AIRES_MAC_Otimizacao_aplicada...pdf\n",
      "18 :  AIUBE_FAL_Avaliacao_economica_de_projetos_petroliferos_sob_condicoes_de_incertezas_de_precos...pdf\n",
      "19 :  ALAMINO_RJC_A_influencia...pdf\n",
      "20 :  ALBAGLI_AN_Cossimulacao_de_sistemas_eletricos...pdf\n",
      "21 :  ALBAGLI_RC_Deposicao_de_parafina_em_escomentos_turbulentos..pdf\n",
      "22 :  ALBERTAO_GA_Abordagem_interdisciplinar_e_epistemologica_sobre_as_evidencias_do_limite_cretaceo_terciario_v_1...pdf\n",
      "23 :  ALBERTAO_GA_Abordagem_interdisciplinar_e_epistemologica_sobre_as_evidencias_do_limite_cretaceo_terciario_v_2...pdf\n",
      "24 :  ALBERTAO_GA_Controle_de_la_paleotopographie_des_fonds_sous_marins_sur_architecture_des_systemes_tubiditiques...pdf\n",
      "25 :  ALEGRE_L_An_investigation_of_the_applicability_of_expert_systems_to_diagnose_formatino_damage_problems...pdf\n",
      "26 :  ALEXANDRE_MJO_O_georritmo_do_cavalo_de_pau_nos_municipios_da_area_do_petroleo_potiguar...pdf\n",
      "27 :  ALHABDAN_FM_Prediction_of_liquid_thermal...pdf\n",
      "28 :  ALMEIDA_AL_Gerenciamento_de_alarmes_em_plataformas_marítimas_de_produção_de_hidrocarbonetos...pdf\n",
      "29 :  ALMEIDA_AR_Aplicacao_da.pdf\n",
      "30 :  ALMEIDA_AS_Requisitos_Fundamentais_para...pdf\n",
      "31 :  ALMEIDA_MA_Investigacao_da_resolucao_no_metodo_sismico_utilizando_o_metodo_do_tracado_do_raio...pdf\n",
      "32 :  ALMEIDA_MBB_Bio-oleo_a_partir...pdf\n",
      "33 :  ALMEIDA_NETO_Otimizacao_dinamica...pdf\n",
      "34 :  ALMEIDA_NETTO_SL_Reducao_de_incerteza...pdf\n",
      "35 :  ALONSO_PSR_O_gas_natural...pdf\n",
      "36 :  ALVARES_DRS_Sintese_caracterizacao_e_avaliacao...pdf\n",
      "37 :  ALVES_AC_Petrografia_e_diagenese_dos_arenitos_reservatorios_da_formacao_pendencia...pdf\n",
      "38 :  ALVES_ALR_Disponibilidade_instantanea_de_pocos_submarinos_durante_a_fase_de_producao...pdf\n",
      "39 :  ALVES_FJ_Producao_e_fornecimento_de_vapor...pdf\n",
      "40 :  ALVES_IN_Slug_flow_phenomena....pdf\n",
      "41 :  ALVES_MM_An_interference_aware_virtual_machine_placement...pdf\n",
      "42 :  ALVES_MRFV_Opcoes_tecnologicas_para_deposicao_de_tenorm_da_industria_de_exploracao_e_producao_de_petroleo...pdf\n",
      "43 :  ALVES_MRFV_Reciclagem_de_borra_oleosa...pdf\n",
      "44 :  ALVES_NETO_SJ_Estudo_de_escoamentos_bifasicos_em_gasodutos_atraves_de_modelagem_mecanicista...pdf\n",
      "45 :  AMARAL_SC_Estudo_de_misturas_laterita...pdf\n",
      "46 :  AMARAL_TP_Integracao_energetica_de...pdf\n",
      "47 :  AMBROSIO_AAPGO_Analise_de_desempenho_de_desidratacao...pdf\n"
     ]
    }
   ],
   "source": [
    "# Iterando por todos os links de PDF e baixando na pasta atual\n",
    "for n in range(len(links)):\n",
    "    doc_url = url + '/' + pasta + '/' + links[n]\n",
    "    r = requests.get(doc_url)\n",
    "    with open(links[n],'wb') as f:\n",
    "        f.write(r.content)\n",
    "        print(n, \": \", links[n])"
   ]
  },
  {
   "cell_type": "code",
   "execution_count": null,
   "metadata": {},
   "outputs": [],
   "source": []
  }
 ],
 "metadata": {
  "kernelspec": {
   "display_name": "Python 3",
   "language": "python",
   "name": "python3"
  },
  "language_info": {
   "codemirror_mode": {
    "name": "ipython",
    "version": 3
   },
   "file_extension": ".py",
   "mimetype": "text/x-python",
   "name": "python",
   "nbconvert_exporter": "python",
   "pygments_lexer": "ipython3",
   "version": "3.6.4"
  }
 },
 "nbformat": 4,
 "nbformat_minor": 2
}
